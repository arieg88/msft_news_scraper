{
 "cells": [
  {
   "cell_type": "markdown",
<<<<<<< HEAD
   "metadata": {
    "id": "n80Xyjxmew45"
   },
=======
   "metadata": {},
>>>>>>> d0db4468b71c2be214fe68171c691dbba0946069
   "source": [
    "# Introduction\n"
   ]
  },
  {
   "cell_type": "markdown",
   "metadata": {},
   "source": [
<<<<<<< HEAD
    "# 📊 **Financial Article Sentiment Analysis**\n",
    "\n",
    "In this notebook, we explore a dataset of **financial articles** scraped from **Yahoo Finance**. The primary goal is to analyze the **sentiment** of these articles and derive meaningful insights from the textual data. We will perform the following steps:\n",
    "\n",
    "---\n",
    "\n",
    "### 🛠️ **1. Imports**\n",
    "We will import the necessary libraries and modules required for **data manipulation**, **natural language processing**, and **sentiment analysis**. This includes libraries for web scraping, data handling, sentiment analysis, and visualization.\n",
    "\n",
    "---\n",
    "\n",
    "### 📥 **2. Data Loading**\n",
    "We will load the dataset containing the scraped articles, which are stored in **JSON format**. This dataset comprises various **financial topics**, allowing us to conduct a comprehensive sentiment analysis.\n",
    "\n",
    "---\n",
    "\n",
    "### 🧹 **3. Data Cleaning and Preprocessing**\n",
    "The loaded data will undergo several preprocessing steps, including:\n",
    "\n",
    "- 🔄 **Removing duplicates** and handling missing values.\n",
    "- 🧽 Cleaning the text by **removing URLs**, **special characters**, and **stop words**.\n",
    "- 📅 **Converting dates** to the appropriate format for analysis.\n",
    "\n",
    "---\n",
    "\n",
    "### 🤖 **4. Sentiment Analysis**\n",
    "We will utilize **Natural Language Processing (NLP)** techniques to analyze the sentiment of the articles. This will involve:\n",
    "\n",
    "- 🧠 Applying the **VADER** sentiment analysis tool for initial scoring.\n",
    "- 🚀 Leveraging **pre-trained transformer models**, such as **FinBERT**, to gain deeper insights into the sentiment conveyed in the articles.\n",
    "\n",
    "---\n",
    "\n",
    "### 🔍 **5. Entity and Emotion Extraction**\n",
    "Using **SpaCy** and **NRC Lexicon**, we will extract **entities** and associated **emotions** from the text to enrich our analysis further.\n",
    "\n",
    "---\n",
    "\n",
    "### 📈 **6. Data Visualization and Reporting**\n",
    "Finally, we will **visualize** the sentiment scores and present the findings in a structured format, allowing for an easier interpretation of the **financial sentiment trends over time**.\n",
    "\n",
    "---\n",
    "\n",
    "By the end of this notebook, we aim to obtain a **consolidated DataFrame** that captures **essential information** and insights derived from the financial articles, paving the way for **informed decision-making** in financial contexts.\n"
=======
    "In this notebook, we explore a dataset of financial articles scraped from Yahoo Finance. The primary goal is to analyze the sentiment of these articles and derive meaningful insights from the textual data. We will perform the following steps:\n",
    "\n",
    "1. **Imports**: We will import the necessary libraries and modules required for data manipulation, natural language processing, and sentiment analysis. This includes libraries for web scraping, data handling, sentiment analysis, and visualization.\n",
    "\n",
    "2. **Data Loading**: We will load the dataset containing the scraped articles, which are stored in JSON format. This dataset comprises various financial topics, allowing us to conduct a comprehensive sentiment analysis.\n",
    "\n",
    "3. **Data Cleaning and Preprocessing**: The loaded data will undergo several preprocessing steps, including:\n",
    "   - Removing duplicates and handling missing values.\n",
    "   - Cleaning the text by removing URLs, special characters, and stop words.\n",
    "   - Converting dates to the appropriate format for analysis.\n",
    "\n",
    "4. **Sentiment Analysis**: We will utilize Natural Language Processing (NLP) techniques to analyze the sentiment of the articles. This will involve:\n",
    "   - Applying the VADER sentiment analysis tool for initial scoring.\n",
    "   - Leveraging pre-trained transformer models, such as FinBERT, to gain deeper insights into the sentiment conveyed in the articles.\n",
    "\n",
    "5. **Entity and Emotion Extraction**: Using SpaCy and NRC Lexicon, we will extract entities and associated emotions from the text to enrich our analysis further.\n",
    "\n",
    "6. **Data Visualization and Reporting**: Finally, we will visualize the sentiment scores and present the findings in a structured format, allowing for an easier interpretation of the financial sentiment trends over time.\n",
    "\n",
    "By the end of this notebook, we aim to obtain a consolidated DataFrame that captures essential information and insights derived from the financial articles, paving the way for informed decision-making in financial contexts."
>>>>>>> d0db4468b71c2be214fe68171c691dbba0946069
   ]
  },
  {
   "cell_type": "markdown",
<<<<<<< HEAD
   "metadata": {
    "id": "79YhR9bqew48"
   },
=======
   "metadata": {},
>>>>>>> d0db4468b71c2be214fe68171c691dbba0946069
   "source": [
    "# Imports and Data Loading"
   ]
  },
  {
   "cell_type": "markdown",
<<<<<<< HEAD
   "metadata": {
    "id": "qBTtR_W5ew48"
   },
   "source": [
    "### Imports\n",
    "\n",
    "### 🧰 **Importing Essential Libraries**\n",
    "\n",
    "In this section, we import essential libraries for **data processing** and **analysis**. Key libraries include:\n",
    "\n",
    "- 🌐 **Requests** and **BeautifulSoup** for **web scraping**.\n",
    "- 🐼 **Pandas** and 🔢 **NumPy** for **data manipulation** and **numerical operations**.\n",
    "- 📚 **NLTK** for **natural language processing** tasks, including **sentiment analysis** with **VADER**.\n",
    "- 🤖 **Transformers** for **advanced NLP models** like **BART** for **summarization**.\n",
    "- 🧠 **SpaCy** for **efficient entity extraction**.\n",
    "- 🎭 **nrclex** for **emotion analysis** based on the **NRC lexicon**.\n",
    "- 📊 **BERTopic** and **SentenceTransformers** for **topic modeling** and **semantic similarity**.\n",
    "\n",
    "These libraries form the **backbone** of our analysis workflow, enabling us to extract insights from the textual data. 💡\n"
=======
   "metadata": {},
   "source": [
    "### Imports\n",
    "\n",
    "In this section, we import essential libraries for data processing and analysis. Key libraries include:\n",
    "- **Requests** and **BeautifulSoup** for web scraping.\n",
    "- **Pandas** and **NumPy** for data manipulation and numerical operations.\n",
    "- **NLTK** for natural language processing tasks, including sentiment analysis with VADER.\n",
    "- **Transformers** for advanced NLP models like BART for summarization.\n",
    "- **SpaCy** for efficient entity extraction.\n",
    "- **nrclex** for emotion analysis based on the NRC lexicon.\n",
    "- **BERTopic** and **SentenceTransformers** for topic modeling and semantic similarity.\n",
    "\n",
    "These libraries form the backbone of our analysis workflow.\n"
>>>>>>> d0db4468b71c2be214fe68171c691dbba0946069
   ]
  },
  {
   "cell_type": "code",
   "execution_count": null,
   "metadata": {
<<<<<<< HEAD
    "id": "RSzUZvw73ckb"
=======
    "colab": {
     "base_uri": "https://localhost:8080/"
    },
    "id": "RSzUZvw73ckb",
    "outputId": "600172eb-703a-4c1f-8930-d3de985d1419"
>>>>>>> d0db4468b71c2be214fe68171c691dbba0946069
   },
   "outputs": [],
   "source": [
    "# ! pip install pandas numpy dash dash-bootstrap-components plotly wordcloud matplotlib nltk textblob nrclex bertopic sentence_transformers transformers bertopic"
   ]
  },
  {
   "cell_type": "code",
   "execution_count": 1,
   "metadata": {
    "id": "RsLxbLe6D7ro"
   },
   "outputs": [],
   "source": [
    "import requests\n",
    "from bs4 import BeautifulSoup\n",
    "import urllib.parse\n",
    "import time\n",
    "import numpy as np\n",
    "import pandas as pd\n",
    "import re\n",
    "from nltk.corpus import stopwords\n",
    "import nltk\n",
    "from nltk.sentiment import SentimentIntensityAnalyzer\n",
    "from nltk.tokenize import sent_tokenize\n",
    "from transformers import pipeline\n",
    "import spacy\n",
    "from nrclex import NRCLex\n",
    "from bertopic import BERTopic\n",
<<<<<<< HEAD
    "from transformers import pipeline\n",
    "from sentence_transformers import SentenceTransformer, util"
=======
    "from sentence_transformers import SentenceTransformer\n"
>>>>>>> d0db4468b71c2be214fe68171c691dbba0946069
   ]
  },
  {
   "cell_type": "code",
<<<<<<< HEAD
   "execution_count": null,
=======
   "execution_count": 2,
>>>>>>> d0db4468b71c2be214fe68171c691dbba0946069
   "metadata": {
    "colab": {
     "base_uri": "https://localhost:8080/"
    },
    "id": "tvmJAgQe371D",
<<<<<<< HEAD
    "outputId": "4b73416a-b4ad-47a4-b290-b4ffb855a617"
   },
   "outputs": [],
   "source": [
    "# Download the 'stopwords' corpus\n",
    "nltk.download('stopwords')\n",
    "\n",
    "# Optionally, download 'punkt' if you haven't already\n",
    "nltk.download('punkt')\n",
    "\n",
    "nltk.download('punkt_tab')\n",
    "\n",
    "nltk.download('vader_lexicon')"
   ]
  },
  {
   "cell_type": "markdown",
   "metadata": {
    "id": "N0R7QZVtew4-"
   },
   "source": [
    "### Data Loading\n",
    "\n",
    "In this section, we load the dataset containing scraped articles from Yahoo Finance, specifically focusing on Microsoft. The dataset features the following columns: **Date**, **Title**, **Author**, and **Text**. It encompasses articles from January 2024 to mid-October 2024. After completing the data cleaning process in this notebook, we expect to have 1,083 unique articles for analysis."
   ]
  },
  {
   "cell_type": "code",
   "execution_count": 321,
   "metadata": {
    "colab": {
     "base_uri": "https://localhost:8080/",
     "height": 206
    },
    "id": "OBYmzAJkbmHT",
    "outputId": "b7ed3c72-cdfa-4e96-d2aa-46e0e8254adc"
   },
   "outputs": [
    {
     "data": {
      "text/html": [
       "<div>\n",
       "<style scoped>\n",
       "    .dataframe tbody tr th:only-of-type {\n",
       "        vertical-align: middle;\n",
       "    }\n",
       "\n",
       "    .dataframe tbody tr th {\n",
       "        vertical-align: top;\n",
       "    }\n",
       "\n",
       "    .dataframe thead th {\n",
       "        text-align: right;\n",
       "    }\n",
       "</style>\n",
       "<table border=\"1\" class=\"dataframe\">\n",
       "  <thead>\n",
       "    <tr style=\"text-align: right;\">\n",
       "      <th></th>\n",
       "      <th>Date</th>\n",
       "      <th>Title</th>\n",
       "      <th>Author</th>\n",
       "      <th>Text</th>\n",
       "    </tr>\n",
       "  </thead>\n",
       "  <tbody>\n",
       "    <tr>\n",
       "      <th>0</th>\n",
       "      <td>2024-01-31 11:56:19+00:00</td>\n",
       "      <td>Microsoft beats Q2 earnings on AI, cloud strength</td>\n",
       "      <td>Daniel Howley    · Technology Editor</td>\n",
       "      <td>Microsoft (MSFT) announced its second quarter ...</td>\n",
       "    </tr>\n",
       "    <tr>\n",
       "      <th>1</th>\n",
       "      <td>2024-01-03 15:00:00+00:00</td>\n",
       "      <td>If You Invested $10,000 in Microsoft When Saty...</td>\n",
       "      <td>Jeremy Bowman, The Motley Fool</td>\n",
       "      <td>Microsoft (NASDAQ: MSFT) is back on top of the...</td>\n",
       "    </tr>\n",
       "    <tr>\n",
       "      <th>2</th>\n",
       "      <td>2024-01-09 11:00:00+00:00</td>\n",
       "      <td>Why Microsoft Stock Rallied 57% in 2023</td>\n",
       "      <td>Danny Vena, The Motley Fool</td>\n",
       "      <td>Shares of Microsoft (NASDAQ: MSFT) charged sha...</td>\n",
       "    </tr>\n",
       "    <tr>\n",
       "      <th>3</th>\n",
       "      <td>2024-01-30 21:35:57+00:00</td>\n",
       "      <td>Microsoft Corp (MSFT) Reports Robust Growth wi...</td>\n",
       "      <td>GuruFocus Research</td>\n",
       "      <td>Revenue: $62.0 billion, an 18% increase year-o...</td>\n",
       "    </tr>\n",
       "    <tr>\n",
       "      <th>4</th>\n",
       "      <td>2024-01-04 08:01:09+00:00</td>\n",
       "      <td>Microsoft is adding an AI button to PC keyboar...</td>\n",
       "      <td>Daniel Howley    · Technology Editor</td>\n",
       "      <td>Microsoft (MSFT) is doubling down on its commi...</td>\n",
       "    </tr>\n",
       "  </tbody>\n",
       "</table>\n",
       "</div>"
      ],
      "text/plain": [
       "                       Date  \\\n",
       "0 2024-01-31 11:56:19+00:00   \n",
       "1 2024-01-03 15:00:00+00:00   \n",
       "2 2024-01-09 11:00:00+00:00   \n",
       "3 2024-01-30 21:35:57+00:00   \n",
       "4 2024-01-04 08:01:09+00:00   \n",
       "\n",
       "                                               Title  \\\n",
       "0  Microsoft beats Q2 earnings on AI, cloud strength   \n",
       "1  If You Invested $10,000 in Microsoft When Saty...   \n",
       "2            Why Microsoft Stock Rallied 57% in 2023   \n",
       "3  Microsoft Corp (MSFT) Reports Robust Growth wi...   \n",
       "4  Microsoft is adding an AI button to PC keyboar...   \n",
       "\n",
       "                                  Author  \\\n",
       "0   Daniel Howley    · Technology Editor   \n",
       "1        Jeremy Bowman, The Motley Fool    \n",
       "2           Danny Vena, The Motley Fool    \n",
       "3                    GuruFocus Research    \n",
       "4   Daniel Howley    · Technology Editor   \n",
       "\n",
       "                                                Text  \n",
       "0  Microsoft (MSFT) announced its second quarter ...  \n",
       "1  Microsoft (NASDAQ: MSFT) is back on top of the...  \n",
       "2  Shares of Microsoft (NASDAQ: MSFT) charged sha...  \n",
       "3  Revenue: $62.0 billion, an 18% increase year-o...  \n",
       "4  Microsoft (MSFT) is doubling down on its commi...  "
      ]
     },
     "execution_count": 321,
     "metadata": {},
     "output_type": "execute_result"
    }
   ],
   "source": [
    "df = pd.DataFrame()\n",
    "for month in range(1, 11):\n",
    "  path = f'./articles/2024/{month}_articles.json'\n",
    "  df = pd.concat([df, pd.read_json(path)])\n",
    "\n",
    "df.reset_index(drop=True, inplace=True)\n",
    "df.head()"
   ]
  },
  {
   "cell_type": "markdown",
   "metadata": {
    "id": "oY7I5KFIew4-"
   },
   "source": [
    "# Data Cleaning and Preprocessing"
   ]
  },
  {
   "cell_type": "markdown",
   "metadata": {
    "id": "yCNDmlPWew4-"
   },
   "source": [
    "In this section, we focus on cleaning and preprocessing the dataset to ensure it is ready for analysis. The first step involves converting the **Date** column into a datetime format to facilitate time-based operations. After sorting the DataFrame by the date, we remove any duplicate entries based on the **Title** and **Date** columns, ensuring each article is unique. We also drop any rows with missing values and reset the index for a clean DataFrame. Finally, we extract the month from the date for potential grouping and analysis."
   ]
  },
  {
   "cell_type": "code",
   "execution_count": 322,
   "metadata": {
    "colab": {
     "base_uri": "https://localhost:8080/",
     "height": 241
=======
    "outputId": "92221f6b-66be-4637-d145-7fee97c4d52b"
   },
   "outputs": [
    {
     "name": "stderr",
     "output_type": "stream",
     "text": [
      "[nltk_data] Downloading package stopwords to C:\\Users\\Arie\n",
      "[nltk_data]     Gruber\\AppData\\Roaming\\nltk_data...\n",
      "[nltk_data]   Package stopwords is already up-to-date!\n",
      "[nltk_data] Downloading package punkt to C:\\Users\\Arie\n",
      "[nltk_data]     Gruber\\AppData\\Roaming\\nltk_data...\n",
      "[nltk_data]   Package punkt is already up-to-date!\n",
      "[nltk_data] Downloading package punkt_tab to C:\\Users\\Arie\n",
      "[nltk_data]     Gruber\\AppData\\Roaming\\nltk_data...\n",
      "[nltk_data]   Package punkt_tab is already up-to-date!\n",
      "[nltk_data] Downloading package vader_lexicon to C:\\Users\\Arie\n",
      "[nltk_data]     Gruber\\AppData\\Roaming\\nltk_data...\n",
      "[nltk_data]   Package vader_lexicon is already up-to-date!\n"
     ]
>>>>>>> d0db4468b71c2be214fe68171c691dbba0946069
    },
    "id": "CwG9DFkseB8P",
    "outputId": "22a815b9-dec2-49da-cf1d-899efe7d7c9f"
   },
   "outputs": [
    {
<<<<<<< HEAD
     "name": "stdout",
     "output_type": "stream",
     "text": [
      "shape before removing duplicates(1491, 4)\n",
      "shape after removing duplicates(1083, 4)\n"
     ]
=======
     "data": {
      "text/plain": [
       "True"
      ]
     },
     "execution_count": 2,
     "metadata": {},
     "output_type": "execute_result"
    }
   ],
   "source": [
    "# Download the 'stopwords' corpus\n",
    "nltk.download('stopwords')\n",
    "\n",
    "# Optionally, download 'punkt' if you haven't already\n",
    "nltk.download('punkt')\n",
    "\n",
    "nltk.download('punkt_tab')\n",
    "\n",
    "nltk.download('vader_lexicon')"
   ]
  },
  {
   "cell_type": "markdown",
   "metadata": {},
   "source": [
    "### Data Loading\n",
    "\n",
    "In this section, we load the dataset containing scraped articles from Yahoo Finance, specifically focusing on Microsoft. The dataset features the following columns: **Date**, **Title**, **Author**, and **Text**. It encompasses articles from January 2024 to mid-October 2024. After completing the data cleaning process in this notebook, we expect to have 1,083 unique articles for analysis."
   ]
  },
  {
   "cell_type": "code",
   "execution_count": 20,
   "metadata": {
    "colab": {
     "base_uri": "https://localhost:8080/",
     "height": 293
>>>>>>> d0db4468b71c2be214fe68171c691dbba0946069
    },
    "id": "OBYmzAJkbmHT",
    "outputId": "e284ebe3-b7ec-4921-9358-ec848639e10d"
   },
   "outputs": [
    {
     "data": {
      "text/html": [
       "<div>\n",
       "<style scoped>\n",
       "    .dataframe tbody tr th:only-of-type {\n",
       "        vertical-align: middle;\n",
       "    }\n",
       "\n",
       "    .dataframe tbody tr th {\n",
       "        vertical-align: top;\n",
       "    }\n",
       "\n",
       "    .dataframe thead th {\n",
       "        text-align: right;\n",
       "    }\n",
       "</style>\n",
       "<table border=\"1\" class=\"dataframe\">\n",
       "  <thead>\n",
       "    <tr style=\"text-align: right;\">\n",
       "      <th></th>\n",
       "      <th>Date</th>\n",
       "      <th>Title</th>\n",
       "      <th>Author</th>\n",
       "      <th>Text</th>\n",
<<<<<<< HEAD
       "      <th>Month</th>\n",
=======
>>>>>>> d0db4468b71c2be214fe68171c691dbba0946069
       "    </tr>\n",
       "  </thead>\n",
       "  <tbody>\n",
       "    <tr>\n",
       "      <th>0</th>\n",
<<<<<<< HEAD
       "      <td>2024-01-01 12:00:27+00:00</td>\n",
       "      <td>Investors in Microsoft (NASDAQ:MSFT) have seen...</td>\n",
       "      <td>editorial-team@simplywallst.com (Simply Wall...</td>\n",
       "      <td>The most you can lose on any stock (assuming y...</td>\n",
       "      <td>2024-01</td>\n",
       "    </tr>\n",
       "    <tr>\n",
       "      <th>1</th>\n",
       "      <td>2024-01-02 15:09:36+00:00</td>\n",
       "      <td>Best AI Stock 2024: Alphabet Stock vs. Microso...</td>\n",
       "      <td>Parkev Tatevosian, CFA, The Motley Fool</td>\n",
       "      <td>Fool.com contributor Parkev Tatevosian compare...</td>\n",
       "      <td>2024-01</td>\n",
       "    </tr>\n",
       "    <tr>\n",
       "      <th>2</th>\n",
       "      <td>2024-01-03 14:42:51+00:00</td>\n",
       "      <td>1 Artificial Intelligence (AI) Stock Poised to...</td>\n",
       "      <td>Parkev Tatevosian, CFA, The Motley Fool</td>\n",
       "      <td>Fool.com contributor Parkev Tatevosian highlig...</td>\n",
       "      <td>2024-01</td>\n",
       "    </tr>\n",
       "    <tr>\n",
       "      <th>3</th>\n",
       "      <td>2024-01-03 15:00:00+00:00</td>\n",
       "      <td>If You Invested $10,000 in Microsoft When Saty...</td>\n",
       "      <td>Jeremy Bowman, The Motley Fool</td>\n",
       "      <td>Microsoft (NASDAQ: MSFT) is back on top of the...</td>\n",
       "      <td>2024-01</td>\n",
       "    </tr>\n",
       "    <tr>\n",
       "      <th>4</th>\n",
       "      <td>2024-01-03 15:29:29+00:00</td>\n",
       "      <td>Microsoft Copilot is now available on iOS and ...</td>\n",
       "      <td>Aisha Malik</td>\n",
       "      <td>Over the holiday season, Microsoft quietly lau...</td>\n",
       "      <td>2024-01</td>\n",
=======
       "      <td>2024-01-31 11:56:19+00:00</td>\n",
       "      <td>Microsoft beats Q2 earnings on AI, cloud strength</td>\n",
       "      <td>Daniel Howley    · Technology Editor</td>\n",
       "      <td>Microsoft (MSFT) announced its second quarter ...</td>\n",
       "    </tr>\n",
       "    <tr>\n",
       "      <th>1</th>\n",
       "      <td>2024-01-03 15:00:00+00:00</td>\n",
       "      <td>If You Invested $10,000 in Microsoft When Saty...</td>\n",
       "      <td>Jeremy Bowman, The Motley Fool</td>\n",
       "      <td>Microsoft (NASDAQ: MSFT) is back on top of the...</td>\n",
       "    </tr>\n",
       "    <tr>\n",
       "      <th>2</th>\n",
       "      <td>2024-01-09 11:00:00+00:00</td>\n",
       "      <td>Why Microsoft Stock Rallied 57% in 2023</td>\n",
       "      <td>Danny Vena, The Motley Fool</td>\n",
       "      <td>Shares of Microsoft (NASDAQ: MSFT) charged sha...</td>\n",
       "    </tr>\n",
       "    <tr>\n",
       "      <th>3</th>\n",
       "      <td>2024-01-30 21:35:57+00:00</td>\n",
       "      <td>Microsoft Corp (MSFT) Reports Robust Growth wi...</td>\n",
       "      <td>GuruFocus Research</td>\n",
       "      <td>Revenue: $62.0 billion, an 18% increase year-o...</td>\n",
       "    </tr>\n",
       "    <tr>\n",
       "      <th>4</th>\n",
       "      <td>2024-01-04 08:01:09+00:00</td>\n",
       "      <td>Microsoft is adding an AI button to PC keyboar...</td>\n",
       "      <td>Daniel Howley    · Technology Editor</td>\n",
       "      <td>Microsoft (MSFT) is doubling down on its commi...</td>\n",
>>>>>>> d0db4468b71c2be214fe68171c691dbba0946069
       "    </tr>\n",
       "  </tbody>\n",
       "</table>\n",
       "</div>"
      ],
      "text/plain": [
       "                       Date  \\\n",
<<<<<<< HEAD
       "0 2024-01-01 12:00:27+00:00   \n",
       "1 2024-01-02 15:09:36+00:00   \n",
       "2 2024-01-03 14:42:51+00:00   \n",
       "3 2024-01-03 15:00:00+00:00   \n",
       "4 2024-01-03 15:29:29+00:00   \n",
       "\n",
       "                                               Title  \\\n",
       "0  Investors in Microsoft (NASDAQ:MSFT) have seen...   \n",
       "1  Best AI Stock 2024: Alphabet Stock vs. Microso...   \n",
       "2  1 Artificial Intelligence (AI) Stock Poised to...   \n",
       "3  If You Invested $10,000 in Microsoft When Saty...   \n",
       "4  Microsoft Copilot is now available on iOS and ...   \n",
       "\n",
       "                                              Author  \\\n",
       "0    editorial-team@simplywallst.com (Simply Wall...   \n",
       "1           Parkev Tatevosian, CFA, The Motley Fool    \n",
       "2           Parkev Tatevosian, CFA, The Motley Fool    \n",
       "3                    Jeremy Bowman, The Motley Fool    \n",
       "4                                       Aisha Malik    \n",
       "\n",
       "                                                Text    Month  \n",
       "0  The most you can lose on any stock (assuming y...  2024-01  \n",
       "1  Fool.com contributor Parkev Tatevosian compare...  2024-01  \n",
       "2  Fool.com contributor Parkev Tatevosian highlig...  2024-01  \n",
       "3  Microsoft (NASDAQ: MSFT) is back on top of the...  2024-01  \n",
       "4  Over the holiday season, Microsoft quietly lau...  2024-01  "
      ]
     },
     "execution_count": 322,
=======
       "0 2024-01-31 11:56:19+00:00   \n",
       "1 2024-01-03 15:00:00+00:00   \n",
       "2 2024-01-09 11:00:00+00:00   \n",
       "3 2024-01-30 21:35:57+00:00   \n",
       "4 2024-01-04 08:01:09+00:00   \n",
       "\n",
       "                                               Title  \\\n",
       "0  Microsoft beats Q2 earnings on AI, cloud strength   \n",
       "1  If You Invested $10,000 in Microsoft When Saty...   \n",
       "2            Why Microsoft Stock Rallied 57% in 2023   \n",
       "3  Microsoft Corp (MSFT) Reports Robust Growth wi...   \n",
       "4  Microsoft is adding an AI button to PC keyboar...   \n",
       "\n",
       "                                  Author  \\\n",
       "0   Daniel Howley    · Technology Editor   \n",
       "1        Jeremy Bowman, The Motley Fool    \n",
       "2           Danny Vena, The Motley Fool    \n",
       "3                    GuruFocus Research    \n",
       "4   Daniel Howley    · Technology Editor   \n",
       "\n",
       "                                                Text  \n",
       "0  Microsoft (MSFT) announced its second quarter ...  \n",
       "1  Microsoft (NASDAQ: MSFT) is back on top of the...  \n",
       "2  Shares of Microsoft (NASDAQ: MSFT) charged sha...  \n",
       "3  Revenue: $62.0 billion, an 18% increase year-o...  \n",
       "4  Microsoft (MSFT) is doubling down on its commi...  "
      ]
     },
     "execution_count": 20,
>>>>>>> d0db4468b71c2be214fe68171c691dbba0946069
     "metadata": {},
     "output_type": "execute_result"
    }
   ],
   "source": [
<<<<<<< HEAD
    "# Convert the date column to datetime\n",
    "df['Date'] = pd.to_datetime(df['Date'])\n",
    "\n",
    "# Sort the DataFrame by the 'Date' column\n",
    "df = df.sort_values(by='Date')\n",
    "print('shape before removing duplicates' +str(df.shape))\n",
    "# Remove duplicate rows based on 'Title' and 'Date'\n",
    "df = df.drop_duplicates(subset=['Title', 'Date'])\n",
    "df.dropna(inplace=True)\n",
    "# Optionally, reset the index if you want a clean index after dropping duplicates\n",
    "df.reset_index(drop=True, inplace=True)\n",
    "\n",
    "print('shape after removing duplicates' +str(df.shape))\n",
    "# Extract month for grouping\n",
    "df['Month'] = df['Date'].dt.to_period('M')\n",
    "\n",
    "\n",
=======
    "df = pd.DataFrame()\n",
    "for month in range(1, 11):\n",
    "  path = f'./articles/2024/{month}_articles.json'\n",
    "  df = pd.concat([df, pd.read_json(path)])\n",
    "\n",
    "df.reset_index(drop=True, inplace=True)\n",
>>>>>>> d0db4468b71c2be214fe68171c691dbba0946069
    "df.head()"
   ]
  },
  {
<<<<<<< HEAD
   "cell_type": "code",
   "execution_count": 323,
   "metadata": {},
   "outputs": [
    {
     "data": {
      "text/html": [
       "<div>\n",
       "<style scoped>\n",
       "    .dataframe tbody tr th:only-of-type {\n",
       "        vertical-align: middle;\n",
       "    }\n",
       "\n",
       "    .dataframe tbody tr th {\n",
       "        vertical-align: top;\n",
       "    }\n",
       "\n",
       "    .dataframe thead th {\n",
       "        text-align: right;\n",
       "    }\n",
       "</style>\n",
       "<table border=\"1\" class=\"dataframe\">\n",
       "  <thead>\n",
       "    <tr style=\"text-align: right;\">\n",
       "      <th></th>\n",
       "      <th>Date</th>\n",
       "      <th>Title</th>\n",
       "      <th>Author</th>\n",
       "      <th>Text</th>\n",
       "      <th>Month</th>\n",
       "      <th>clean_content_context</th>\n",
       "    </tr>\n",
       "  </thead>\n",
       "  <tbody>\n",
       "    <tr>\n",
       "      <th>0</th>\n",
       "      <td>2024-01-01 12:00:27+00:00</td>\n",
       "      <td>Investors in Microsoft (NASDAQ:MSFT) have seen...</td>\n",
       "      <td>editorial-team@simplywallst.com (Simply Wall...</td>\n",
       "      <td>The most you can lose on any stock (assuming y...</td>\n",
       "      <td>2024-01</td>\n",
       "      <td>the most you can lose on any stock assuming yo...</td>\n",
       "    </tr>\n",
       "    <tr>\n",
       "      <th>1</th>\n",
       "      <td>2024-01-02 15:09:36+00:00</td>\n",
       "      <td>Best AI Stock 2024: Alphabet Stock vs. Microso...</td>\n",
       "      <td>Parkev Tatevosian, CFA, The Motley Fool</td>\n",
       "      <td>Fool.com contributor Parkev Tatevosian compare...</td>\n",
       "      <td>2024-01</td>\n",
       "      <td>foolcom contributor parkev tatevosian compares...</td>\n",
       "    </tr>\n",
       "    <tr>\n",
       "      <th>2</th>\n",
       "      <td>2024-01-03 14:42:51+00:00</td>\n",
       "      <td>1 Artificial Intelligence (AI) Stock Poised to...</td>\n",
       "      <td>Parkev Tatevosian, CFA, The Motley Fool</td>\n",
       "      <td>Fool.com contributor Parkev Tatevosian highlig...</td>\n",
       "      <td>2024-01</td>\n",
       "      <td>foolcom contributor parkev tatevosian highligh...</td>\n",
       "    </tr>\n",
       "    <tr>\n",
       "      <th>3</th>\n",
       "      <td>2024-01-03 15:00:00+00:00</td>\n",
       "      <td>If You Invested $10,000 in Microsoft When Saty...</td>\n",
       "      <td>Jeremy Bowman, The Motley Fool</td>\n",
       "      <td>Microsoft (NASDAQ: MSFT) is back on top of the...</td>\n",
       "      <td>2024-01</td>\n",
       "      <td>microsoft nasdaq msft is back on top of the te...</td>\n",
       "    </tr>\n",
       "    <tr>\n",
       "      <th>4</th>\n",
       "      <td>2024-01-03 15:29:29+00:00</td>\n",
       "      <td>Microsoft Copilot is now available on iOS and ...</td>\n",
       "      <td>Aisha Malik</td>\n",
       "      <td>Over the holiday season, Microsoft quietly lau...</td>\n",
       "      <td>2024-01</td>\n",
       "      <td>over the holiday season microsoft quietly laun...</td>\n",
       "    </tr>\n",
       "  </tbody>\n",
       "</table>\n",
       "</div>"
      ],
      "text/plain": [
       "                       Date  \\\n",
       "0 2024-01-01 12:00:27+00:00   \n",
       "1 2024-01-02 15:09:36+00:00   \n",
       "2 2024-01-03 14:42:51+00:00   \n",
       "3 2024-01-03 15:00:00+00:00   \n",
       "4 2024-01-03 15:29:29+00:00   \n",
       "\n",
       "                                               Title  \\\n",
       "0  Investors in Microsoft (NASDAQ:MSFT) have seen...   \n",
       "1  Best AI Stock 2024: Alphabet Stock vs. Microso...   \n",
       "2  1 Artificial Intelligence (AI) Stock Poised to...   \n",
       "3  If You Invested $10,000 in Microsoft When Saty...   \n",
       "4  Microsoft Copilot is now available on iOS and ...   \n",
       "\n",
       "                                              Author  \\\n",
       "0    editorial-team@simplywallst.com (Simply Wall...   \n",
       "1           Parkev Tatevosian, CFA, The Motley Fool    \n",
       "2           Parkev Tatevosian, CFA, The Motley Fool    \n",
       "3                    Jeremy Bowman, The Motley Fool    \n",
       "4                                       Aisha Malik    \n",
       "\n",
       "                                                Text    Month  \\\n",
       "0  The most you can lose on any stock (assuming y...  2024-01   \n",
       "1  Fool.com contributor Parkev Tatevosian compare...  2024-01   \n",
       "2  Fool.com contributor Parkev Tatevosian highlig...  2024-01   \n",
       "3  Microsoft (NASDAQ: MSFT) is back on top of the...  2024-01   \n",
       "4  Over the holiday season, Microsoft quietly lau...  2024-01   \n",
       "\n",
       "                               clean_content_context  \n",
       "0  the most you can lose on any stock assuming yo...  \n",
       "1  foolcom contributor parkev tatevosian compares...  \n",
       "2  foolcom contributor parkev tatevosian highligh...  \n",
       "3  microsoft nasdaq msft is back on top of the te...  \n",
       "4  over the holiday season microsoft quietly laun...  "
      ]
     },
     "execution_count": 323,
     "metadata": {},
     "output_type": "execute_result"
    }
   ],
   "source": [
    "# Function to clean text\n",
    "def clean_text(text):\n",
    "    # Remove URLs, special characters, numbers, and extra spaces\n",
    "    text = re.sub(r'http\\S+|www\\S+|https\\S+', '', text, flags=re.MULTILINE)\n",
    "    text = re.sub(r'\\@\\w+|\\#','', text)\n",
    "    text = re.sub(r'[^A-Za-z\\s]', '', text)\n",
    "    text = text.lower()\n",
    "    text = re.sub(r'\\s+', ' ', text).strip()\n",
    "    return text\n",
    "\n",
    "# Apply cleaning\n",
    "df['clean_content_context'] = df['Text'].apply(clean_text)\n",
    "\n",
    "# Display the first few rows of the cleaned dataset\n",
    "df.head()"
   ]
  },
  {
   "cell_type": "code",
   "execution_count": 324,
   "metadata": {
    "colab": {
     "base_uri": "https://localhost:8080/"
=======
   "cell_type": "markdown",
   "metadata": {},
   "source": [
    "# Data Cleaning and Preprocessing"
   ]
  },
  {
   "cell_type": "markdown",
   "metadata": {},
   "source": [
    "In this section, we focus on cleaning and preprocessing the dataset to ensure it is ready for analysis. The first step involves converting the **Date** column into a datetime format to facilitate time-based operations. After sorting the DataFrame by the date, we remove any duplicate entries based on the **Title** and **Date** columns, ensuring each article is unique. We also drop any rows with missing values and reset the index for a clean DataFrame. Finally, we extract the month from the date for potential grouping and analysis."
   ]
  },
  {
   "cell_type": "code",
   "execution_count": 21,
   "metadata": {
    "colab": {
     "base_uri": "https://localhost:8080/",
     "height": 327
    },
    "id": "CwG9DFkseB8P",
    "outputId": "885e9d24-d131-4413-a675-a4cb9a83bfa6"
   },
   "outputs": [
    {
     "name": "stdout",
     "output_type": "stream",
     "text": [
      "shape before removing duplicates(1491, 4)\n",
      "shape after removing duplicates(1083, 4)\n"
     ]
>>>>>>> d0db4468b71c2be214fe68171c691dbba0946069
    },
    "id": "3ZlAFnN0ew4_",
    "outputId": "326086bc-d8c3-42ae-8fd5-ac6aa3419854"
   },
   "outputs": [
    {
<<<<<<< HEAD
=======
     "data": {
      "text/html": [
       "<div>\n",
       "<style scoped>\n",
       "    .dataframe tbody tr th:only-of-type {\n",
       "        vertical-align: middle;\n",
       "    }\n",
       "\n",
       "    .dataframe tbody tr th {\n",
       "        vertical-align: top;\n",
       "    }\n",
       "\n",
       "    .dataframe thead th {\n",
       "        text-align: right;\n",
       "    }\n",
       "</style>\n",
       "<table border=\"1\" class=\"dataframe\">\n",
       "  <thead>\n",
       "    <tr style=\"text-align: right;\">\n",
       "      <th></th>\n",
       "      <th>Date</th>\n",
       "      <th>Title</th>\n",
       "      <th>Author</th>\n",
       "      <th>Text</th>\n",
       "      <th>Month</th>\n",
       "    </tr>\n",
       "  </thead>\n",
       "  <tbody>\n",
       "    <tr>\n",
       "      <th>0</th>\n",
       "      <td>2024-01-01 12:00:27+00:00</td>\n",
       "      <td>Investors in Microsoft (NASDAQ:MSFT) have seen...</td>\n",
       "      <td>editorial-team@simplywallst.com (Simply Wall...</td>\n",
       "      <td>The most you can lose on any stock (assuming y...</td>\n",
       "      <td>2024-01</td>\n",
       "    </tr>\n",
       "    <tr>\n",
       "      <th>1</th>\n",
       "      <td>2024-01-02 15:09:36+00:00</td>\n",
       "      <td>Best AI Stock 2024: Alphabet Stock vs. Microso...</td>\n",
       "      <td>Parkev Tatevosian, CFA, The Motley Fool</td>\n",
       "      <td>Fool.com contributor Parkev Tatevosian compare...</td>\n",
       "      <td>2024-01</td>\n",
       "    </tr>\n",
       "    <tr>\n",
       "      <th>2</th>\n",
       "      <td>2024-01-03 14:42:51+00:00</td>\n",
       "      <td>1 Artificial Intelligence (AI) Stock Poised to...</td>\n",
       "      <td>Parkev Tatevosian, CFA, The Motley Fool</td>\n",
       "      <td>Fool.com contributor Parkev Tatevosian highlig...</td>\n",
       "      <td>2024-01</td>\n",
       "    </tr>\n",
       "    <tr>\n",
       "      <th>3</th>\n",
       "      <td>2024-01-03 15:00:00+00:00</td>\n",
       "      <td>If You Invested $10,000 in Microsoft When Saty...</td>\n",
       "      <td>Jeremy Bowman, The Motley Fool</td>\n",
       "      <td>Microsoft (NASDAQ: MSFT) is back on top of the...</td>\n",
       "      <td>2024-01</td>\n",
       "    </tr>\n",
       "    <tr>\n",
       "      <th>4</th>\n",
       "      <td>2024-01-03 15:29:29+00:00</td>\n",
       "      <td>Microsoft Copilot is now available on iOS and ...</td>\n",
       "      <td>Aisha Malik</td>\n",
       "      <td>Over the holiday season, Microsoft quietly lau...</td>\n",
       "      <td>2024-01</td>\n",
       "    </tr>\n",
       "  </tbody>\n",
       "</table>\n",
       "</div>"
      ],
      "text/plain": [
       "                       Date  \\\n",
       "0 2024-01-01 12:00:27+00:00   \n",
       "1 2024-01-02 15:09:36+00:00   \n",
       "2 2024-01-03 14:42:51+00:00   \n",
       "3 2024-01-03 15:00:00+00:00   \n",
       "4 2024-01-03 15:29:29+00:00   \n",
       "\n",
       "                                               Title  \\\n",
       "0  Investors in Microsoft (NASDAQ:MSFT) have seen...   \n",
       "1  Best AI Stock 2024: Alphabet Stock vs. Microso...   \n",
       "2  1 Artificial Intelligence (AI) Stock Poised to...   \n",
       "3  If You Invested $10,000 in Microsoft When Saty...   \n",
       "4  Microsoft Copilot is now available on iOS and ...   \n",
       "\n",
       "                                              Author  \\\n",
       "0    editorial-team@simplywallst.com (Simply Wall...   \n",
       "1           Parkev Tatevosian, CFA, The Motley Fool    \n",
       "2           Parkev Tatevosian, CFA, The Motley Fool    \n",
       "3                    Jeremy Bowman, The Motley Fool    \n",
       "4                                       Aisha Malik    \n",
       "\n",
       "                                                Text    Month  \n",
       "0  The most you can lose on any stock (assuming y...  2024-01  \n",
       "1  Fool.com contributor Parkev Tatevosian compare...  2024-01  \n",
       "2  Fool.com contributor Parkev Tatevosian highlig...  2024-01  \n",
       "3  Microsoft (NASDAQ: MSFT) is back on top of the...  2024-01  \n",
       "4  Over the holiday season, Microsoft quietly lau...  2024-01  "
      ]
     },
     "execution_count": 21,
     "metadata": {},
     "output_type": "execute_result"
    }
   ],
   "source": [
    "# Convert the date column to datetime\n",
    "df['Date'] = pd.to_datetime(df['Date'])\n",
    "\n",
    "# Sort the DataFrame by the 'Date' column\n",
    "df = df.sort_values(by='Date')\n",
    "print('shape before removing duplicates' +str(df.shape))\n",
    "# Remove duplicate rows based on 'Title' and 'Date'\n",
    "df = df.drop_duplicates(subset=['Title', 'Date'])\n",
    "df.dropna(inplace=True)\n",
    "# Optionally, reset the index if you want a clean index after dropping duplicates\n",
    "df.reset_index(drop=True, inplace=True)\n",
    "\n",
    "print('shape after removing duplicates' +str(df.shape))\n",
    "# Extract month for grouping\n",
    "df['Month'] = df['Date'].dt.to_period('M')\n",
    "\n",
    "\n",
    "df.head()"
   ]
  },
  {
   "cell_type": "code",
   "execution_count": 22,
   "metadata": {},
   "outputs": [
    {
>>>>>>> d0db4468b71c2be214fe68171c691dbba0946069
     "name": "stdout",
     "output_type": "stream",
     "text": [
      "<class 'pandas.core.frame.DataFrame'>\n",
      "RangeIndex: 1083 entries, 0 to 1082\n",
<<<<<<< HEAD
      "Data columns (total 6 columns):\n",
      " #   Column                 Non-Null Count  Dtype              \n",
      "---  ------                 --------------  -----              \n",
      " 0   Date                   1083 non-null   datetime64[ns, UTC]\n",
      " 1   Title                  1083 non-null   object             \n",
      " 2   Author                 1083 non-null   object             \n",
      " 3   Text                   1083 non-null   object             \n",
      " 4   Month                  1083 non-null   period[M]          \n",
      " 5   clean_content_context  1083 non-null   object             \n",
      "dtypes: datetime64[ns, UTC](1), object(4), period[M](1)\n",
      "memory usage: 50.9+ KB\n"
=======
      "Data columns (total 5 columns):\n",
      " #   Column  Non-Null Count  Dtype              \n",
      "---  ------  --------------  -----              \n",
      " 0   Date    1083 non-null   datetime64[ns, UTC]\n",
      " 1   Title   1083 non-null   object             \n",
      " 2   Author  1083 non-null   object             \n",
      " 3   Text    1083 non-null   object             \n",
      " 4   Month   1083 non-null   period[M]          \n",
      "dtypes: datetime64[ns, UTC](1), object(3), period[M](1)\n",
      "memory usage: 42.4+ KB\n"
>>>>>>> d0db4468b71c2be214fe68171c691dbba0946069
     ]
    }
   ],
   "source": [
    "df.info()"
   ]
  },
  {
   "cell_type": "markdown",
<<<<<<< HEAD
   "metadata": {
    "id": "bJ6TtObWew4_"
   },
   "source": [
    "### Sasdfasasdfasdasdfasdfasdfasdf\n"
=======
   "metadata": {},
   "source": [
    "### Text Cleaning\n",
    "\n",
    "In the upcoming cell, we define a function to clean the text data in the **Text** column of our DataFrame. This function aims to remove any URLs, special characters, numbers, and excessive whitespace from the text. Additionally, all text is converted to lowercase to standardize it, making it easier to analyze later. The cleaned text will be stored in a new column, **clean_content_context**.\n"
>>>>>>> d0db4468b71c2be214fe68171c691dbba0946069
   ]
  },
  {
   "cell_type": "code",
<<<<<<< HEAD
   "execution_count": 325,
   "metadata": {
    "scrolled": true
   },
   "outputs": [
    {
     "name": "stdout",
     "output_type": "stream",
     "text": [
      "Investors in Microsoft (NASDAQ:MSFT) have seen strong returns of 288% over the past five years\n"
     ]
=======
   "execution_count": 23,
   "metadata": {
    "colab": {
     "base_uri": "https://localhost:8080/",
     "height": 345
>>>>>>> d0db4468b71c2be214fe68171c691dbba0946069
    },
    "id": "6Gd5nW-V2gH_",
    "outputId": "f99e9add-7691-4889-93e5-740ee956a328"
   },
   "outputs": [
    {
     "data": {
<<<<<<< HEAD
      "text/plain": [
       "[\"The most you can lose on any stock (assuming you don't use leverage) is 100% of your money.\",\n",
       " 'But on the bright side, if you buy shares in a high quality company at the right price, you can gain well over 100%.',\n",
       " 'For instance, the price of Microsoft Corporation (NASDAQ:MSFT) stock is up an impressive 268% over the last five years.',\n",
       " 'On top of that, the share price is up 20% in about a quarter.',\n",
       " 'But this move may well have been assisted by the reasonably buoyant market (up 12% in 90 days).',\n",
       " \"So let's assess the underlying fundamentals over the last 5 years and see if they've moved in lock-step with shareholder returns.\",\n",
       " 'View our latest analysis for Microsoft \\nIn his essay The Superinvestors of Graham-and-Doddsville Warren Buffett described how share prices do not always rationally reflect the value of a business.',\n",
       " 'One imperfect but simple way to consider how the market perception of a company has shifted is to compare the change in the earnings per share (EPS) with the share price movement.',\n",
       " 'During five years of share price growth, Microsoft achieved compound earnings per share (EPS) growth of 33% per year.',\n",
       " 'So the EPS growth rate is rather close to the annualized share price gain of 30% per year.',\n",
       " 'This indicates that investor sentiment towards the company has not changed a great deal.',\n",
       " 'Rather, the share price has approximately tracked EPS growth.',\n",
       " 'You can see how EPS has changed over time in the image below (click on the chart to see the exact values).',\n",
       " 'We know that Microsoft has improved its bottom line lately, but is it going to grow revenue?',\n",
       " 'Check if analysts think Microsoft will grow revenue in the future.',\n",
       " 'It is important to consider the total shareholder return, as well as the share price return, for any given stock.',\n",
       " 'The TSR incorporates the value of any spin-offs or discounted capital raisings, along with any dividends, based on the assumption that the dividends are reinvested.',\n",
       " 'So for companies that pay a generous dividend, the TSR is often a lot higher than the share price return.',\n",
       " \"As it happens, Microsoft's TSR for the last 5 years was 288%, which exceeds the share price return mentioned earlier.\",\n",
       " 'The dividends paid by the company have thusly boosted the total shareholder return.',\n",
       " \"It's nice to see that Microsoft shareholders have received a total shareholder return of 58% over the last year.\",\n",
       " 'And that does include the dividend.',\n",
       " 'That gain is better than the annual TSR over five years, which is 31%.',\n",
       " 'Therefore it seems like sentiment around the company has been positive lately.',\n",
       " 'Given the share price momentum remains strong, it might be worth taking a closer look at the stock, lest you miss an opportunity.',\n",
       " 'I find it very interesting to look at share price over the long term as a proxy for business performance.',\n",
       " 'But to truly gain insight, we need to consider other information, too.',\n",
       " \"To that end, you should be aware of the   1 warning sign  we've spotted with Microsoft .\",\n",
       " 'If you like to buy stocks alongside management, then you might just love this free list of companies.',\n",
       " '(Hint: insiders have been buying them).',\n",
       " 'Please note, the market returns quoted in this article reflect the market weighted average returns of stocks that currently trade on American exchanges.',\n",
       " 'Have feedback on this article?',\n",
       " 'Concerned about the content?',\n",
       " 'Get in touch with us directly.',\n",
       " 'Alternatively, email editorial-team (at) simplywallst.com.This article by Simply Wall St is general in nature.',\n",
       " 'We provide commentary based on historical data and analyst forecasts only using an unbiased methodology and our articles are not intended to be financial advice.',\n",
       " 'It does not constitute a recommendation to buy or sell any stock, and does not take account of your objectives, or your financial situation.',\n",
       " 'We aim to bring you long-term focused analysis driven by fundamental data.',\n",
       " 'Note that our analysis may not factor in the latest price-sensitive company announcements or qualitative material.',\n",
       " 'Simply Wall St has no position in any stocks mentioned.']"
      ]
     },
     "execution_count": 325,
=======
      "text/html": [
       "<div>\n",
       "<style scoped>\n",
       "    .dataframe tbody tr th:only-of-type {\n",
       "        vertical-align: middle;\n",
       "    }\n",
       "\n",
       "    .dataframe tbody tr th {\n",
       "        vertical-align: top;\n",
       "    }\n",
       "\n",
       "    .dataframe thead th {\n",
       "        text-align: right;\n",
       "    }\n",
       "</style>\n",
       "<table border=\"1\" class=\"dataframe\">\n",
       "  <thead>\n",
       "    <tr style=\"text-align: right;\">\n",
       "      <th></th>\n",
       "      <th>Date</th>\n",
       "      <th>Title</th>\n",
       "      <th>Author</th>\n",
       "      <th>Text</th>\n",
       "      <th>Month</th>\n",
       "      <th>clean_content_context</th>\n",
       "    </tr>\n",
       "  </thead>\n",
       "  <tbody>\n",
       "    <tr>\n",
       "      <th>0</th>\n",
       "      <td>2024-01-01 12:00:27+00:00</td>\n",
       "      <td>Investors in Microsoft (NASDAQ:MSFT) have seen...</td>\n",
       "      <td>editorial-team@simplywallst.com (Simply Wall...</td>\n",
       "      <td>The most you can lose on any stock (assuming y...</td>\n",
       "      <td>2024-01</td>\n",
       "      <td>the most you can lose on any stock assuming yo...</td>\n",
       "    </tr>\n",
       "    <tr>\n",
       "      <th>1</th>\n",
       "      <td>2024-01-02 15:09:36+00:00</td>\n",
       "      <td>Best AI Stock 2024: Alphabet Stock vs. Microso...</td>\n",
       "      <td>Parkev Tatevosian, CFA, The Motley Fool</td>\n",
       "      <td>Fool.com contributor Parkev Tatevosian compare...</td>\n",
       "      <td>2024-01</td>\n",
       "      <td>foolcom contributor parkev tatevosian compares...</td>\n",
       "    </tr>\n",
       "    <tr>\n",
       "      <th>2</th>\n",
       "      <td>2024-01-03 14:42:51+00:00</td>\n",
       "      <td>1 Artificial Intelligence (AI) Stock Poised to...</td>\n",
       "      <td>Parkev Tatevosian, CFA, The Motley Fool</td>\n",
       "      <td>Fool.com contributor Parkev Tatevosian highlig...</td>\n",
       "      <td>2024-01</td>\n",
       "      <td>foolcom contributor parkev tatevosian highligh...</td>\n",
       "    </tr>\n",
       "    <tr>\n",
       "      <th>3</th>\n",
       "      <td>2024-01-03 15:00:00+00:00</td>\n",
       "      <td>If You Invested $10,000 in Microsoft When Saty...</td>\n",
       "      <td>Jeremy Bowman, The Motley Fool</td>\n",
       "      <td>Microsoft (NASDAQ: MSFT) is back on top of the...</td>\n",
       "      <td>2024-01</td>\n",
       "      <td>microsoft nasdaq msft is back on top of the te...</td>\n",
       "    </tr>\n",
       "    <tr>\n",
       "      <th>4</th>\n",
       "      <td>2024-01-03 15:29:29+00:00</td>\n",
       "      <td>Microsoft Copilot is now available on iOS and ...</td>\n",
       "      <td>Aisha Malik</td>\n",
       "      <td>Over the holiday season, Microsoft quietly lau...</td>\n",
       "      <td>2024-01</td>\n",
       "      <td>over the holiday season microsoft quietly laun...</td>\n",
       "    </tr>\n",
       "  </tbody>\n",
       "</table>\n",
       "</div>"
      ],
      "text/plain": [
       "                       Date  \\\n",
       "0 2024-01-01 12:00:27+00:00   \n",
       "1 2024-01-02 15:09:36+00:00   \n",
       "2 2024-01-03 14:42:51+00:00   \n",
       "3 2024-01-03 15:00:00+00:00   \n",
       "4 2024-01-03 15:29:29+00:00   \n",
       "\n",
       "                                               Title  \\\n",
       "0  Investors in Microsoft (NASDAQ:MSFT) have seen...   \n",
       "1  Best AI Stock 2024: Alphabet Stock vs. Microso...   \n",
       "2  1 Artificial Intelligence (AI) Stock Poised to...   \n",
       "3  If You Invested $10,000 in Microsoft When Saty...   \n",
       "4  Microsoft Copilot is now available on iOS and ...   \n",
       "\n",
       "                                              Author  \\\n",
       "0    editorial-team@simplywallst.com (Simply Wall...   \n",
       "1           Parkev Tatevosian, CFA, The Motley Fool    \n",
       "2           Parkev Tatevosian, CFA, The Motley Fool    \n",
       "3                    Jeremy Bowman, The Motley Fool    \n",
       "4                                       Aisha Malik    \n",
       "\n",
       "                                                Text    Month  \\\n",
       "0  The most you can lose on any stock (assuming y...  2024-01   \n",
       "1  Fool.com contributor Parkev Tatevosian compare...  2024-01   \n",
       "2  Fool.com contributor Parkev Tatevosian highlig...  2024-01   \n",
       "3  Microsoft (NASDAQ: MSFT) is back on top of the...  2024-01   \n",
       "4  Over the holiday season, Microsoft quietly lau...  2024-01   \n",
       "\n",
       "                               clean_content_context  \n",
       "0  the most you can lose on any stock assuming yo...  \n",
       "1  foolcom contributor parkev tatevosian compares...  \n",
       "2  foolcom contributor parkev tatevosian highligh...  \n",
       "3  microsoft nasdaq msft is back on top of the te...  \n",
       "4  over the holiday season microsoft quietly laun...  "
      ]
     },
     "execution_count": 23,
>>>>>>> d0db4468b71c2be214fe68171c691dbba0946069
     "metadata": {},
     "output_type": "execute_result"
    }
   ],
   "source": [
<<<<<<< HEAD
    "df['text_sentences'] = df['Text'].apply(sent_tokenize)\n",
    "print(df.iloc[0]['Title'])\n",
    "df.iloc[0]['text_sentences']"
   ]
  },
  {
   "cell_type": "code",
   "execution_count": 326,
   "metadata": {},
   "outputs": [
    {
     "data": {
      "text/plain": [
       "[\"The most you can lose on any stock (assuming you don't use leverage) is 100% of your money.\",\n",
       " 'But on the bright side, if you buy shares in a high quality company at the right price, you can gain well over 100%.',\n",
       " 'For instance, the price of Microsoft Corporation (NASDAQ:MSFT) stock is up an impressive 268% over the last five years.',\n",
       " 'On top of that, the share price is up 20% in about a quarter.',\n",
       " 'But this move may well have been assisted by the reasonably buoyant market (up 12% in 90 days).',\n",
       " \"So let's assess the underlying fundamentals over the last 5 years and see if they've moved in lock-step with shareholder returns.\",\n",
       " 'View our latest analysis for Microsoft \\nIn his essay The Superinvestors of Graham-and-Doddsville Warren Buffett described how share prices do not always rationally reflect the value of a business.',\n",
       " 'One imperfect but simple way to consider how the market perception of a company has shifted is to compare the change in the earnings per share (EPS) with the share price movement.',\n",
       " 'During five years of share price growth, Microsoft achieved compound earnings per share (EPS) growth of 33% per year.',\n",
       " 'So the EPS growth rate is rather close to the annualized share price gain of 30% per year.',\n",
       " 'This indicates that investor sentiment towards the company has not changed a great deal.',\n",
       " 'Rather, the share price has approximately tracked EPS growth.',\n",
       " 'You can see how EPS has changed over time in the image below (click on the chart to see the exact values).',\n",
       " 'We know that Microsoft has improved its bottom line lately, but is it going to grow revenue?',\n",
       " 'Check if analysts think Microsoft will grow revenue in the future.',\n",
       " 'It is important to consider the total shareholder return, as well as the share price return, for any given stock.',\n",
       " 'The TSR incorporates the value of any spin-offs or discounted capital raisings, along with any dividends, based on the assumption that the dividends are reinvested.',\n",
       " 'So for companies that pay a generous dividend, the TSR is often a lot higher than the share price return.',\n",
       " \"As it happens, Microsoft's TSR for the last 5 years was 288%, which exceeds the share price return mentioned earlier.\",\n",
       " 'The dividends paid by the company have thusly boosted the total shareholder return.',\n",
       " \"It's nice to see that Microsoft shareholders have received a total shareholder return of 58% over the last year.\",\n",
       " 'And that does include the dividend.',\n",
       " 'That gain is better than the annual TSR over five years, which is 31%.',\n",
       " 'Therefore it seems like sentiment around the company has been positive lately.',\n",
       " 'Given the share price momentum remains strong, it might be worth taking a closer look at the stock, lest you miss an opportunity.',\n",
       " 'I find it very interesting to look at share price over the long term as a proxy for business performance.',\n",
       " 'But to truly gain insight, we need to consider other information, too.']"
      ]
     },
     "execution_count": 326,
=======
    "# Function to clean text\n",
    "def clean_text(text):\n",
    "    # Remove URLs, special characters, numbers, and extra spaces\n",
    "    text = re.sub(r'http\\S+|www\\S+|https\\S+', '', text, flags=re.MULTILINE)\n",
    "    text = re.sub(r'\\@\\w+|\\#','', text)\n",
    "    text = re.sub(r'[^A-Za-z\\s]', '', text)\n",
    "    text = text.lower()\n",
    "    text = re.sub(r'\\s+', ' ', text).strip()\n",
    "    return text\n",
    "\n",
    "# Apply cleaning\n",
    "df['clean_content_context'] = df['Text'].apply(clean_text)\n",
    "\n",
    "# Display the first few rows of the cleaned dataset\n",
    "df.head()"
   ]
  },
  {
   "cell_type": "markdown",
   "metadata": {},
   "source": [
    "### Stop Words Removal\n",
    "\n",
    "In this section, we address the removal of stop words from the cleaned text. Stop words are common words (like \"and,\" \"the,\" \"is,\" etc.) that may not contribute significant meaning to the analysis. By eliminating these words, we aim to enhance the quality of our textual data and focus on more informative terms. The cleaned text without stop words will be stored in a new column, **clean_content_no_stopwords**."
   ]
  },
  {
   "cell_type": "code",
   "execution_count": 24,
   "metadata": {
    "colab": {
     "base_uri": "https://localhost:8080/",
     "height": 501
    },
    "id": "fdvJsXq0-rS_",
    "outputId": "b5f63635-09f2-47d7-81b0-842c7d688f8d"
   },
   "outputs": [
    {
     "data": {
      "text/html": [
       "<div>\n",
       "<style scoped>\n",
       "    .dataframe tbody tr th:only-of-type {\n",
       "        vertical-align: middle;\n",
       "    }\n",
       "\n",
       "    .dataframe tbody tr th {\n",
       "        vertical-align: top;\n",
       "    }\n",
       "\n",
       "    .dataframe thead th {\n",
       "        text-align: right;\n",
       "    }\n",
       "</style>\n",
       "<table border=\"1\" class=\"dataframe\">\n",
       "  <thead>\n",
       "    <tr style=\"text-align: right;\">\n",
       "      <th></th>\n",
       "      <th>Date</th>\n",
       "      <th>Title</th>\n",
       "      <th>Author</th>\n",
       "      <th>Text</th>\n",
       "      <th>Month</th>\n",
       "      <th>clean_content_context</th>\n",
       "      <th>clean_content_no_stopwords</th>\n",
       "    </tr>\n",
       "  </thead>\n",
       "  <tbody>\n",
       "    <tr>\n",
       "      <th>0</th>\n",
       "      <td>2024-01-01 12:00:27+00:00</td>\n",
       "      <td>Investors in Microsoft (NASDAQ:MSFT) have seen...</td>\n",
       "      <td>editorial-team@simplywallst.com (Simply Wall...</td>\n",
       "      <td>The most you can lose on any stock (assuming y...</td>\n",
       "      <td>2024-01</td>\n",
       "      <td>the most you can lose on any stock assuming yo...</td>\n",
       "      <td>lose stock assuming dont use leverage money br...</td>\n",
       "    </tr>\n",
       "    <tr>\n",
       "      <th>1</th>\n",
       "      <td>2024-01-02 15:09:36+00:00</td>\n",
       "      <td>Best AI Stock 2024: Alphabet Stock vs. Microso...</td>\n",
       "      <td>Parkev Tatevosian, CFA, The Motley Fool</td>\n",
       "      <td>Fool.com contributor Parkev Tatevosian compare...</td>\n",
       "      <td>2024-01</td>\n",
       "      <td>foolcom contributor parkev tatevosian compares...</td>\n",
       "      <td>foolcom contributor parkev tatevosian compares...</td>\n",
       "    </tr>\n",
       "    <tr>\n",
       "      <th>2</th>\n",
       "      <td>2024-01-03 14:42:51+00:00</td>\n",
       "      <td>1 Artificial Intelligence (AI) Stock Poised to...</td>\n",
       "      <td>Parkev Tatevosian, CFA, The Motley Fool</td>\n",
       "      <td>Fool.com contributor Parkev Tatevosian highlig...</td>\n",
       "      <td>2024-01</td>\n",
       "      <td>foolcom contributor parkev tatevosian highligh...</td>\n",
       "      <td>foolcom contributor parkev tatevosian highligh...</td>\n",
       "    </tr>\n",
       "    <tr>\n",
       "      <th>3</th>\n",
       "      <td>2024-01-03 15:00:00+00:00</td>\n",
       "      <td>If You Invested $10,000 in Microsoft When Saty...</td>\n",
       "      <td>Jeremy Bowman, The Motley Fool</td>\n",
       "      <td>Microsoft (NASDAQ: MSFT) is back on top of the...</td>\n",
       "      <td>2024-01</td>\n",
       "      <td>microsoft nasdaq msft is back on top of the te...</td>\n",
       "      <td>microsoft nasdaq msft back top tech world days...</td>\n",
       "    </tr>\n",
       "    <tr>\n",
       "      <th>4</th>\n",
       "      <td>2024-01-03 15:29:29+00:00</td>\n",
       "      <td>Microsoft Copilot is now available on iOS and ...</td>\n",
       "      <td>Aisha Malik</td>\n",
       "      <td>Over the holiday season, Microsoft quietly lau...</td>\n",
       "      <td>2024-01</td>\n",
       "      <td>over the holiday season microsoft quietly laun...</td>\n",
       "      <td>holiday season microsoft quietly launched copi...</td>\n",
       "    </tr>\n",
       "  </tbody>\n",
       "</table>\n",
       "</div>"
      ],
      "text/plain": [
       "                       Date  \\\n",
       "0 2024-01-01 12:00:27+00:00   \n",
       "1 2024-01-02 15:09:36+00:00   \n",
       "2 2024-01-03 14:42:51+00:00   \n",
       "3 2024-01-03 15:00:00+00:00   \n",
       "4 2024-01-03 15:29:29+00:00   \n",
       "\n",
       "                                               Title  \\\n",
       "0  Investors in Microsoft (NASDAQ:MSFT) have seen...   \n",
       "1  Best AI Stock 2024: Alphabet Stock vs. Microso...   \n",
       "2  1 Artificial Intelligence (AI) Stock Poised to...   \n",
       "3  If You Invested $10,000 in Microsoft When Saty...   \n",
       "4  Microsoft Copilot is now available on iOS and ...   \n",
       "\n",
       "                                              Author  \\\n",
       "0    editorial-team@simplywallst.com (Simply Wall...   \n",
       "1           Parkev Tatevosian, CFA, The Motley Fool    \n",
       "2           Parkev Tatevosian, CFA, The Motley Fool    \n",
       "3                    Jeremy Bowman, The Motley Fool    \n",
       "4                                       Aisha Malik    \n",
       "\n",
       "                                                Text    Month  \\\n",
       "0  The most you can lose on any stock (assuming y...  2024-01   \n",
       "1  Fool.com contributor Parkev Tatevosian compare...  2024-01   \n",
       "2  Fool.com contributor Parkev Tatevosian highlig...  2024-01   \n",
       "3  Microsoft (NASDAQ: MSFT) is back on top of the...  2024-01   \n",
       "4  Over the holiday season, Microsoft quietly lau...  2024-01   \n",
       "\n",
       "                               clean_content_context  \\\n",
       "0  the most you can lose on any stock assuming yo...   \n",
       "1  foolcom contributor parkev tatevosian compares...   \n",
       "2  foolcom contributor parkev tatevosian highligh...   \n",
       "3  microsoft nasdaq msft is back on top of the te...   \n",
       "4  over the holiday season microsoft quietly laun...   \n",
       "\n",
       "                          clean_content_no_stopwords  \n",
       "0  lose stock assuming dont use leverage money br...  \n",
       "1  foolcom contributor parkev tatevosian compares...  \n",
       "2  foolcom contributor parkev tatevosian highligh...  \n",
       "3  microsoft nasdaq msft back top tech world days...  \n",
       "4  holiday season microsoft quietly launched copi...  "
      ]
     },
     "execution_count": 24,
>>>>>>> d0db4468b71c2be214fe68171c691dbba0946069
     "metadata": {},
     "output_type": "execute_result"
    }
   ],
   "source": [
<<<<<<< HEAD
    "df.iloc[0]['text_sentences'][:-13]"
=======
    "stop_words = set(stopwords.words('english'))\n",
    "\n",
    "def remove_stopwords(text):\n",
    "    return ' '.join([word for word in text.split() if word not in stop_words])\n",
    "\n",
    "df['clean_content_no_stopwords'] = df['clean_content_context'].apply(remove_stopwords)\n",
    "df.head()"
>>>>>>> d0db4468b71c2be214fe68171c691dbba0946069
   ]
  },
  {
   "cell_type": "code",
<<<<<<< HEAD
   "execution_count": 327,
   "metadata": {},
   "outputs": [
    {
     "data": {
      "text/plain": [
       "27"
      ]
     },
     "execution_count": 327,
     "metadata": {},
     "output_type": "execute_result"
    }
   ],
   "source": [
    "len(df.iloc[0]['text_sentences'][:-13])"
   ]
  },
  {
   "cell_type": "code",
   "execution_count": 213,
   "metadata": {},
   "outputs": [
    {
     "name": "stderr",
     "output_type": "stream",
     "text": [
      "Your min_length=5 must be inferior than your max_length=4.\n",
      "Your min_length=5 must be inferior than your max_length=3.\n"
     ]
=======
   "execution_count": 25,
   "metadata": {},
   "outputs": [
    {
     "name": "stdout",
     "output_type": "stream",
     "text": [
      "<class 'pandas.core.frame.DataFrame'>\n",
      "RangeIndex: 1083 entries, 0 to 1082\n",
      "Data columns (total 7 columns):\n",
      " #   Column                      Non-Null Count  Dtype              \n",
      "---  ------                      --------------  -----              \n",
      " 0   Date                        1083 non-null   datetime64[ns, UTC]\n",
      " 1   Title                       1083 non-null   object             \n",
      " 2   Author                      1083 non-null   object             \n",
      " 3   Text                        1083 non-null   object             \n",
      " 4   Month                       1083 non-null   period[M]          \n",
      " 5   clean_content_context       1083 non-null   object             \n",
      " 6   clean_content_no_stopwords  1083 non-null   object             \n",
      "dtypes: datetime64[ns, UTC](1), object(5), period[M](1)\n",
      "memory usage: 59.4+ KB\n"
     ]
    }
   ],
   "source": [
    "df.info()"
   ]
  },
  {
   "cell_type": "markdown",
   "metadata": {},
   "source": [
    "# Sentiment and Emotion Analysis of Financial News Articles"
   ]
  },
  {
   "cell_type": "markdown",
   "metadata": {},
   "source": [
    "### Sentiment Analysis with VADER"
   ]
  },
  {
   "cell_type": "markdown",
   "metadata": {},
   "source": [
    "VADER (Valence Aware Dictionary and sEntiment Reasoner) is a lexicon and rule-based sentiment analysis tool particularly well-suited for analyzing sentiments expressed in social media and news articles. It is effective for short texts and accounts for the nuances of language, including emoticons, slang, and common expressions. In our analysis, we use VADER to evaluate the sentiments in the online news articles we scraped from Yahoo Finance, as it provides quick and reliable sentiment scores for financial texts."
   ]
  },
  {
   "cell_type": "code",
   "execution_count": 26,
   "metadata": {
    "colab": {
     "base_uri": "https://localhost:8080/",
     "height": 206
>>>>>>> d0db4468b71c2be214fe68171c691dbba0946069
    },
    "id": "mofUyaBg-vMf",
    "outputId": "407c8b8d-74c0-4f5b-bbdc-7b9be72e867d"
   },
   "outputs": [
    {
     "data": {
<<<<<<< HEAD
      "text/plain": [
       "\"The most you can lose on any stock (assuming you don't use leverage) is 100% of your money. But on the bright side, if you buy shares in a high quality company at the right price, you can gain well over 100%. For instance, the price of Microsoft Corporation (NASDAQ:MSFT) stock is up an impressive 268% over the last five years. On top of that, the share price is up 20% in about a quarter. But this move may well have been assisted by the reasonably buoyant market (up 12% in 90 days). So let's assess the underlying fundamentals over the last 5 years and see if they've moved in lock-step with shareholder returns. View our latest analysis for Microsoft \\nIn his essay The Superinvestors of Graham-and-Doddsville Warren Buffett described how share prices do not always rationally reflect the value of a business. One imperfect but simple way to consider how the market perception of a company has shifted is to compare the change in the earnings per share (EPS) with the share price movement. During five years of share price growth, Microsoft achieved compound earnings per share (EPS) growth of 33% per year. So the EPS growth rate is rather close to the annualized share price gain of 30% per year. This indicates that investor sentiment towards the company has not changed a great deal. You can see how EPS has changed over time in the image below (click on the chart to see the exact values). We know that Microsoft has improved its bottom line lately, but is it going to grow revenue? Check if analysts think Microsoft will grow revenue in the future. It is important to consider the total shareholder return, as well as the share price return, for any given stock. The TSR incorporates the value of any spin-offs or discounted capital raisings, along with any dividends, based on the assumption that the dividends are reinvested. So for companies that pay a generous dividend, the TSR is often a lot higher than the share price return. As it happens, Microsoft's TSR for the last 5 years was 288%, which exceeds the share price return mentioned earlier. The dividends paid by the company have thusly boosted the total shareholder return. It's nice to see that Microsoft shareholders have received a total shareholder return of 58% over the last year. That gain is better than the annual TSR over five years, which is 31%. Therefore it seems like sentiment around the company has been positive lately. Given the share price momentum remains strong, it might be worth taking a closer look at the stock, lest you miss an opportunity. I find it very interesting to look at share price over the long term as a proxy for business performance. But to truly gain insight, we need to consider other information, too. To that end, you should be aware of the   1 warning sign  we've spotted with Microsoft . If you like to buy stocks alongside management, then you might just love this free list of companies. Please note, the market returns quoted in this article reflect the market weighted average returns of stocks that currently trade on American exchanges. Alternatively, email editorial-team (at) simplywallst.com.This article by Simply Wall St is general in nature. We provide commentary based on historical data and analyst forecasts only using an unbiased methodology and our articles are not intended to be financial advice. It does not constitute a recommendation to buy or sell any stock, and does not take account of your objectives, or your financial situation. We aim to bring you long-term focused analysis driven by fundamental data. Note that our analysis may not factor in the latest price-sensitive company announcements or qualitative material.\""
      ]
     },
     "execution_count": 213,
     "metadata": {},
     "output_type": "execute_result"
    }
   ],
   "source": [
    "# Load the summarization model (BART or Pegasus can be used)\n",
    "summarizer = pipeline(\"summarization\", model=\"facebook/bart-large-cnn\")\n",
    "\n",
    "# Set up an empty list to store relevant sentences\n",
    "relevant_sentences = []\n",
    "\n",
    "# Define a threshold for relevance (you may adjust this based on experimentation)\n",
    "RELEVANCE_THRESHOLD = 50\n",
    "\n",
    "# Summarize each sentence individually, and decide if it's \"relevant\" based on length\n",
    "for sentence in sentences:\n",
    "    # Set max_length to a reasonable value based on sentence length (e.g., 80% of sentence length)\n",
    "    sentence_length = len(sentence.split())\n",
    "    max_length = min(20, sentence_length - 1)  # Ensure max_length is always smaller than the input length\n",
    "\n",
    "    # Summarize the sentence\n",
    "    summary = summarizer(sentence, max_length=max_length, min_length=5, do_sample=False)\n",
    "\n",
    "    # Get the summary text\n",
    "    summary_text = summary[0]['summary_text']\n",
    "    \n",
    "    # If the summary is short or doesn't add much, it's likely noise (ad, disclaimer)\n",
    "    # You can filter based on word count, relevance, etc.\n",
    "    if len(summary_text.split()) > 5:  # Filter out short, irrelevant summaries\n",
    "        relevant_sentences.append(sentence)\n",
    "\n",
    "# Output the filtered relevant sentences\n",
    "' '.join(relevant_sentences)"
   ]
  },
  {
   "cell_type": "code",
   "execution_count": 224,
   "metadata": {},
   "outputs": [
    {
     "data": {
      "text/plain": [
       "33"
      ]
     },
     "execution_count": 224,
=======
      "text/html": [
       "<div>\n",
       "<style scoped>\n",
       "    .dataframe tbody tr th:only-of-type {\n",
       "        vertical-align: middle;\n",
       "    }\n",
       "\n",
       "    .dataframe tbody tr th {\n",
       "        vertical-align: top;\n",
       "    }\n",
       "\n",
       "    .dataframe thead th {\n",
       "        text-align: right;\n",
       "    }\n",
       "</style>\n",
       "<table border=\"1\" class=\"dataframe\">\n",
       "  <thead>\n",
       "    <tr style=\"text-align: right;\">\n",
       "      <th></th>\n",
       "      <th>neg</th>\n",
       "      <th>neu</th>\n",
       "      <th>pos</th>\n",
       "      <th>compound</th>\n",
       "    </tr>\n",
       "  </thead>\n",
       "  <tbody>\n",
       "    <tr>\n",
       "      <th>0</th>\n",
       "      <td>0.026</td>\n",
       "      <td>0.752</td>\n",
       "      <td>0.222</td>\n",
       "      <td>0.9994</td>\n",
       "    </tr>\n",
       "    <tr>\n",
       "      <th>1</th>\n",
       "      <td>0.082</td>\n",
       "      <td>0.834</td>\n",
       "      <td>0.084</td>\n",
       "      <td>0.3612</td>\n",
       "    </tr>\n",
       "    <tr>\n",
       "      <th>2</th>\n",
       "      <td>0.083</td>\n",
       "      <td>0.832</td>\n",
       "      <td>0.084</td>\n",
       "      <td>0.0772</td>\n",
       "    </tr>\n",
       "    <tr>\n",
       "      <th>3</th>\n",
       "      <td>0.062</td>\n",
       "      <td>0.789</td>\n",
       "      <td>0.149</td>\n",
       "      <td>0.9976</td>\n",
       "    </tr>\n",
       "    <tr>\n",
       "      <th>4</th>\n",
       "      <td>0.014</td>\n",
       "      <td>0.867</td>\n",
       "      <td>0.119</td>\n",
       "      <td>0.9869</td>\n",
       "    </tr>\n",
       "  </tbody>\n",
       "</table>\n",
       "</div>"
      ],
      "text/plain": [
       "     neg    neu    pos  compound\n",
       "0  0.026  0.752  0.222    0.9994\n",
       "1  0.082  0.834  0.084    0.3612\n",
       "2  0.083  0.832  0.084    0.0772\n",
       "3  0.062  0.789  0.149    0.9976\n",
       "4  0.014  0.867  0.119    0.9869"
      ]
     },
     "execution_count": 26,
>>>>>>> d0db4468b71c2be214fe68171c691dbba0946069
     "metadata": {},
     "output_type": "execute_result"
    }
   ],
   "source": [
<<<<<<< HEAD
    "len(relevant_sentences)"
=======
    "sia = SentimentIntensityAnalyzer()\n",
    "\n",
    "def get_vader_sentiment_scores(text):\n",
    "    sentences = sent_tokenize(text)\n",
    "    sentiment_scores = {}\n",
    "\n",
    "    for sentence in sentences:\n",
    "        score = sia.polarity_scores(sentence)\n",
    "        for sentiment in score:\n",
    "          sentiment_scores[sentiment] = score[sentiment]\n",
    "\n",
    "    return sentiment_scores\n",
    "\n",
    "vader_sentiments_list = list(df['clean_content_context'].apply(get_vader_sentiment_scores).values)\n",
    "vader_sentiments_df = pd.DataFrame(vader_sentiments_list)\n",
    "vader_sentiments_df.dropna(inplace=True)\n",
    "\n",
    "vader_sentiments_df.head()"
>>>>>>> d0db4468b71c2be214fe68171c691dbba0946069
   ]
  },
  {
   "cell_type": "code",
<<<<<<< HEAD
   "execution_count": 214,
   "metadata": {
    "colab": {
     "base_uri": "https://localhost:8080/",
     "height": 293
    },
    "id": "fdvJsXq0-rS_",
    "outputId": "4cde11ed-38fe-4600-efa0-d82878e2f024"
=======
   "execution_count": 27,
   "metadata": {
    "colab": {
     "base_uri": "https://localhost:8080/"
    },
    "id": "zE9gDh13evxa",
    "outputId": "90e375f9-c30e-4829-deb0-793364d48559"
>>>>>>> d0db4468b71c2be214fe68171c691dbba0946069
   },
   "outputs": [
    {
     "data": {
      "text/plain": [
<<<<<<< HEAD
       "\"The most you can lose on any stock (assuming you don't use leverage) is 100% of your money. But on the bright side, if you buy shares in a high quality company at the right price, you can gain well over 100%. For instance, the price of Microsoft Corporation (NASDAQ:MSFT) stock is up an impressive 268% over the last five years. But this move may well have been assisted by the reasonably buoyant market (up 12% in 90 days). So let's assess the underlying fundamentals over the last 5 years and see if they've moved in lock-step with shareholder returns. View our latest analysis for Microsoft \\nIn his essay The Superinvestors of Graham-and-Doddsville Warren Buffett described how share prices do not always rationally reflect the value of a business. During five years of share price growth, Microsoft achieved compound earnings per share (EPS) growth of 33% per year. This indicates that investor sentiment towards the company has not changed a great deal. Rather, the share price has approximately tracked EPS growth. We know that Microsoft has improved its bottom line lately, but is it going to grow revenue? Check if analysts think Microsoft will grow revenue in the future. It is important to consider the total shareholder return, as well as the share price return, for any given stock. So for companies that pay a generous dividend, the TSR is often a lot higher than the share price return. As it happens, Microsoft's TSR for the last 5 years was 288%, which exceeds the share price return mentioned earlier. The dividends paid by the company have thusly boosted the total shareholder return. It's nice to see that Microsoft shareholders have received a total shareholder return of 58% over the last year. Therefore it seems like sentiment around the company has been positive lately. Given the share price momentum remains strong, it might be worth taking a closer look at the stock, lest you miss an opportunity. I find it very interesting to look at share price over the long term as a proxy for business performance. If you like to buy stocks alongside management, then you might just love this free list of companies. Please note, the market returns quoted in this article reflect the market weighted average returns of stocks that currently trade on American exchanges. We aim to bring you long-term focused analysis driven by fundamental data.\""
      ]
     },
     "execution_count": 214,
     "metadata": {},
     "output_type": "execute_result"
    }
   ],
   "source": [
    "# Load a pre-trained sentence transformer model\n",
    "model = SentenceTransformer('paraphrase-MiniLM-L6-v2')\n",
    "\n",
    "# Define a core sentence related to the article\n",
    "core_sentence = \"Microsoft's stock has performed strongly over the last five years.\"\n",
    "\n",
    "# Encode the core sentence\n",
    "core_embedding = model.encode(core_sentence)\n",
    "\n",
    "# Your article sentences\n",
    "sentences = df.iloc[0]['text_sentences']\n",
    "\n",
    "# Filter sentences based on similarity to the core sentence\n",
    "filtered_sentences = []\n",
    "for sentence in sentences:\n",
    "    sentence_embedding = model.encode(sentence)\n",
    "    similarity = util.pytorch_cos_sim(core_embedding, sentence_embedding)\n",
    "    \n",
    "    # If similarity is above a certain threshold, keep the sentence\n",
    "    if similarity.item() > 0.2:  # Adjust threshold as necessary\n",
    "        filtered_sentences.append(sentence)\n",
    "\n",
    "' '.join(filtered_sentences)"
   ]
  },
  {
   "cell_type": "code",
   "execution_count": 225,
   "metadata": {},
   "outputs": [
    {
     "data": {
      "text/plain": [
       "22"
      ]
     },
     "execution_count": 225,
=======
       "(1083, 4)"
      ]
     },
     "execution_count": 27,
>>>>>>> d0db4468b71c2be214fe68171c691dbba0946069
     "metadata": {},
     "output_type": "execute_result"
    }
   ],
   "source": [
<<<<<<< HEAD
    "len(filtered_sentences)"
=======
    "vader_sentiments_df.shape"
   ]
  },
  {
   "cell_type": "markdown",
   "metadata": {},
   "source": [
    "### Sentiment Analysis with FinBERT"
   ]
  },
  {
   "cell_type": "markdown",
   "metadata": {},
   "source": [
    "FinBERT is a pre-trained transformer-based model fine-tuned specifically for financial sentiment analysis. It provides a deeper understanding of sentiments in financial texts by leveraging the contextual information that transformer models offer. This is particularly important for our analysis of Yahoo Finance articles, as financial language often contains industry-specific terminology and nuanced meanings that traditional sentiment analysis tools might miss."
>>>>>>> d0db4468b71c2be214fe68171c691dbba0946069
   ]
  },
  {
   "cell_type": "code",
<<<<<<< HEAD
   "execution_count": 329,
   "metadata": {
    "colab": {
     "base_uri": "https://localhost:8080/"
    },
    "id": "De4DMivRew5A",
    "outputId": "285bb9a3-d4b8-4c15-e3d6-b3e82b19c48a"
   },
   "outputs": [
    {
     "name": "stdout",
     "output_type": "stream",
     "text": [
      "<class 'pandas.core.frame.DataFrame'>\n",
      "RangeIndex: 1083 entries, 0 to 1082\n",
      "Data columns (total 7 columns):\n",
      " #   Column                 Non-Null Count  Dtype              \n",
      "---  ------                 --------------  -----              \n",
      " 0   Date                   1083 non-null   datetime64[ns, UTC]\n",
      " 1   Title                  1083 non-null   object             \n",
      " 2   Author                 1083 non-null   object             \n",
      " 3   Text                   1083 non-null   object             \n",
      " 4   Month                  1083 non-null   period[M]          \n",
      " 5   clean_content_context  1083 non-null   object             \n",
      " 6   text_sentences         1083 non-null   object             \n",
      "dtypes: datetime64[ns, UTC](1), object(5), period[M](1)\n",
      "memory usage: 59.4+ KB\n"
     ]
    }
   ],
   "source": [
    "df.info()"
   ]
  },
  {
   "cell_type": "markdown",
   "metadata": {},
   "source": [
    "### implement later: add those sentences to the df and use them for the pretrained models"
   ]
  },
  {
   "cell_type": "markdown",
   "metadata": {
    "id": "S8qbk85Dew5A"
   },
   "source": [
    "# Sentiment and Emotion Analysis of Financial News Articles"
   ]
  },
  {
   "cell_type": "markdown",
   "metadata": {
    "id": "CzgePm2Lew5A"
   },
   "source": [
    "### Sentiment Analysis with VADER"
   ]
  },
  {
   "cell_type": "markdown",
   "metadata": {
    "id": "TLCfJJ0Qew5A"
   },
   "source": [
    "VADER (Valence Aware Dictionary and sEntiment Reasoner) is a lexicon and rule-based sentiment analysis tool particularly well-suited for analyzing sentiments expressed in social media and news articles. It is effective for short texts and accounts for the nuances of language, including emoticons, slang, and common expressions. In our analysis, we use VADER to evaluate the sentiments in the online news articles we scraped from Yahoo Finance, as it provides quick and reliable sentiment scores for financial texts."
   ]
  },
  {
   "cell_type": "code",
   "execution_count": 191,
   "metadata": {},
   "outputs": [
    {
=======
   "execution_count": null,
   "metadata": {
    "colab": {
     "background_save": true
    },
    "id": "BF67sNVFyoJU"
   },
   "outputs": [],
   "source": [
    "# Initialize FinBERT pipeline for sentiment analysis using a model fine-tuned for financial text\n",
    "try:\n",
    "    finbert_pipeline = pipeline(\"sentiment-analysis\", model=\"yiyanghkust/finbert-tone\", tokenizer=\"yiyanghkust/finbert-tone\")\n",
    "except Exception as e:\n",
    "    print(f\"Error loading FinBERT model: {e}\")\n",
    "\n",
    "def get_finbert_sentiment_scores(text):\n",
    "    \"\"\"\n",
    "    Function to compute FinBERT sentiment scores on financial text.\n",
    "    It splits the text into sentences and handles cases where sentences are too long for the model.\n",
    "\n",
    "    Args:\n",
    "        text (str): The input financial text to analyze.\n",
    "\n",
    "    Returns:\n",
    "        list: A list of dictionaries containing sentiment scores for each sentence.\n",
    "    \"\"\"\n",
    "    try:\n",
    "        # Tokenize the text into individual sentences\n",
    "        sentences = sent_tokenize(text)\n",
    "        finbert_scores = []\n",
    "\n",
    "        # Iterate over sentences for sentiment analysis\n",
    "        for sentence in sentences:\n",
    "            # If the sentence is too long, split it into smaller chunks of 512 characters\n",
    "            if len(sentence) > 512:\n",
    "                chunks = [sentence[i:i + 512] for i in range(0, len(sentence), 512)]\n",
    "                for chunk in chunks:\n",
    "                    try:\n",
    "                        result = finbert_pipeline(chunk)\n",
    "                        finbert_scores.append(result[0])  # Store the result of each chunk\n",
    "                    except Exception as e:\n",
    "                        print(f\"Error analyzing chunk: {chunk[:30]}... -> {e}\")\n",
    "            else:\n",
    "                # Analyze normally if the sentence is within the 512-character limit\n",
    "                try:\n",
    "                    result = finbert_pipeline(sentence)\n",
    "                    finbert_scores.append(result[0])  # Store the result for each sentence\n",
    "                except Exception as e:\n",
    "                    print(f\"Error analyzing sentence: {sentence[:30]}... -> {e}\")\n",
    "\n",
    "        return finbert_scores\n",
    "    except Exception as e:\n",
    "        print(f\"Error during sentiment analysis: {e}\")\n",
    "        return []\n",
    "\n",
    "# Example: Apply the function to a dataframe column containing financial text\n",
    "# df['finbert_sentiments'] = df['clean_content_context'].apply(get_finbert_sentiment_scores)\n",
    "finbert = df['clean_content_context'].apply(get_finbert_sentiment_scores)\n",
    "finbert.dropna(inplace=True)\n",
    "\n",
    "finbert.head()"
   ]
  },
  {
   "cell_type": "markdown",
   "metadata": {},
   "source": [
    "### Mean Sentiment Scores"
   ]
  },
  {
   "cell_type": "markdown",
   "metadata": {},
   "source": [
    "Calculating the mean sentiment scores provides a consolidated view of the overall sentiment expressed in the articles. This step is crucial to understand general trends in the financial news sentiment over time. By averaging the sentiment scores, we can easily assess whether the overall tone of the articles is predominantly positive, negative, or neutral."
   ]
  },
  {
   "cell_type": "code",
   "execution_count": 28,
   "metadata": {
    "id": "VfA3CRnG0eHb"
   },
   "outputs": [
    {
>>>>>>> d0db4468b71c2be214fe68171c691dbba0946069
     "data": {
      "text/html": [
       "<div>\n",
       "<style scoped>\n",
       "    .dataframe tbody tr th:only-of-type {\n",
       "        vertical-align: middle;\n",
       "    }\n",
       "\n",
       "    .dataframe tbody tr th {\n",
       "        vertical-align: top;\n",
       "    }\n",
       "\n",
       "    .dataframe thead th {\n",
       "        text-align: right;\n",
       "    }\n",
       "</style>\n",
       "<table border=\"1\" class=\"dataframe\">\n",
       "  <thead>\n",
       "    <tr style=\"text-align: right;\">\n",
<<<<<<< HEAD
       "      <th></th>\n",
       "      <th>neg</th>\n",
       "      <th>neu</th>\n",
       "      <th>pos</th>\n",
       "      <th>compound</th>\n",
=======
       "      <th>label</th>\n",
       "      <th>Negative</th>\n",
       "      <th>Neutral</th>\n",
       "      <th>Positive</th>\n",
>>>>>>> d0db4468b71c2be214fe68171c691dbba0946069
       "    </tr>\n",
       "  </thead>\n",
       "  <tbody>\n",
       "    <tr>\n",
       "      <th>0</th>\n",
<<<<<<< HEAD
       "      <td>0.025</td>\n",
       "      <td>0.759</td>\n",
       "      <td>0.215</td>\n",
       "      <td>0.9993</td>\n",
       "    </tr>\n",
       "    <tr>\n",
       "      <th>1</th>\n",
       "      <td>0.068</td>\n",
       "      <td>0.852</td>\n",
       "      <td>0.081</td>\n",
       "      <td>0.6908</td>\n",
       "    </tr>\n",
       "    <tr>\n",
       "      <th>2</th>\n",
       "      <td>0.070</td>\n",
       "      <td>0.849</td>\n",
       "      <td>0.081</td>\n",
       "      <td>0.5423</td>\n",
       "    </tr>\n",
       "    <tr>\n",
       "      <th>3</th>\n",
       "      <td>0.055</td>\n",
       "      <td>0.800</td>\n",
       "      <td>0.145</td>\n",
       "      <td>0.9979</td>\n",
       "    </tr>\n",
       "    <tr>\n",
       "      <th>4</th>\n",
       "      <td>0.014</td>\n",
       "      <td>0.869</td>\n",
       "      <td>0.117</td>\n",
       "      <td>0.9869</td>\n",
=======
       "      <td>0.000000</td>\n",
       "      <td>0.995125</td>\n",
       "      <td>0.999990</td>\n",
       "    </tr>\n",
       "    <tr>\n",
       "      <th>1</th>\n",
       "      <td>0.000000</td>\n",
       "      <td>0.989776</td>\n",
       "      <td>0.999763</td>\n",
       "    </tr>\n",
       "    <tr>\n",
       "      <th>2</th>\n",
       "      <td>0.000000</td>\n",
       "      <td>0.999922</td>\n",
       "      <td>0.962712</td>\n",
       "    </tr>\n",
       "    <tr>\n",
       "      <th>3</th>\n",
       "      <td>0.956777</td>\n",
       "      <td>0.999995</td>\n",
       "      <td>0.999816</td>\n",
       "    </tr>\n",
       "    <tr>\n",
       "      <th>4</th>\n",
       "      <td>0.000000</td>\n",
       "      <td>0.992111</td>\n",
       "      <td>0.951249</td>\n",
>>>>>>> d0db4468b71c2be214fe68171c691dbba0946069
       "    </tr>\n",
       "  </tbody>\n",
       "</table>\n",
       "</div>"
      ],
      "text/plain": [
<<<<<<< HEAD
       "     neg    neu    pos  compound\n",
       "0  0.025  0.759  0.215    0.9993\n",
       "1  0.068  0.852  0.081    0.6908\n",
       "2  0.070  0.849  0.081    0.5423\n",
       "3  0.055  0.800  0.145    0.9979\n",
       "4  0.014  0.869  0.117    0.9869"
      ]
     },
     "execution_count": 191,
=======
       "label  Negative   Neutral  Positive\n",
       "0      0.000000  0.995125  0.999990\n",
       "1      0.000000  0.989776  0.999763\n",
       "2      0.000000  0.999922  0.962712\n",
       "3      0.956777  0.999995  0.999816\n",
       "4      0.000000  0.992111  0.951249"
      ]
     },
     "execution_count": 28,
>>>>>>> d0db4468b71c2be214fe68171c691dbba0946069
     "metadata": {},
     "output_type": "execute_result"
    }
   ],
   "source": [
<<<<<<< HEAD
    "# Initialize Sentiment Intensity Analyzer (VADER) for sentiment analysis\n",
    "sia = SentimentIntensityAnalyzer()\n",
    "\n",
    "# Apply VADER's polarity_scores function to each text in the 'Text' column of the DataFrame\n",
    "# This returns a dictionary of sentiment scores for each text (compound, positive, neutral, negative)\n",
    "vader = df['Text'].apply(sia.polarity_scores)\n",
    "\n",
    "# Convert the list of dictionaries containing sentiment scores into a DataFrame\n",
    "vader_sentiment_df = pd.DataFrame(vader.tolist())\n",
    "\n",
    "# Display the first few rows of the resulting DataFrame to inspect the sentiment scores\n",
    "vader_sentiment_df.head()"
=======
    "# Function to return a DataFrame with mean scores for each label\n",
    "def get_mean_scores_df(label_list, labels=['Negative', 'Neutral', 'Positive']):\n",
    "    # Convert the list of dictionaries to DataFrame\n",
    "    row_data = pd.DataFrame(label_list).groupby('label').mean().T\n",
    "\n",
    "    # Ensure all columns (labels) are present, and fill missing ones with 0\n",
    "    for label in labels:\n",
    "        if label not in row_data.columns:\n",
    "            row_data[label] = 0\n",
    "\n",
    "    # Reorder the columns to match the desired order (only if they exist in the data)\n",
    "    row_data = row_data[[label for label in labels if label in row_data.columns]]\n",
    "\n",
    "    return row_data\n",
    "\n",
    "# Adjust apply calls for each model, with appropriate labels\n",
    "finbert_mean_df = pd.concat(finbert.apply(lambda x: get_mean_scores_df(x)).tolist(), ignore_index=True)\n",
    "finbert_mean_df.dropna(inplace=True)\n",
    "\n",
    "finbert_mean_df.head()"
>>>>>>> d0db4468b71c2be214fe68171c691dbba0946069
   ]
  },
  {
   "cell_type": "markdown",
<<<<<<< HEAD
   "metadata": {
    "id": "Zh0erX1cew5B"
   },
   "source": [
    "### Sentiment Analysis with FinBERT"
=======
   "metadata": {},
   "source": [
    "### Summarization Using Bart"
>>>>>>> d0db4468b71c2be214fe68171c691dbba0946069
   ]
  },
  {
   "cell_type": "markdown",
<<<<<<< HEAD
   "metadata": {
    "id": "sNyT9U_sew5B"
   },
   "source": [
    "FinBERT is a pre-trained transformer-based model fine-tuned specifically for financial sentiment analysis. It provides a deeper understanding of sentiments in financial texts by leveraging the contextual information that transformer models offer. This is particularly important for our analysis of Yahoo Finance articles, as financial language often contains industry-specific terminology and nuanced meanings that traditional sentiment analysis tools might miss."
=======
   "metadata": {},
   "source": [
    "BART (Bidirectional and Auto-Regressive Transformers) is a transformer model designed for various natural language processing tasks, including text summarization. It effectively generates coherent and contextually relevant summaries from long documents. In our project, we utilize BART to distill the essential information from the financial news articles, allowing us to focus on the main insights without wading through extensive text."
   ]
  },
  {
   "cell_type": "code",
   "execution_count": 112,
   "metadata": {},
   "outputs": [],
   "source": [
    "from transformers import pipeline\n",
    "\n",
    "bart_limit = 512\n",
    "\n",
    "def get_summary(article):\n",
    "    summarizer = pipeline(\"summarization\", model=\"facebook/bart-large-cnn\")\n",
    "    \n",
    "    if len(article.split()) > bart_limit:\n",
    "        summaries = []\n",
    "        # for index in range(0, len(article.split()), bart_limit):\n",
    "        summaries = summarizer([article[index:index+bart_limit] for index in range(0,len(article.split()), bart_limit)]\n",
    "                               , max_length=100)\n",
    "        return ' '.join([summary['summary_text'] for summary in summaries]).strip()\n",
    "    else:\n",
    "        return summarizer(article, max_length=130)[0]['summary_text']"
>>>>>>> d0db4468b71c2be214fe68171c691dbba0946069
   ]
  },
  {
   "cell_type": "code",
<<<<<<< HEAD
   "execution_count": 13,
   "metadata": {
    "colab": {
     "base_uri": "https://localhost:8080/"
    },
    "id": "6WCL3JqFFTR0",
    "outputId": "7dc88943-a464-4bd8-d6c1-34f2e0f408b6"
   },
   "outputs": [
    {
     "data": {
      "text/plain": [
       "np.int64(210)"
      ]
     },
     "execution_count": 13,
     "metadata": {},
     "output_type": "execute_result"
    }
   ],
   "source": [
    "# Function to check for sentences longer than 512 characters\n",
    "def check_long_sentences(sentences):\n",
    "    return sum(len(sentence) > 512 for sentence in sentences)\n",
    "\n",
    "# Create a new column indicating whether any sentence exceeds 512 characters\n",
    "df['text_sentences'].apply(check_long_sentences).sum()"
=======
   "execution_count": null,
   "metadata": {},
   "outputs": [
    {
     "name": "stderr",
     "output_type": "stream",
     "text": [
      "Your max_length is set to 100, but your input_length is only 97. Since this is a summarization task, where outputs shorter than the input are typically wanted, you might consider decreasing max_length manually, e.g. summarizer('...', max_length=48)\n",
      "Your max_length is set to 100, but your input_length is only 92. Since this is a summarization task, where outputs shorter than the input are typically wanted, you might consider decreasing max_length manually, e.g. summarizer('...', max_length=46)\n",
      "Your max_length is set to 100, but your input_length is only 94. Since this is a summarization task, where outputs shorter than the input are typically wanted, you might consider decreasing max_length manually, e.g. summarizer('...', max_length=47)\n",
      "Your max_length is set to 100, but your input_length is only 97. Since this is a summarization task, where outputs shorter than the input are typically wanted, you might consider decreasing max_length manually, e.g. summarizer('...', max_length=48)\n",
      "Your max_length is set to 100, but your input_length is only 95. Since this is a summarization task, where outputs shorter than the input are typically wanted, you might consider decreasing max_length manually, e.g. summarizer('...', max_length=47)\n",
      "Your max_length is set to 100, but your input_length is only 95. Since this is a summarization task, where outputs shorter than the input are typically wanted, you might consider decreasing max_length manually, e.g. summarizer('...', max_length=47)\n",
      "Your max_length is set to 100, but your input_length is only 78. Since this is a summarization task, where outputs shorter than the input are typically wanted, you might consider decreasing max_length manually, e.g. summarizer('...', max_length=39)\n",
      "Your max_length is set to 100, but your input_length is only 92. Since this is a summarization task, where outputs shorter than the input are typically wanted, you might consider decreasing max_length manually, e.g. summarizer('...', max_length=46)\n",
      "Your max_length is set to 100, but your input_length is only 96. Since this is a summarization task, where outputs shorter than the input are typically wanted, you might consider decreasing max_length manually, e.g. summarizer('...', max_length=48)\n",
      "Your max_length is set to 100, but your input_length is only 96. Since this is a summarization task, where outputs shorter than the input are typically wanted, you might consider decreasing max_length manually, e.g. summarizer('...', max_length=48)\n",
      "Your max_length is set to 100, but your input_length is only 93. Since this is a summarization task, where outputs shorter than the input are typically wanted, you might consider decreasing max_length manually, e.g. summarizer('...', max_length=46)\n",
      "Your max_length is set to 100, but your input_length is only 98. Since this is a summarization task, where outputs shorter than the input are typically wanted, you might consider decreasing max_length manually, e.g. summarizer('...', max_length=49)\n",
      "Your max_length is set to 100, but your input_length is only 98. Since this is a summarization task, where outputs shorter than the input are typically wanted, you might consider decreasing max_length manually, e.g. summarizer('...', max_length=49)\n",
      "Your max_length is set to 100, but your input_length is only 98. Since this is a summarization task, where outputs shorter than the input are typically wanted, you might consider decreasing max_length manually, e.g. summarizer('...', max_length=49)\n",
      "Your max_length is set to 100, but your input_length is only 95. Since this is a summarization task, where outputs shorter than the input are typically wanted, you might consider decreasing max_length manually, e.g. summarizer('...', max_length=47)\n",
      "Your max_length is set to 100, but your input_length is only 90. Since this is a summarization task, where outputs shorter than the input are typically wanted, you might consider decreasing max_length manually, e.g. summarizer('...', max_length=45)\n",
      "Your max_length is set to 100, but your input_length is only 93. Since this is a summarization task, where outputs shorter than the input are typically wanted, you might consider decreasing max_length manually, e.g. summarizer('...', max_length=46)\n",
      "Your max_length is set to 100, but your input_length is only 97. Since this is a summarization task, where outputs shorter than the input are typically wanted, you might consider decreasing max_length manually, e.g. summarizer('...', max_length=48)\n",
      "Your max_length is set to 100, but your input_length is only 93. Since this is a summarization task, where outputs shorter than the input are typically wanted, you might consider decreasing max_length manually, e.g. summarizer('...', max_length=46)\n",
      "Your max_length is set to 100, but your input_length is only 97. Since this is a summarization task, where outputs shorter than the input are typically wanted, you might consider decreasing max_length manually, e.g. summarizer('...', max_length=48)\n",
      "Your max_length is set to 100, but your input_length is only 96. Since this is a summarization task, where outputs shorter than the input are typically wanted, you might consider decreasing max_length manually, e.g. summarizer('...', max_length=48)\n",
      "Your max_length is set to 100, but your input_length is only 98. Since this is a summarization task, where outputs shorter than the input are typically wanted, you might consider decreasing max_length manually, e.g. summarizer('...', max_length=49)\n"
     ]
    }
   ],
   "source": [
    "from transformers import pipeline\n",
    "\n",
    "bart_limit = 512\n",
    "\n",
    "def get_summary(article):\n",
    "    summarizer = pipeline(\"summarization\", model=\"facebook/bart-large-cnn\")\n",
    "    \n",
    "    if len(article.split()) > bart_limit:\n",
    "        summaries = []\n",
    "        # for index in range(0, len(article.split()), bart_limit):\n",
    "        summaries = summarizer([article[index:index+bart_limit] for index in range(0,len(article.split()), bart_limit)]\n",
    "                               , max_length=100)\n",
    "        return ' '.join([summary['summary_text'] for summary in summaries])\n",
    "    else:\n",
    "        return summarizer(article, max_length=130)\n",
    "\n",
    "# Create the summarization pipeline\n",
    "summarizer = pipeline(\"summarization\", model=\"facebook/bart-large-cnn\", max_length=130)\n",
    "    \n",
    "# Ensure that the input data is a string\n",
    "df['clean_content_context'] = df['clean_content_context'].astype(str)\n",
    "\n",
    "# Summarize the text and reate a DataFrame for summaries\n",
    "summary_df = pd.DataFrame(df['clean_content_context'].apply(get_summary)).rename({'clean_content_context': 'Summary'}, axis=1)\n",
    "summary_df.head()"
   ]
  },
  {
   "cell_type": "markdown",
   "metadata": {},
   "source": [
    "### Entity and Emotion Extraction"
   ]
  },
  {
   "cell_type": "markdown",
   "metadata": {},
   "source": [
    "To gain deeper insights into the emotional landscape of the articles, we apply techniques to extract entities and emotions. This step enriches our analysis by identifying key entities mentioned in the articles and understanding the emotions expressed about these entities. This nuanced understanding can aid in more targeted sentiment analysis and reporting."
   ]
  },
  {
   "cell_type": "code",
   "execution_count": null,
   "metadata": {},
   "outputs": [],
   "source": [
    "! pip install spacy\n",
    "! python -m spacy download en_core_web_sm"
>>>>>>> d0db4468b71c2be214fe68171c691dbba0946069
   ]
  },
  {
   "cell_type": "code",
<<<<<<< HEAD
   "execution_count": 14,
   "metadata": {
    "colab": {
     "base_uri": "https://localhost:8080/"
    },
    "id": "vEJVEmXoGTid",
    "outputId": "45478cc4-33db-4cf4-e54f-67041829ea74"
   },
   "outputs": [
    {
     "data": {
      "text/plain": [
       "np.int64(34843)"
      ]
     },
     "execution_count": 14,
     "metadata": {},
     "output_type": "execute_result"
    }
   ],
   "source": [
    "# Function to check for sentences longer than 512 characters\n",
    "def check_short_sentences(sentences):\n",
    "    return len(sentences)\n",
    "\n",
    "# Create a new column indicating whether any sentence exceeds 512 characters\n",
    "df['text_sentences'].apply(check_short_sentences).sum()"
   ]
  },
  {
   "cell_type": "code",
   "execution_count": 15,
   "metadata": {
    "id": "FdT4k9ZAGb2q"
   },
   "outputs": [],
   "source": [
    "# Function to drop sentences longer than 512 characters\n",
    "def drop_long_sentences(sentences):\n",
    "    return [sentence for sentence in sentences if len(sentence) <= 512]\n",
    "\n",
    "# Apply the function to the text_sentences column\n",
    "df['text_sentences'] = df['text_sentences'].apply(drop_long_sentences)"
=======
   "execution_count": 40,
   "metadata": {
    "colab": {
     "background_save": true
    },
    "id": "frS9z39pDOFa"
   },
   "outputs": [],
   "source": [
    "import spacy\n",
    "from nrclex import NRCLex\n",
    "\n",
    "# Load SpaCy model (ensure you have it installed, e.g., 'en_core_web_sm')\n",
    "nlp = spacy.load('en_core_web_sm')\n",
    "\n",
    "def extract_entities_and_emotions(text):\n",
    "    doc = nlp(text)\n",
    "    results = []\n",
    "\n",
    "    for sent in doc.sents:\n",
    "        sent_text = sent.text\n",
    "        entities = [ent.text for ent in sent.ents]\n",
    "        emotions = NRCLex(sent_text).raw_emotion_scores\n",
    "        results.append({\n",
    "            'sentence': sent_text,\n",
    "            'entities': entities,\n",
    "            'emotions': emotions\n",
    "        })\n",
    "\n",
    "    return results\n",
    "\n",
    "# df['entities_and_emotions'] = df['clean_content_context'].apply(extract_entities_and_emotions)\n",
    "entities_and_emotions = df['clean_content_no_stopwords'].apply(extract_entities_and_emotions)"
>>>>>>> d0db4468b71c2be214fe68171c691dbba0946069
   ]
  },
  {
   "cell_type": "code",
<<<<<<< HEAD
   "execution_count": 16,
   "metadata": {
    "colab": {
     "base_uri": "https://localhost:8080/"
    },
    "id": "4qZC01kdGeGi",
    "outputId": "8fa5983f-cb1c-4957-9cfa-9b63d167aafd"
=======
   "execution_count": 41,
   "metadata": {
    "colab": {
     "background_save": true
    },
    "id": "L8HbMOFiYEGO"
>>>>>>> d0db4468b71c2be214fe68171c691dbba0946069
   },
   "outputs": [
    {
     "data": {
<<<<<<< HEAD
      "text/plain": [
       "np.int64(0)"
      ]
     },
     "execution_count": 16,
=======
      "text/html": [
       "<div>\n",
       "<style scoped>\n",
       "    .dataframe tbody tr th:only-of-type {\n",
       "        vertical-align: middle;\n",
       "    }\n",
       "\n",
       "    .dataframe tbody tr th {\n",
       "        vertical-align: top;\n",
       "    }\n",
       "\n",
       "    .dataframe thead th {\n",
       "        text-align: right;\n",
       "    }\n",
       "</style>\n",
       "<table border=\"1\" class=\"dataframe\">\n",
       "  <thead>\n",
       "    <tr style=\"text-align: right;\">\n",
       "      <th></th>\n",
       "      <th>anger</th>\n",
       "      <th>disgust</th>\n",
       "      <th>fear</th>\n",
       "      <th>negative</th>\n",
       "      <th>sadness</th>\n",
       "      <th>surprise</th>\n",
       "      <th>positive</th>\n",
       "      <th>anticipation</th>\n",
       "      <th>joy</th>\n",
       "      <th>trust</th>\n",
       "    </tr>\n",
       "  </thead>\n",
       "  <tbody>\n",
       "    <tr>\n",
       "      <th>0</th>\n",
       "      <td>2.0</td>\n",
       "      <td>2.0</td>\n",
       "      <td>5.0</td>\n",
       "      <td>6.0</td>\n",
       "      <td>3.0</td>\n",
       "      <td>3.0</td>\n",
       "      <td>49.0</td>\n",
       "      <td>29.0</td>\n",
       "      <td>25.0</td>\n",
       "      <td>35.0</td>\n",
       "    </tr>\n",
       "    <tr>\n",
       "      <th>1</th>\n",
       "      <td>1.0</td>\n",
       "      <td>6.0</td>\n",
       "      <td>1.0</td>\n",
       "      <td>10.0</td>\n",
       "      <td>0.0</td>\n",
       "      <td>1.0</td>\n",
       "      <td>9.0</td>\n",
       "      <td>6.0</td>\n",
       "      <td>2.0</td>\n",
       "      <td>6.0</td>\n",
       "    </tr>\n",
       "    <tr>\n",
       "      <th>2</th>\n",
       "      <td>1.0</td>\n",
       "      <td>6.0</td>\n",
       "      <td>3.0</td>\n",
       "      <td>11.0</td>\n",
       "      <td>0.0</td>\n",
       "      <td>1.0</td>\n",
       "      <td>13.0</td>\n",
       "      <td>6.0</td>\n",
       "      <td>4.0</td>\n",
       "      <td>9.0</td>\n",
       "    </tr>\n",
       "    <tr>\n",
       "      <th>3</th>\n",
       "      <td>4.0</td>\n",
       "      <td>7.0</td>\n",
       "      <td>6.0</td>\n",
       "      <td>20.0</td>\n",
       "      <td>5.0</td>\n",
       "      <td>6.0</td>\n",
       "      <td>36.0</td>\n",
       "      <td>15.0</td>\n",
       "      <td>7.0</td>\n",
       "      <td>20.0</td>\n",
       "    </tr>\n",
       "    <tr>\n",
       "      <th>4</th>\n",
       "      <td>0.0</td>\n",
       "      <td>0.0</td>\n",
       "      <td>3.0</td>\n",
       "      <td>0.0</td>\n",
       "      <td>0.0</td>\n",
       "      <td>0.0</td>\n",
       "      <td>24.0</td>\n",
       "      <td>16.0</td>\n",
       "      <td>7.0</td>\n",
       "      <td>4.0</td>\n",
       "    </tr>\n",
       "  </tbody>\n",
       "</table>\n",
       "</div>"
      ],
      "text/plain": [
       "   anger  disgust  fear  negative  sadness  surprise  positive  anticipation  \\\n",
       "0    2.0      2.0   5.0       6.0      3.0       3.0      49.0          29.0   \n",
       "1    1.0      6.0   1.0      10.0      0.0       1.0       9.0           6.0   \n",
       "2    1.0      6.0   3.0      11.0      0.0       1.0      13.0           6.0   \n",
       "3    4.0      7.0   6.0      20.0      5.0       6.0      36.0          15.0   \n",
       "4    0.0      0.0   3.0       0.0      0.0       0.0      24.0          16.0   \n",
       "\n",
       "    joy  trust  \n",
       "0  25.0   35.0  \n",
       "1   2.0    6.0  \n",
       "2   4.0    9.0  \n",
       "3   7.0   20.0  \n",
       "4   7.0    4.0  "
      ]
     },
     "execution_count": 41,
>>>>>>> d0db4468b71c2be214fe68171c691dbba0946069
     "metadata": {},
     "output_type": "execute_result"
    }
   ],
   "source": [
<<<<<<< HEAD
    "df['text_sentences'].apply(check_long_sentences).sum()"
=======
    "import numpy as np\n",
    "import pandas as pd\n",
    "\n",
    "def extract_emotions(row):\n",
    "    # Initialize an empty dictionary to store sums of emotions\n",
    "    summed_emotions = {}\n",
    "    count = len(row)  # Number of dictionaries in the row\n",
    "\n",
    "    # Loop through each index in the row\n",
    "    for index in range(count):  # Assuming row is a list of dictionaries\n",
    "        emotions_dict = row[index]['emotions']  # Extract the emotions dictionary\n",
    "\n",
    "        # Add up emotion values, initializing keys if they don't exist yet\n",
    "        for emotion, value in emotions_dict.items():\n",
    "            if emotion in summed_emotions:\n",
    "                summed_emotions[emotion] += value\n",
    "            else:\n",
    "                summed_emotions[emotion] = value\n",
    "\n",
    "    # Calculate the mean by dividing the summed values by the number of entries\n",
    "    mean_emotions = {emotion: value / count for emotion, value in summed_emotions.items()}\n",
    "\n",
    "    # Convert the dictionary to a DataFrame row\n",
    "    return pd.DataFrame([mean_emotions])\n",
    "\n",
    "# Apply the function to every row in the entities_and_emotions DataFrame\n",
    "emotions_df = pd.concat(entities_and_emotions.apply(lambda row: extract_emotions(row)).tolist(), ignore_index=True)\n",
    "\n",
    "# Replace NaN values with 0 if necessary\n",
    "emotions_df.replace(np.nan, 0, inplace=True)\n",
    "emotions_df.head()"
>>>>>>> d0db4468b71c2be214fe68171c691dbba0946069
   ]
  },
  {
   "cell_type": "code",
<<<<<<< HEAD
   "execution_count": 17,
   "metadata": {
    "id": "BF67sNVFyoJU"
   },
   "outputs": [
    {
     "data": {
      "text/plain": [
       "0    [{'label': 'Neutral', 'score': 0.9998666048049...\n",
       "1    [{'label': 'Neutral', 'score': 0.9916757345199...\n",
       "2    [{'label': 'Positive', 'score': 0.999999523162...\n",
       "3    [{'label': 'Neutral', 'score': 0.9830585718154...\n",
       "4    [{'label': 'Neutral', 'score': 0.9972526431083...\n",
       "Name: text_sentences, dtype: object"
      ]
     },
     "execution_count": 17,
     "metadata": {},
     "output_type": "execute_result"
    }
   ],
   "source": [
    "# Initialize FinBERT pipeline for sentiment analysis using a model fine-tuned for financial text\n",
    "try:\n",
    "    # Load the FinBERT model and tokenizer for sentiment analysis\n",
    "    finbert_pipeline = pipeline(\"sentiment-analysis\", model=\"yiyanghkust/finbert-tone\", tokenizer=\"yiyanghkust/finbert-tone\")\n",
    "except Exception as e:\n",
    "    # Print an error message if the model fails to load\n",
    "    print(f\"Error loading FinBERT model: {e}\")\n",
    " \n",
    "# Attempt to apply the FinBERT pipeline to the 'text_sentences' column of the DataFrame\n",
    "try:\n",
    "    # Apply the FinBERT pipeline to each list of sentences in the DataFrame\n",
    "    finbert = df['text_sentences'].apply(finbert_pipeline)\n",
    "except Exception as e:\n",
    "    # Print an error message if there is an issue during the application\n",
    "    print(f\"Error applying FinBERT to text_sentences: {e}\")\n",
    "    \n",
    "finbert.dropna(inplace=True)\n",
    "\n",
    "finbert.head()"
=======
   "execution_count": null,
   "metadata": {},
   "outputs": [],
   "source": [
    "# Adjust the extract_emotions function to work with entities\n",
    "def extract_emotions_by_entity(row):\n",
    "    # Initialize an empty dictionary to store sums of emotions per entity\n",
    "    summed_emotions = {}\n",
    "    count_dict = {}\n",
    "\n",
    "    # Loop through each dictionary in the row (list of dictionaries)\n",
    "    for entry in row:\n",
    "        entity = entry['entity']\n",
    "        emotions_dict = entry['emotions']\n",
    "\n",
    "        # Initialize entity emotion tracking if it doesn't exist\n",
    "        if entity not in summed_emotions:\n",
    "            summed_emotions[entity] = {}\n",
    "            count_dict[entity] = 0\n",
    "\n",
    "        # Add up emotion values for the entity, initializing keys if they don't exist yet\n",
    "        for emotion, value in emotions_dict.items():\n",
    "            if emotion in summed_emotions[entity]:\n",
    "                summed_emotions[entity][emotion] += value\n",
    "            else:\n",
    "                summed_emotions[entity][emotion] = value\n",
    "\n",
    "        # Increase the count for the entity\n",
    "        count_dict[entity] += 1\n",
    "\n",
    "    # Calculate the mean for each entity's emotions\n",
    "    mean_emotions = {\n",
    "        entity: {emotion: value / count_dict[entity] for emotion, value in emotions.items()}\n",
    "        for entity, emotions in summed_emotions.items()\n",
    "    }\n",
    "\n",
    "    # Convert the dictionary to a DataFrame with each entity's average emotions\n",
    "    return pd.DataFrame([{'entity': entity, **emotions} for entity, emotions in mean_emotions.items()])\n",
    "\n",
    "\n",
    "# Apply the function to every row in the DataFrame\n",
    "tmp = pd.concat(\n",
    "    entities_and_emotions.apply(lambda row: extract_emotions_by_entity(row)).tolist(),\n",
    "    ignore_index=True\n",
    ")\n",
    "tmp.head()"
>>>>>>> d0db4468b71c2be214fe68171c691dbba0946069
   ]
  },
  {
   "cell_type": "markdown",
<<<<<<< HEAD
   "metadata": {
    "id": "t6Y388xbew5B"
   },
   "source": [
    "### Aggregate. change this cell and the next one!!!!\n"
=======
   "metadata": {},
   "source": [
    "# Data Preparation and Final DataFrame Creation"
>>>>>>> d0db4468b71c2be214fe68171c691dbba0946069
   ]
  },
  {
   "cell_type": "markdown",
<<<<<<< HEAD
   "metadata": {
    "id": "Rc0KGmFRew5B"
   },
   "source": [
    "Calculating the mean sentiment scores provides a consolidated view of the overall sentiment expressed in the articles. This step is crucial to understand general trends in the financial news sentiment over time. By averaging the sentiment scores, we can easily assess whether the overall tone of the articles is predominantly positive, negative, or neutral."
   ]
  },
  {
   "cell_type": "code",
   "execution_count": 112,
   "metadata": {
    "scrolled": true
   },
   "outputs": [
    {
     "data": {
      "text/html": [
       "<div>\n",
       "<style scoped>\n",
       "    .dataframe tbody tr th:only-of-type {\n",
       "        vertical-align: middle;\n",
       "    }\n",
       "\n",
       "    .dataframe tbody tr th {\n",
       "        vertical-align: top;\n",
       "    }\n",
       "\n",
       "    .dataframe thead th {\n",
       "        text-align: right;\n",
       "    }\n",
       "</style>\n",
       "<table border=\"1\" class=\"dataframe\">\n",
       "  <thead>\n",
       "    <tr style=\"text-align: right;\">\n",
       "      <th></th>\n",
       "      <th>aggregated_score</th>\n",
       "      <th>overall_sentiment</th>\n",
       "    </tr>\n",
       "  </thead>\n",
       "  <tbody>\n",
       "    <tr>\n",
       "      <th>0</th>\n",
       "      <td>0.335452</td>\n",
       "      <td>Positive</td>\n",
       "    </tr>\n",
       "    <tr>\n",
       "      <th>1</th>\n",
       "      <td>0.196800</td>\n",
       "      <td>Neutral</td>\n",
       "    </tr>\n",
       "    <tr>\n",
       "      <th>2</th>\n",
       "      <td>0.259897</td>\n",
       "      <td>Positive</td>\n",
       "    </tr>\n",
       "    <tr>\n",
       "      <th>3</th>\n",
       "      <td>0.422063</td>\n",
       "      <td>Positive</td>\n",
       "    </tr>\n",
       "    <tr>\n",
       "      <th>4</th>\n",
       "      <td>0.138168</td>\n",
       "      <td>Neutral</td>\n",
       "    </tr>\n",
       "    <tr>\n",
       "      <th>...</th>\n",
       "      <td>...</td>\n",
       "      <td>...</td>\n",
       "    </tr>\n",
       "    <tr>\n",
       "      <th>1078</th>\n",
       "      <td>0.079055</td>\n",
       "      <td>Neutral</td>\n",
       "    </tr>\n",
       "    <tr>\n",
       "      <th>1079</th>\n",
       "      <td>0.443802</td>\n",
       "      <td>Positive</td>\n",
       "    </tr>\n",
       "    <tr>\n",
       "      <th>1080</th>\n",
       "      <td>0.128557</td>\n",
       "      <td>Neutral</td>\n",
       "    </tr>\n",
       "    <tr>\n",
       "      <th>1081</th>\n",
       "      <td>0.576430</td>\n",
       "      <td>Positive</td>\n",
       "    </tr>\n",
       "    <tr>\n",
       "      <th>1082</th>\n",
       "      <td>0.161833</td>\n",
       "      <td>Neutral</td>\n",
       "    </tr>\n",
       "  </tbody>\n",
       "</table>\n",
       "<p>1083 rows × 2 columns</p>\n",
       "</div>"
      ],
      "text/plain": [
       "      aggregated_score overall_sentiment\n",
       "0             0.335452          Positive\n",
       "1             0.196800           Neutral\n",
       "2             0.259897          Positive\n",
       "3             0.422063          Positive\n",
       "4             0.138168           Neutral\n",
       "...                ...               ...\n",
       "1078          0.079055           Neutral\n",
       "1079          0.443802          Positive\n",
       "1080          0.128557           Neutral\n",
       "1081          0.576430          Positive\n",
       "1082          0.161833           Neutral\n",
       "\n",
       "[1083 rows x 2 columns]"
      ]
     },
     "execution_count": 112,
     "metadata": {},
     "output_type": "execute_result"
    }
   ],
   "source": [
    "def aggregate_sentiments(sentiment_results):\n",
    "    # Mapping of labels to numerical values\n",
    "    label_to_score = {\n",
    "        'Positive': 1,\n",
    "        'Neutral': 0,\n",
    "        'Negative': -1\n",
    "    }\n",
    "    \n",
    "    # Initialize variables for weighted sum and total score\n",
    "    weighted_sum = 0\n",
    "    total_score = 0\n",
    "    \n",
    "    # Iterate over the list of sentiment dictionaries\n",
    "    for result in sentiment_results:\n",
    "        label = result['label']\n",
    "        score = result['score']\n",
    "        \n",
    "        # Calculate the weighted contribution of each result\n",
    "        weighted_sum += label_to_score[label] * score\n",
    "        total_score += score\n",
    "    \n",
    "    # Normalize the weighted sum by the total score if it's greater than zero\n",
    "    if total_score > 0:\n",
    "        aggregated_score = weighted_sum / total_score\n",
    "    else:\n",
    "        aggregated_score = 0\n",
    "    \n",
    "    # Determine the overall sentiment based on the aggregated score\n",
    "    if aggregated_score > 0.2:\n",
    "        overall_sentiment = 'Positive'\n",
    "    elif aggregated_score < -0.2:\n",
    "        overall_sentiment = 'Negative'\n",
    "    else:\n",
    "        overall_sentiment = 'Neutral'\n",
    "    \n",
    "    return {\n",
    "        'aggregated_score': aggregated_score,\n",
    "        'overall_sentiment': overall_sentiment\n",
    "    }\n",
    "\n",
    "# Example usage with the sentiment results list\n",
    "agg_finbert_df = pd.DataFrame(finbert.apply(aggregate_sentiments).tolist())\n",
    "agg_finbert_df"
=======
   "metadata": {},
   "source": [
    "In this section, we will prepare our data by adding prefixes to each DataFrame for better identification and then concatenate them into a single final DataFrame. This consolidated DataFrame will allow for easier analysis and export of results."
>>>>>>> d0db4468b71c2be214fe68171c691dbba0946069
   ]
  },
  {
   "cell_type": "markdown",
   "metadata": {},
   "source": [
<<<<<<< HEAD
    "### Loughran Mcdonald Lexicon"
   ]
  },
  {
   "cell_type": "code",
   "execution_count": 240,
   "metadata": {},
   "outputs": [
    {
     "data": {
      "text/html": [
       "<div>\n",
       "<style scoped>\n",
       "    .dataframe tbody tr th:only-of-type {\n",
       "        vertical-align: middle;\n",
       "    }\n",
       "\n",
       "    .dataframe tbody tr th {\n",
       "        vertical-align: top;\n",
       "    }\n",
       "\n",
       "    .dataframe thead th {\n",
       "        text-align: right;\n",
       "    }\n",
       "</style>\n",
       "<table border=\"1\" class=\"dataframe\">\n",
       "  <thead>\n",
       "    <tr style=\"text-align: right;\">\n",
       "      <th></th>\n",
       "      <th>Word</th>\n",
       "      <th>Seq_num</th>\n",
       "      <th>Word Count</th>\n",
       "      <th>Word Proportion</th>\n",
       "      <th>Average Proportion</th>\n",
       "      <th>Std Dev</th>\n",
       "      <th>Doc Count</th>\n",
       "      <th>Negative</th>\n",
       "      <th>Positive</th>\n",
       "      <th>Uncertainty</th>\n",
       "      <th>Litigious</th>\n",
       "      <th>Strong_Modal</th>\n",
       "      <th>Weak_Modal</th>\n",
       "      <th>Constraining</th>\n",
       "      <th>Complexity</th>\n",
       "      <th>Syllables</th>\n",
       "      <th>Source</th>\n",
       "    </tr>\n",
       "  </thead>\n",
       "  <tbody>\n",
       "    <tr>\n",
       "      <th>0</th>\n",
       "      <td>AARDVARK</td>\n",
       "      <td>1</td>\n",
       "      <td>664</td>\n",
       "      <td>2.690000e-08</td>\n",
       "      <td>1.860000e-08</td>\n",
       "      <td>4.050000e-06</td>\n",
       "      <td>131</td>\n",
       "      <td>0</td>\n",
       "      <td>0</td>\n",
       "      <td>0</td>\n",
       "      <td>0</td>\n",
       "      <td>0</td>\n",
       "      <td>0</td>\n",
       "      <td>0</td>\n",
       "      <td>0</td>\n",
       "      <td>2</td>\n",
       "      <td>12of12inf</td>\n",
       "    </tr>\n",
       "    <tr>\n",
       "      <th>1</th>\n",
       "      <td>AARDVARKS</td>\n",
       "      <td>2</td>\n",
       "      <td>3</td>\n",
       "      <td>1.210000e-10</td>\n",
       "      <td>8.230000e-12</td>\n",
       "      <td>9.020000e-09</td>\n",
       "      <td>1</td>\n",
       "      <td>0</td>\n",
       "      <td>0</td>\n",
       "      <td>0</td>\n",
       "      <td>0</td>\n",
       "      <td>0</td>\n",
       "      <td>0</td>\n",
       "      <td>0</td>\n",
       "      <td>0</td>\n",
       "      <td>2</td>\n",
       "      <td>12of12inf</td>\n",
       "    </tr>\n",
       "    <tr>\n",
       "      <th>2</th>\n",
       "      <td>ABACI</td>\n",
       "      <td>3</td>\n",
       "      <td>9</td>\n",
       "      <td>3.640000e-10</td>\n",
       "      <td>1.110000e-10</td>\n",
       "      <td>5.160000e-08</td>\n",
       "      <td>7</td>\n",
       "      <td>0</td>\n",
       "      <td>0</td>\n",
       "      <td>0</td>\n",
       "      <td>0</td>\n",
       "      <td>0</td>\n",
       "      <td>0</td>\n",
       "      <td>0</td>\n",
       "      <td>0</td>\n",
       "      <td>3</td>\n",
       "      <td>12of12inf</td>\n",
       "    </tr>\n",
       "    <tr>\n",
       "      <th>3</th>\n",
       "      <td>ABACK</td>\n",
       "      <td>4</td>\n",
       "      <td>29</td>\n",
       "      <td>1.170000e-09</td>\n",
       "      <td>6.330000e-10</td>\n",
       "      <td>1.560000e-07</td>\n",
       "      <td>28</td>\n",
       "      <td>0</td>\n",
       "      <td>0</td>\n",
       "      <td>0</td>\n",
       "      <td>0</td>\n",
       "      <td>0</td>\n",
       "      <td>0</td>\n",
       "      <td>0</td>\n",
       "      <td>0</td>\n",
       "      <td>2</td>\n",
       "      <td>12of12inf</td>\n",
       "    </tr>\n",
       "    <tr>\n",
       "      <th>4</th>\n",
       "      <td>ABACUS</td>\n",
       "      <td>5</td>\n",
       "      <td>9349</td>\n",
       "      <td>3.790000e-07</td>\n",
       "      <td>3.830000e-07</td>\n",
       "      <td>3.460000e-05</td>\n",
       "      <td>1239</td>\n",
       "      <td>0</td>\n",
       "      <td>0</td>\n",
       "      <td>0</td>\n",
       "      <td>0</td>\n",
       "      <td>0</td>\n",
       "      <td>0</td>\n",
       "      <td>0</td>\n",
       "      <td>0</td>\n",
       "      <td>3</td>\n",
       "      <td>12of12inf</td>\n",
       "    </tr>\n",
       "  </tbody>\n",
       "</table>\n",
       "</div>"
      ],
      "text/plain": [
       "        Word  Seq_num  Word Count  Word Proportion  Average Proportion  \\\n",
       "0   AARDVARK        1         664     2.690000e-08        1.860000e-08   \n",
       "1  AARDVARKS        2           3     1.210000e-10        8.230000e-12   \n",
       "2      ABACI        3           9     3.640000e-10        1.110000e-10   \n",
       "3      ABACK        4          29     1.170000e-09        6.330000e-10   \n",
       "4     ABACUS        5        9349     3.790000e-07        3.830000e-07   \n",
       "\n",
       "        Std Dev  Doc Count  Negative  Positive  Uncertainty  Litigious  \\\n",
       "0  4.050000e-06        131         0         0            0          0   \n",
       "1  9.020000e-09          1         0         0            0          0   \n",
       "2  5.160000e-08          7         0         0            0          0   \n",
       "3  1.560000e-07         28         0         0            0          0   \n",
       "4  3.460000e-05       1239         0         0            0          0   \n",
       "\n",
       "   Strong_Modal  Weak_Modal  Constraining  Complexity  Syllables     Source  \n",
       "0             0           0             0           0          2  12of12inf  \n",
       "1             0           0             0           0          2  12of12inf  \n",
       "2             0           0             0           0          3  12of12inf  \n",
       "3             0           0             0           0          2  12of12inf  \n",
       "4             0           0             0           0          3  12of12inf  "
      ]
     },
     "execution_count": 240,
     "metadata": {},
     "output_type": "execute_result"
    }
   ],
   "source": [
    "loghran_mcdonald_path = './Loughran-McDonald_MasterDictionary_1993-2023.csv'\n",
    "\n",
    "loghran_mcdonald_df = pd.read_csv(loghran_mcdonald_path)\n",
    "loghran_mcdonald_df.head()"
=======
    "### Adding Prefixes and Concatenating DataFrames"
   ]
  },
  {
   "cell_type": "markdown",
   "metadata": {},
   "source": [
    "To differentiate between the various DataFrames we have generated, we will add specific prefixes to each DataFrame. This will help in identifying which columns belong to which sentiment analysis technique or original content. After adding the prefixes, we will compile a list of all the DataFrames and concatenate them into a single DataFrame for streamlined analysis.\n"
>>>>>>> d0db4468b71c2be214fe68171c691dbba0946069
   ]
  },
  {
   "cell_type": "code",
<<<<<<< HEAD
   "execution_count": 253,
   "metadata": {},
   "outputs": [
    {
     "data": {
      "text/plain": [
       "array([    0,  2009, -2020,  2012,  2011])"
      ]
     },
     "execution_count": 253,
     "metadata": {},
     "output_type": "execute_result"
    }
   ],
   "source": [
    "loghran_mcdonald_df['Positive'].unique()"
   ]
  },
  {
   "cell_type": "markdown",
   "metadata": {},
   "source": [
    "https://sraf.nd.edu/loughranmcdonald-master-dictionary/\n",
    "The sentiment categories are: negative, positive, uncertainty, litigious, strong modal, weak modal, and constraining. The sentiment words are flagged with a number indicating the year in which they were added to the list. Note: A year preceded by a negative sign indicates the year/version when the word was removed from the sentiment category.  "
=======
   "execution_count": null,
   "metadata": {
    "colab": {
     "background_save": true
    },
    "id": "gt-NaKjVcdwl"
   },
   "outputs": [],
   "source": [
    "# Add prefixes to each DataFrame\n",
    "final_df = df.add_prefix('original_')  # Prefix for the original df\n",
    "vader_sentiments_df_with_prefix = vader_sentiments_df.add_prefix('vader_')  # Prefix for VADER sentiment\n",
    "finbert_df_with_prefix = finbert_mean_df.add_prefix('finbert_')  # Prefix for FinBERT sentiment\n",
    "summary_df_prefix = summary_df.add_prefix('summary_')\n",
    "emotions_df_with_prefix = emotions_df.add_prefix('emotions_')  # Prefix for emotions"
   ]
  },
  {
   "cell_type": "code",
   "execution_count": null,
   "metadata": {},
   "outputs": [],
   "source": [
    "print(final_df.shape)\n",
    "print(vader_sentiments_df_with_prefix.shape)\n",
    "print(finbert_df_with_prefix.shape)\n",
    "print(summary_df_prefix.shape)\n",
    "print(emotions_df_with_prefix.shape)"
>>>>>>> d0db4468b71c2be214fe68171c691dbba0946069
   ]
  },
  {
   "cell_type": "code",
<<<<<<< HEAD
   "execution_count": 316,
   "metadata": {
    "id": "frS9z39pDOFa"
   },
   "outputs": [
    {
     "data": {
      "text/html": [
       "<div>\n",
       "<style scoped>\n",
       "    .dataframe tbody tr th:only-of-type {\n",
       "        vertical-align: middle;\n",
       "    }\n",
       "\n",
       "    .dataframe tbody tr th {\n",
       "        vertical-align: top;\n",
       "    }\n",
       "\n",
       "    .dataframe thead th {\n",
       "        text-align: right;\n",
       "    }\n",
       "</style>\n",
       "<table border=\"1\" class=\"dataframe\">\n",
       "  <thead>\n",
       "    <tr style=\"text-align: right;\">\n",
       "      <th></th>\n",
       "      <th>positive</th>\n",
       "      <th>negative</th>\n",
       "      <th>uncertainty</th>\n",
       "    </tr>\n",
       "  </thead>\n",
       "  <tbody>\n",
       "    <tr>\n",
       "      <th>0</th>\n",
       "      <td>12</td>\n",
       "      <td>4</td>\n",
       "      <td>8</td>\n",
       "    </tr>\n",
       "    <tr>\n",
       "      <th>1</th>\n",
       "      <td>4</td>\n",
       "      <td>1</td>\n",
       "      <td>3</td>\n",
       "    </tr>\n",
       "    <tr>\n",
       "      <th>2</th>\n",
       "      <td>3</td>\n",
       "      <td>1</td>\n",
       "      <td>4</td>\n",
       "    </tr>\n",
       "    <tr>\n",
       "      <th>3</th>\n",
       "      <td>16</td>\n",
       "      <td>9</td>\n",
       "      <td>9</td>\n",
       "    </tr>\n",
       "    <tr>\n",
       "      <th>4</th>\n",
       "      <td>2</td>\n",
       "      <td>1</td>\n",
       "      <td>4</td>\n",
       "    </tr>\n",
       "  </tbody>\n",
       "</table>\n",
       "</div>"
      ],
      "text/plain": [
       "   positive  negative  uncertainty\n",
       "0        12         4            8\n",
       "1         4         1            3\n",
       "2         3         1            4\n",
       "3        16         9            9\n",
       "4         2         1            4"
      ]
     },
     "execution_count": 316,
     "metadata": {},
     "output_type": "execute_result"
    }
   ],
   "source": [
    "import pandas as pd\n",
    "import nltk\n",
    "\n",
    "def load_loughran_mcdonald_lexicon(path):\n",
    "    \"\"\"\n",
    "    Load the Loughran-McDonald lexicon from a CSV file.\n",
    "\n",
    "    Args:\n",
    "        path (str): The path to the Loughran-McDonald Master Dictionary CSV file.\n",
    "\n",
    "    Returns:\n",
    "        tuple: A set of positive words and a set of negative words extracted from the lexicon.\n",
    "    \"\"\"\n",
    "    # Read the lexicon CSV file into a DataFrame\n",
    "    lexicon_df = pd.read_csv(path)\n",
    "    # Extract positive words into a set\n",
    "    positive_words = set(lexicon_df[lexicon_df['Positive'] > 0]['Word'].str.lower())\n",
    "    # Extract negative words into a set\n",
    "    negative_words = set(lexicon_df[lexicon_df['Negative'] > 0]['Word'].str.lower())\n",
    "    return positive_words, negative_words\n",
    "\n",
    "# Path to the Loughran-McDonald lexicon file\n",
    "loughran_mcdonald_lexicon_path = 'Loughran-McDonald_MasterDictionary_1993-2023.csv'\n",
    "\n",
    "# Load positive and negative words from the lexicon\n",
    "positive_words, negative_words = load_loughran_mcdonald_lexicon(loughran_mcdonald_lexicon_path)\n",
    "\n",
    "def get_domain_sentiment(text, positive_words, negative_words):\n",
    "    \"\"\"\n",
    "    Calculate the sentiment of a given text using the Loughran-McDonald lexicon.\n",
    "\n",
    "    Args:\n",
    "        text (str): The input text to analyze.\n",
    "        positive_words (set): A set of words classified as positive.\n",
    "        negative_words (set): A set of words classified as negative.\n",
    "\n",
    "    Returns:\n",
    "        dict: A dictionary containing counts of positive, negative, and uncertainty words in the text.\n",
    "    \"\"\"\n",
    "    # Tokenize the text and convert to lowercase\n",
    "    tokens = nltk.word_tokenize(text.lower())\n",
    "    # Count occurrences of positive words\n",
    "    pos_count = len([word for word in tokens if word in positive_words])\n",
    "    # Count occurrences of negative words\n",
    "    neg_count = len([word for word in tokens if word in negative_words])\n",
    "    # Count occurrences of uncertainty words (assuming `uncertainty_words` is defined)\n",
    "    unc_count = len([word for word in tokens if word in uncertainty_words])\n",
    "    return {'positive': pos_count, 'negative': neg_count, 'uncertainty': unc_count}\n",
    "\n",
    "# Create a DataFrame with sentiment counts from the cleaned content of articles\n",
    "loughran_mcdonald_sentiments_df = pd.DataFrame(\n",
    "    df['clean_content_context'].apply(lambda text: get_domain_sentiment(text, positive_words, negative_words)).tolist()\n",
    ")\n",
    "\n",
    "# Display the first few rows of the resulting DataFrame\n",
    "loughran_mcdonald_sentiments_df.head()"
=======
   "execution_count": null,
   "metadata": {
    "id": "WR21gZiV02nk"
   },
   "outputs": [],
   "source": [
    "# List of DataFrames to concatenate\n",
    "dfs = [final_df, vader_sentiments_df_with_prefix, finbert_df_with_prefix, \n",
    "       summary_df_prefix, emotions_df_with_prefix]\n",
    "\n",
    "# Concatenate all DataFrames along axis=1\n",
    "final_df = pd.concat(dfs, axis=1)\n",
    "\n",
    "# Show the resulting DataFrame\n",
    "final_df.head()\n"
>>>>>>> d0db4468b71c2be214fe68171c691dbba0946069
   ]
  },
  {
   "cell_type": "markdown",
<<<<<<< HEAD
   "metadata": {
    "id": "qTVKq3oqew5C"
   },
   "source": [
    "### Summarization Using Bart"
=======
   "metadata": {},
   "source": [
    "### Final DataFrame Processing"
>>>>>>> d0db4468b71c2be214fe68171c691dbba0946069
   ]
  },
  {
   "cell_type": "markdown",
<<<<<<< HEAD
   "metadata": {
    "id": "x2MpqzuUew5C"
   },
   "source": [
    "BART (Bidirectional and Auto-Regressive Transformers) is a transformer model designed for various natural language processing tasks, including text summarization. It effectively generates coherent and contextually relevant summaries from long documents. In our project, we utilize BART to distill the essential information from the financial news articles, allowing us to focus on the main insights without wading through extensive text."
=======
   "metadata": {},
   "source": [
    "After concatenating our DataFrames, we will perform some final processing, including dropping any rows with missing values to ensure the integrity of our data."
>>>>>>> d0db4468b71c2be214fe68171c691dbba0946069
   ]
  },
  {
   "cell_type": "code",
   "execution_count": null,
   "metadata": {
<<<<<<< HEAD
    "id": "G8jWuUUHew5C",
    "scrolled": true
   },
   "outputs": [],
   "source": [
    "from transformers import pipeline\n",
    "\n",
    "# Create the summarization pipeline outside the function for reusability and efficiency\n",
    "try:\n",
    "    summarizer = pipeline(\"summarization\", model=\"facebook/bart-large-cnn\", max_length=80)\n",
    "except Exception as e:\n",
    "    print(f\"Error loading BART model: {e}\")\n",
    "    summarizer = None\n",
    "\n",
    "def get_summary(text):\n",
    "    try:\n",
    "        # Ensure the summarizer is loaded\n",
    "        if summarizer is not None:\n",
    "            # Split the text into words\n",
    "            words = text.split()\n",
    "            \n",
    "            # Define the word limit for each chunk\n",
    "            word_limit = 512\n",
    "\n",
    "            # Break the text into chunks of up to 512 words each\n",
    "            chunks = [' '.join(words[i:i + word_limit]) for i in range(0, len(words), word_limit)]\n",
    "            \n",
    "            # Summarize each chunk and combine the results\n",
    "            summaries = summarizer(chunks)\n",
    "            # Join the individual summaries into a single string\n",
    "            combined_summary = ' '.join(chunk['summary_text'] for chunk in summaries)\n",
    "            print('done...')\n",
    "            return combined_summary\n",
    "        else:\n",
    "            print(\"Summarizer is not loaded properly.\")\n",
    "            return None\n",
    "    except Exception as e:\n",
    "        # Print an error message if there's an issue during summarization\n",
    "        print(f\"Error summarizing text: {e}\")\n",
    "        return None\n",
    "\n",
    "summaries = df['Text'].apply(get_summary)"
=======
    "colab": {
     "background_save": true
    },
    "id": "OADQVM0Sv-_G"
   },
   "outputs": [],
   "source": [
    "final_df.dropna(inplace=True)\n",
    "final_df.columns"
>>>>>>> d0db4468b71c2be214fe68171c691dbba0946069
   ]
  },
  {
   "cell_type": "code",
<<<<<<< HEAD
   "execution_count": 302,
   "metadata": {},
   "outputs": [
    {
     "data": {
      "text/html": [
       "<div>\n",
       "<style scoped>\n",
       "    .dataframe tbody tr th:only-of-type {\n",
       "        vertical-align: middle;\n",
       "    }\n",
       "\n",
       "    .dataframe tbody tr th {\n",
       "        vertical-align: top;\n",
       "    }\n",
       "\n",
       "    .dataframe thead th {\n",
       "        text-align: right;\n",
       "    }\n",
       "</style>\n",
       "<table border=\"1\" class=\"dataframe\">\n",
       "  <thead>\n",
       "    <tr style=\"text-align: right;\">\n",
       "      <th></th>\n",
       "      <th>Bart_summary</th>\n",
       "    </tr>\n",
       "  </thead>\n",
       "  <tbody>\n",
       "    <tr>\n",
       "      <th>0</th>\n",
       "      <td>The price of Microsoft Corporation (NASDAQ:MSF...</td>\n",
       "    </tr>\n",
       "    <tr>\n",
       "      <th>1</th>\n",
       "      <td>Fool.com contributor Parkev Tatevosian compare...</td>\n",
       "    </tr>\n",
       "    <tr>\n",
       "      <th>2</th>\n",
       "      <td>Fool.com contributor Parkev Tatevosian highlig...</td>\n",
       "    </tr>\n",
       "    <tr>\n",
       "      <th>3</th>\n",
       "      <td>Microsoft's CEO Satya Nadella took over as CEO...</td>\n",
       "    </tr>\n",
       "    <tr>\n",
       "      <th>4</th>\n",
       "      <td>Microsoft quietly launched its Copilot app on ...</td>\n",
       "    </tr>\n",
       "  </tbody>\n",
       "</table>\n",
       "</div>"
      ],
      "text/plain": [
       "                                        Bart_summary\n",
       "0  The price of Microsoft Corporation (NASDAQ:MSF...\n",
       "1  Fool.com contributor Parkev Tatevosian compare...\n",
       "2  Fool.com contributor Parkev Tatevosian highlig...\n",
       "3  Microsoft's CEO Satya Nadella took over as CEO...\n",
       "4  Microsoft quietly launched its Copilot app on ..."
      ]
     },
     "execution_count": 302,
     "metadata": {},
     "output_type": "execute_result"
    }
   ],
   "source": [
    "bart_summary_df = pd.DataFrame(summaries)\n",
    "bart_summary_df = summary_df.rename({'Text': 'Bart_summary'}, axis=1)\n",
    "bart_summary_df.head()"
   ]
  },
  {
   "cell_type": "markdown",
   "metadata": {
    "id": "zwFj5BItew5D"
   },
   "source": [
    "### Entity and Emotion Extraction"
   ]
  },
  {
   "cell_type": "markdown",
   "metadata": {
    "id": "7NmiftpDew5D"
   },
   "source": [
    "To gain deeper insights into the emotional landscape of the articles, we apply techniques to extract entities and emotions. This step enriches our analysis by identifying key entities mentioned in the articles and understanding the emotions expressed about these entities. This nuanced understanding can aid in more targeted sentiment analysis and reporting."
=======
   "execution_count": null,
   "metadata": {
    "colab": {
     "background_save": true
    },
    "id": "Xy_J9tGPwBb9"
   },
   "outputs": [],
   "source": [
    "final_df.to_csv(path_or_buf='./final_df.csv')"
   ]
  },
  {
   "cell_type": "code",
   "execution_count": null,
   "metadata": {
    "colab": {
     "background_save": true
    },
    "id": "ofFwmi8KnTGY"
   },
   "outputs": [],
   "source": [
    "# final_df = pd.read_csv('/content/drive/MyDrive/microsoft_articles/final_df.csv')"
   ]
  },
  {
   "cell_type": "code",
   "execution_count": null,
   "metadata": {},
   "outputs": [],
   "source": [
    "final_df.columns"
>>>>>>> d0db4468b71c2be214fe68171c691dbba0946069
   ]
  },
  {
   "cell_type": "code",
   "execution_count": null,
<<<<<<< HEAD
   "metadata": {
    "colab": {
     "base_uri": "https://localhost:8080/"
    },
    "id": "o5mJQvHAew5D",
    "outputId": "fa54a30a-6017-46dd-ca49-93b50a769a07"
   },
   "outputs": [],
   "source": [
    "! pip install spacy\n",
    "! python -m spacy download en_core_web_sm"
   ]
  },
  {
   "cell_type": "code",
   "execution_count": 286,
   "metadata": {},
   "outputs": [
    {
     "data": {
      "text/plain": [
       "0       [(100, %), (100, %), (Microsoft, Corporation),...\n",
       "1       [(Parkev, Tatevosian), (Alphabet), (Microsoft)...\n",
       "2       [(Parkev, Tatevosian), (one), ($, 1, trillion)...\n",
       "3       [(Microsoft), (NASDAQ), (these, days), (this, ...\n",
       "4       [(the, holiday, season), (Microsoft), (Copilot...\n",
       "                              ...                        \n",
       "1078    [(Microsoft, Corp, 's), (NASDAQ), (DCF), (DCF)...\n",
       "1079    [(Revolutionizing, Budgeting), (Forecasting), ...\n",
       "1080    [(Benzinga), (Yahoo, Finance), (Microsoft, Cor...\n",
       "1081    [(ninth), (Microsoft), (SAN, RAMON), (Calif.),...\n",
       "1082    [(8), (Most, Profitable, Tech, Stocks), (Micro...\n",
       "Name: Text, Length: 1083, dtype: object"
      ]
     },
     "execution_count": 286,
     "metadata": {},
     "output_type": "execute_result"
    }
   ],
   "source": [
    "import spacy\n",
    "\n",
    "nlp = spacy.load('en_core_web_sm')\n",
    "\n",
    "def get_entities(text):\n",
    "    doc = nlp(text)\n",
    "    return list(doc.ents)\n",
    "\n",
    "entities = df['Text'].apply(get_entities)\n",
    "entities"
   ]
  },
  {
   "cell_type": "code",
   "execution_count": 287,
   "metadata": {
    "scrolled": true
   },
   "outputs": [
    {
     "data": {
      "text/plain": [
       "[100%,\n",
       " 100%,\n",
       " Microsoft Corporation,\n",
       " 268%,\n",
       " the last five years,\n",
       " 20%,\n",
       " about a quarter,\n",
       " 12%,\n",
       " 90 days,\n",
       " the last 5 years,\n",
       " Microsoft,\n",
       " The Superinvestors of Graham-and-Doddsville,\n",
       " Warren Buffett,\n",
       " One,\n",
       " EPS,\n",
       " five years,\n",
       " Microsoft,\n",
       " EPS,\n",
       " 33%,\n",
       " EPS,\n",
       " 30%,\n",
       " EPS,\n",
       " EPS,\n",
       " Microsoft,\n",
       " Microsoft,\n",
       " TSR,\n",
       " TSR,\n",
       " Microsoft,\n",
       " TSR,\n",
       " the last 5 years,\n",
       " 288%,\n",
       " Microsoft,\n",
       " 58%,\n",
       " the last year,\n",
       " TSR,\n",
       " five years,\n",
       " 31%,\n",
       " 1,\n",
       " Microsoft,\n",
       " American,\n",
       " Simply Wall St]"
      ]
     },
     "execution_count": 287,
     "metadata": {},
     "output_type": "execute_result"
    }
   ],
   "source": [
    "entities[0]"
   ]
  },
  {
   "cell_type": "code",
   "execution_count": 288,
   "metadata": {},
   "outputs": [
    {
     "data": {
      "text/html": [
       "<div>\n",
       "<style scoped>\n",
       "    .dataframe tbody tr th:only-of-type {\n",
       "        vertical-align: middle;\n",
       "    }\n",
       "\n",
       "    .dataframe tbody tr th {\n",
       "        vertical-align: top;\n",
       "    }\n",
       "\n",
       "    .dataframe thead th {\n",
       "        text-align: right;\n",
       "    }\n",
       "</style>\n",
       "<table border=\"1\" class=\"dataframe\">\n",
       "  <thead>\n",
       "    <tr style=\"text-align: right;\">\n",
       "      <th></th>\n",
       "      <th>Entities</th>\n",
       "    </tr>\n",
       "  </thead>\n",
       "  <tbody>\n",
       "    <tr>\n",
       "      <th>0</th>\n",
       "      <td>[(100, %), (100, %), (Microsoft, Corporation),...</td>\n",
       "    </tr>\n",
       "    <tr>\n",
       "      <th>1</th>\n",
       "      <td>[(Parkev, Tatevosian), (Alphabet), (Microsoft)...</td>\n",
       "    </tr>\n",
       "    <tr>\n",
       "      <th>2</th>\n",
       "      <td>[(Parkev, Tatevosian), (one), ($, 1, trillion)...</td>\n",
       "    </tr>\n",
       "    <tr>\n",
       "      <th>3</th>\n",
       "      <td>[(Microsoft), (NASDAQ), (these, days), (this, ...</td>\n",
       "    </tr>\n",
       "    <tr>\n",
       "      <th>4</th>\n",
       "      <td>[(the, holiday, season), (Microsoft), (Copilot...</td>\n",
       "    </tr>\n",
       "  </tbody>\n",
       "</table>\n",
       "</div>"
      ],
      "text/plain": [
       "                                            Entities\n",
       "0  [(100, %), (100, %), (Microsoft, Corporation),...\n",
       "1  [(Parkev, Tatevosian), (Alphabet), (Microsoft)...\n",
       "2  [(Parkev, Tatevosian), (one), ($, 1, trillion)...\n",
       "3  [(Microsoft), (NASDAQ), (these, days), (this, ...\n",
       "4  [(the, holiday, season), (Microsoft), (Copilot..."
      ]
     },
     "execution_count": 288,
     "metadata": {},
     "output_type": "execute_result"
    }
   ],
   "source": [
    "entities_df = pd.DataFrame(entities).rename({'Text': 'Entities'}, axis=1)\n",
    "entities_df.to_csv('./data_backup/entities_df.csv')\n",
    "entities_df.head()"
   ]
  },
  {
   "cell_type": "code",
   "execution_count": 157,
   "metadata": {},
   "outputs": [
    {
     "data": {
      "text/plain": [
       "0       [{'anger': 2, 'disgust': 1, 'fear': 1, 'negati...\n",
       "1       [{'positive': 1, 'trust': 1}, {}, {}, {}, {'an...\n",
       "2       [{'positive': 2, 'trust': 2, 'fear': 1, 'joy':...\n",
       "3       [{'anticipation': 1, 'positive': 1, 'trust': 1...\n",
       "4       [{'anticipation': 1, 'joy': 1, 'positive': 1},...\n",
       "                              ...                        \n",
       "1078    [{'positive': 1, 'trust': 1}, {'anger': 2, 'an...\n",
       "1079    [{'positive': 4, 'trust': 4, 'anticipation': 1...\n",
       "1080    [{'positive': 1, 'trust': 1}, {'positive': 2, ...\n",
       "1081    [{'anticipation': 3, 'joy': 2, 'negative': 1, ...\n",
       "1082    [{}, {'negative': 1}, {}, {'positive': 1}, {'p...\n",
       "Name: text_sentences, Length: 1083, dtype: object"
      ]
     },
     "execution_count": 157,
     "metadata": {},
     "output_type": "execute_result"
    }
   ],
   "source": [
    "from nrclex import NRCLex\n",
    "\n",
    "def get_emotions_list(text_sentences):\n",
    "    return [NRCLex(sentence).raw_emotion_scores for sentence in text_sentences]\n",
    "\n",
    "emotions_list_by_sentence = df['text_sentences'].apply(get_emotions_list)\n",
    "emotions_list_by_sentence"
   ]
  },
  {
   "cell_type": "code",
   "execution_count": 291,
   "metadata": {},
   "outputs": [
    {
     "data": {
      "text/html": [
       "<div>\n",
       "<style scoped>\n",
       "    .dataframe tbody tr th:only-of-type {\n",
       "        vertical-align: middle;\n",
       "    }\n",
       "\n",
       "    .dataframe tbody tr th {\n",
       "        vertical-align: top;\n",
       "    }\n",
       "\n",
       "    .dataframe thead th {\n",
       "        text-align: right;\n",
       "    }\n",
       "</style>\n",
       "<table border=\"1\" class=\"dataframe\">\n",
       "  <thead>\n",
       "    <tr style=\"text-align: right;\">\n",
       "      <th></th>\n",
       "      <th>anger</th>\n",
       "      <th>disgust</th>\n",
       "      <th>fear</th>\n",
       "      <th>negative</th>\n",
       "      <th>sadness</th>\n",
       "      <th>surprise</th>\n",
       "      <th>positive</th>\n",
       "      <th>anticipation</th>\n",
       "      <th>joy</th>\n",
       "      <th>trust</th>\n",
       "    </tr>\n",
       "  </thead>\n",
       "  <tbody>\n",
       "    <tr>\n",
       "      <th>0</th>\n",
       "      <td>2.0</td>\n",
       "      <td>2.0</td>\n",
       "      <td>4.0</td>\n",
       "      <td>6.0</td>\n",
       "      <td>2.0</td>\n",
       "      <td>3.0</td>\n",
       "      <td>48.0</td>\n",
       "      <td>29.0</td>\n",
       "      <td>25.0</td>\n",
       "      <td>34.0</td>\n",
       "    </tr>\n",
       "    <tr>\n",
       "      <th>1</th>\n",
       "      <td>1.0</td>\n",
       "      <td>0.0</td>\n",
       "      <td>1.0</td>\n",
       "      <td>4.0</td>\n",
       "      <td>0.0</td>\n",
       "      <td>1.0</td>\n",
       "      <td>9.0</td>\n",
       "      <td>6.0</td>\n",
       "      <td>2.0</td>\n",
       "      <td>6.0</td>\n",
       "    </tr>\n",
       "    <tr>\n",
       "      <th>2</th>\n",
       "      <td>1.0</td>\n",
       "      <td>0.0</td>\n",
       "      <td>2.0</td>\n",
       "      <td>5.0</td>\n",
       "      <td>0.0</td>\n",
       "      <td>1.0</td>\n",
       "      <td>11.0</td>\n",
       "      <td>6.0</td>\n",
       "      <td>3.0</td>\n",
       "      <td>8.0</td>\n",
       "    </tr>\n",
       "    <tr>\n",
       "      <th>3</th>\n",
       "      <td>3.0</td>\n",
       "      <td>2.0</td>\n",
       "      <td>6.0</td>\n",
       "      <td>14.0</td>\n",
       "      <td>5.0</td>\n",
       "      <td>6.0</td>\n",
       "      <td>36.0</td>\n",
       "      <td>15.0</td>\n",
       "      <td>7.0</td>\n",
       "      <td>20.0</td>\n",
       "    </tr>\n",
       "    <tr>\n",
       "      <th>4</th>\n",
       "      <td>0.0</td>\n",
       "      <td>0.0</td>\n",
       "      <td>3.0</td>\n",
       "      <td>0.0</td>\n",
       "      <td>0.0</td>\n",
       "      <td>0.0</td>\n",
       "      <td>24.0</td>\n",
       "      <td>16.0</td>\n",
       "      <td>7.0</td>\n",
       "      <td>4.0</td>\n",
       "    </tr>\n",
       "  </tbody>\n",
       "</table>\n",
       "</div>"
      ],
      "text/plain": [
       "   anger  disgust  fear  negative  sadness  surprise  positive  anticipation  \\\n",
       "0    2.0      2.0   4.0       6.0      2.0       3.0      48.0          29.0   \n",
       "1    1.0      0.0   1.0       4.0      0.0       1.0       9.0           6.0   \n",
       "2    1.0      0.0   2.0       5.0      0.0       1.0      11.0           6.0   \n",
       "3    3.0      2.0   6.0      14.0      5.0       6.0      36.0          15.0   \n",
       "4    0.0      0.0   3.0       0.0      0.0       0.0      24.0          16.0   \n",
       "\n",
       "    joy  trust  \n",
       "0  25.0   34.0  \n",
       "1   2.0    6.0  \n",
       "2   3.0    8.0  \n",
       "3   7.0   20.0  \n",
       "4   7.0    4.0  "
      ]
     },
     "execution_count": 291,
     "metadata": {},
     "output_type": "execute_result"
    }
   ],
   "source": [
    "from collections import Counter\n",
    "\n",
    "def aggregate_emotions_sum(emotions_list):\n",
    "    total_emotions = Counter()\n",
    "    for sentence_emotions in emotions_list:\n",
    "        total_emotions.update(sentence_emotions)\n",
    "    return dict(total_emotions)\n",
    "\n",
    "emotion_agg_sum_df = pd.DataFrame(emotions_list_by_sentence.apply(aggregate_emotions_sum).tolist()).fillna(0)\n",
    "emotion_agg_sum_df.head()"
   ]
  },
  {
   "cell_type": "code",
   "execution_count": 292,
   "metadata": {},
   "outputs": [
    {
     "data": {
      "text/html": [
       "<div>\n",
       "<style scoped>\n",
       "    .dataframe tbody tr th:only-of-type {\n",
       "        vertical-align: middle;\n",
       "    }\n",
       "\n",
       "    .dataframe tbody tr th {\n",
       "        vertical-align: top;\n",
       "    }\n",
       "\n",
       "    .dataframe thead th {\n",
       "        text-align: right;\n",
       "    }\n",
       "</style>\n",
       "<table border=\"1\" class=\"dataframe\">\n",
       "  <thead>\n",
       "    <tr style=\"text-align: right;\">\n",
       "      <th></th>\n",
       "      <th>anger</th>\n",
       "      <th>disgust</th>\n",
       "      <th>fear</th>\n",
       "      <th>negative</th>\n",
       "      <th>sadness</th>\n",
       "      <th>surprise</th>\n",
       "      <th>positive</th>\n",
       "      <th>anticipation</th>\n",
       "      <th>joy</th>\n",
       "      <th>trust</th>\n",
       "    </tr>\n",
       "  </thead>\n",
       "  <tbody>\n",
       "    <tr>\n",
       "      <th>0</th>\n",
       "      <td>0.066667</td>\n",
       "      <td>0.066667</td>\n",
       "      <td>0.133333</td>\n",
       "      <td>0.200000</td>\n",
       "      <td>0.066667</td>\n",
       "      <td>0.100000</td>\n",
       "      <td>1.600000</td>\n",
       "      <td>0.966667</td>\n",
       "      <td>0.833333</td>\n",
       "      <td>1.133333</td>\n",
       "    </tr>\n",
       "    <tr>\n",
       "      <th>1</th>\n",
       "      <td>0.142857</td>\n",
       "      <td>0.000000</td>\n",
       "      <td>0.142857</td>\n",
       "      <td>0.571429</td>\n",
       "      <td>0.000000</td>\n",
       "      <td>0.142857</td>\n",
       "      <td>1.285714</td>\n",
       "      <td>0.857143</td>\n",
       "      <td>0.285714</td>\n",
       "      <td>0.857143</td>\n",
       "    </tr>\n",
       "    <tr>\n",
       "      <th>2</th>\n",
       "      <td>0.125000</td>\n",
       "      <td>0.000000</td>\n",
       "      <td>0.250000</td>\n",
       "      <td>0.625000</td>\n",
       "      <td>0.000000</td>\n",
       "      <td>0.125000</td>\n",
       "      <td>1.375000</td>\n",
       "      <td>0.750000</td>\n",
       "      <td>0.375000</td>\n",
       "      <td>1.000000</td>\n",
       "    </tr>\n",
       "    <tr>\n",
       "      <th>3</th>\n",
       "      <td>0.120000</td>\n",
       "      <td>0.080000</td>\n",
       "      <td>0.240000</td>\n",
       "      <td>0.560000</td>\n",
       "      <td>0.200000</td>\n",
       "      <td>0.240000</td>\n",
       "      <td>1.440000</td>\n",
       "      <td>0.600000</td>\n",
       "      <td>0.280000</td>\n",
       "      <td>0.800000</td>\n",
       "    </tr>\n",
       "    <tr>\n",
       "      <th>4</th>\n",
       "      <td>0.000000</td>\n",
       "      <td>0.000000</td>\n",
       "      <td>0.250000</td>\n",
       "      <td>0.000000</td>\n",
       "      <td>0.000000</td>\n",
       "      <td>0.000000</td>\n",
       "      <td>2.000000</td>\n",
       "      <td>1.333333</td>\n",
       "      <td>0.583333</td>\n",
       "      <td>0.333333</td>\n",
       "    </tr>\n",
       "  </tbody>\n",
       "</table>\n",
       "</div>"
      ],
      "text/plain": [
       "      anger   disgust      fear  negative   sadness  surprise  positive  \\\n",
       "0  0.066667  0.066667  0.133333  0.200000  0.066667  0.100000  1.600000   \n",
       "1  0.142857  0.000000  0.142857  0.571429  0.000000  0.142857  1.285714   \n",
       "2  0.125000  0.000000  0.250000  0.625000  0.000000  0.125000  1.375000   \n",
       "3  0.120000  0.080000  0.240000  0.560000  0.200000  0.240000  1.440000   \n",
       "4  0.000000  0.000000  0.250000  0.000000  0.000000  0.000000  2.000000   \n",
       "\n",
       "   anticipation       joy     trust  \n",
       "0      0.966667  0.833333  1.133333  \n",
       "1      0.857143  0.285714  0.857143  \n",
       "2      0.750000  0.375000  1.000000  \n",
       "3      0.600000  0.280000  0.800000  \n",
       "4      1.333333  0.583333  0.333333  "
      ]
     },
     "execution_count": 292,
     "metadata": {},
     "output_type": "execute_result"
    }
   ],
   "source": [
    "def aggregate_emotions_mean(emotions_list):\n",
    "    total_emotions = Counter()\n",
    "    sentence_count = 0\n",
    "    for sentence_emotions in emotions_list:\n",
    "        if sentence_emotions:  # Only consider sentences with emotions\n",
    "            total_emotions.update(sentence_emotions)\n",
    "            sentence_count += 1\n",
    "    if sentence_count == 0:  # Handle case with no emotion scores\n",
    "        return {}\n",
    "    return {k: v / sentence_count for k, v in total_emotions.items()}\n",
    "\n",
    "emotion_agg_mean_df = pd.DataFrame(emotions_list_by_sentence.apply(aggregate_emotions_mean).tolist()).fillna(0)\n",
    "emotion_agg_mean_df.head()"
   ]
  },
  {
   "cell_type": "code",
   "execution_count": 296,
   "metadata": {},
   "outputs": [
    {
     "data": {
      "text/html": [
       "<div>\n",
       "<style scoped>\n",
       "    .dataframe tbody tr th:only-of-type {\n",
       "        vertical-align: middle;\n",
       "    }\n",
       "\n",
       "    .dataframe tbody tr th {\n",
       "        vertical-align: top;\n",
       "    }\n",
       "\n",
       "    .dataframe thead th {\n",
       "        text-align: right;\n",
       "    }\n",
       "</style>\n",
       "<table border=\"1\" class=\"dataframe\">\n",
       "  <thead>\n",
       "    <tr style=\"text-align: right;\">\n",
       "      <th></th>\n",
       "      <th>anger</th>\n",
       "      <th>disgust</th>\n",
       "      <th>fear</th>\n",
       "      <th>negative</th>\n",
       "      <th>sadness</th>\n",
       "      <th>surprise</th>\n",
       "      <th>positive</th>\n",
       "      <th>anticipation</th>\n",
       "      <th>joy</th>\n",
       "      <th>trust</th>\n",
       "    </tr>\n",
       "  </thead>\n",
       "  <tbody>\n",
       "    <tr>\n",
       "      <th>0</th>\n",
       "      <td>2.0</td>\n",
       "      <td>1.0</td>\n",
       "      <td>1.0</td>\n",
       "      <td>1.0</td>\n",
       "      <td>1.0</td>\n",
       "      <td>2.0</td>\n",
       "      <td>5.0</td>\n",
       "      <td>3.0</td>\n",
       "      <td>3.0</td>\n",
       "      <td>3.0</td>\n",
       "    </tr>\n",
       "    <tr>\n",
       "      <th>1</th>\n",
       "      <td>1.0</td>\n",
       "      <td>0.0</td>\n",
       "      <td>1.0</td>\n",
       "      <td>2.0</td>\n",
       "      <td>0.0</td>\n",
       "      <td>1.0</td>\n",
       "      <td>4.0</td>\n",
       "      <td>2.0</td>\n",
       "      <td>1.0</td>\n",
       "      <td>2.0</td>\n",
       "    </tr>\n",
       "    <tr>\n",
       "      <th>2</th>\n",
       "      <td>1.0</td>\n",
       "      <td>0.0</td>\n",
       "      <td>1.0</td>\n",
       "      <td>2.0</td>\n",
       "      <td>0.0</td>\n",
       "      <td>1.0</td>\n",
       "      <td>4.0</td>\n",
       "      <td>2.0</td>\n",
       "      <td>1.0</td>\n",
       "      <td>2.0</td>\n",
       "    </tr>\n",
       "    <tr>\n",
       "      <th>3</th>\n",
       "      <td>1.0</td>\n",
       "      <td>1.0</td>\n",
       "      <td>1.0</td>\n",
       "      <td>2.0</td>\n",
       "      <td>1.0</td>\n",
       "      <td>1.0</td>\n",
       "      <td>5.0</td>\n",
       "      <td>2.0</td>\n",
       "      <td>1.0</td>\n",
       "      <td>3.0</td>\n",
       "    </tr>\n",
       "    <tr>\n",
       "      <th>4</th>\n",
       "      <td>0.0</td>\n",
       "      <td>0.0</td>\n",
       "      <td>1.0</td>\n",
       "      <td>0.0</td>\n",
       "      <td>0.0</td>\n",
       "      <td>0.0</td>\n",
       "      <td>5.0</td>\n",
       "      <td>3.0</td>\n",
       "      <td>2.0</td>\n",
       "      <td>1.0</td>\n",
       "    </tr>\n",
       "    <tr>\n",
       "      <th>...</th>\n",
       "      <td>...</td>\n",
       "      <td>...</td>\n",
       "      <td>...</td>\n",
       "      <td>...</td>\n",
       "      <td>...</td>\n",
       "      <td>...</td>\n",
       "      <td>...</td>\n",
       "      <td>...</td>\n",
       "      <td>...</td>\n",
       "      <td>...</td>\n",
       "    </tr>\n",
       "    <tr>\n",
       "      <th>1078</th>\n",
       "      <td>2.0</td>\n",
       "      <td>1.0</td>\n",
       "      <td>3.0</td>\n",
       "      <td>3.0</td>\n",
       "      <td>2.0</td>\n",
       "      <td>2.0</td>\n",
       "      <td>8.0</td>\n",
       "      <td>2.0</td>\n",
       "      <td>2.0</td>\n",
       "      <td>5.0</td>\n",
       "    </tr>\n",
       "    <tr>\n",
       "      <th>1079</th>\n",
       "      <td>0.0</td>\n",
       "      <td>0.0</td>\n",
       "      <td>0.0</td>\n",
       "      <td>0.0</td>\n",
       "      <td>0.0</td>\n",
       "      <td>0.0</td>\n",
       "      <td>4.0</td>\n",
       "      <td>1.0</td>\n",
       "      <td>1.0</td>\n",
       "      <td>4.0</td>\n",
       "    </tr>\n",
       "    <tr>\n",
       "      <th>1080</th>\n",
       "      <td>0.0</td>\n",
       "      <td>0.0</td>\n",
       "      <td>1.0</td>\n",
       "      <td>1.0</td>\n",
       "      <td>1.0</td>\n",
       "      <td>2.0</td>\n",
       "      <td>4.0</td>\n",
       "      <td>2.0</td>\n",
       "      <td>2.0</td>\n",
       "      <td>2.0</td>\n",
       "    </tr>\n",
       "    <tr>\n",
       "      <th>1081</th>\n",
       "      <td>1.0</td>\n",
       "      <td>0.0</td>\n",
       "      <td>1.0</td>\n",
       "      <td>1.0</td>\n",
       "      <td>1.0</td>\n",
       "      <td>1.0</td>\n",
       "      <td>4.0</td>\n",
       "      <td>3.0</td>\n",
       "      <td>2.0</td>\n",
       "      <td>2.0</td>\n",
       "    </tr>\n",
       "    <tr>\n",
       "      <th>1082</th>\n",
       "      <td>1.0</td>\n",
       "      <td>0.0</td>\n",
       "      <td>2.0</td>\n",
       "      <td>3.0</td>\n",
       "      <td>3.0</td>\n",
       "      <td>1.0</td>\n",
       "      <td>8.0</td>\n",
       "      <td>3.0</td>\n",
       "      <td>3.0</td>\n",
       "      <td>4.0</td>\n",
       "    </tr>\n",
       "  </tbody>\n",
       "</table>\n",
       "<p>1083 rows × 10 columns</p>\n",
       "</div>"
      ],
      "text/plain": [
       "      anger  disgust  fear  negative  sadness  surprise  positive  \\\n",
       "0       2.0      1.0   1.0       1.0      1.0       2.0       5.0   \n",
       "1       1.0      0.0   1.0       2.0      0.0       1.0       4.0   \n",
       "2       1.0      0.0   1.0       2.0      0.0       1.0       4.0   \n",
       "3       1.0      1.0   1.0       2.0      1.0       1.0       5.0   \n",
       "4       0.0      0.0   1.0       0.0      0.0       0.0       5.0   \n",
       "...     ...      ...   ...       ...      ...       ...       ...   \n",
       "1078    2.0      1.0   3.0       3.0      2.0       2.0       8.0   \n",
       "1079    0.0      0.0   0.0       0.0      0.0       0.0       4.0   \n",
       "1080    0.0      0.0   1.0       1.0      1.0       2.0       4.0   \n",
       "1081    1.0      0.0   1.0       1.0      1.0       1.0       4.0   \n",
       "1082    1.0      0.0   2.0       3.0      3.0       1.0       8.0   \n",
       "\n",
       "      anticipation  joy  trust  \n",
       "0              3.0  3.0    3.0  \n",
       "1              2.0  1.0    2.0  \n",
       "2              2.0  1.0    2.0  \n",
       "3              2.0  1.0    3.0  \n",
       "4              3.0  2.0    1.0  \n",
       "...            ...  ...    ...  \n",
       "1078           2.0  2.0    5.0  \n",
       "1079           1.0  1.0    4.0  \n",
       "1080           2.0  2.0    2.0  \n",
       "1081           3.0  2.0    2.0  \n",
       "1082           3.0  3.0    4.0  \n",
       "\n",
       "[1083 rows x 10 columns]"
      ]
     },
     "execution_count": 296,
     "metadata": {},
     "output_type": "execute_result"
    }
   ],
   "source": [
    "def aggregate_emotions_max(emotions_list):\n",
    "    max_emotions = Counter()\n",
    "    for sentence_emotions in emotions_list:\n",
    "        for emotion, score in sentence_emotions.items():\n",
    "            if max_emotions[emotion] < score:\n",
    "                max_emotions[emotion] = score\n",
    "    return dict(max_emotions)\n",
    "\n",
    "emotion_agg_max_df = pd.DataFrame(emotions_list_by_sentence.apply(aggregate_emotions_max).tolist()).fillna(0)\n",
    "emotion_agg_max_df"
   ]
  },
  {
   "cell_type": "code",
   "execution_count": 298,
   "metadata": {},
   "outputs": [
    {
     "data": {
      "text/html": [
       "<div>\n",
       "<style scoped>\n",
       "    .dataframe tbody tr th:only-of-type {\n",
       "        vertical-align: middle;\n",
       "    }\n",
       "\n",
       "    .dataframe tbody tr th {\n",
       "        vertical-align: top;\n",
       "    }\n",
       "\n",
       "    .dataframe thead th {\n",
       "        text-align: right;\n",
       "    }\n",
       "</style>\n",
       "<table border=\"1\" class=\"dataframe\">\n",
       "  <thead>\n",
       "    <tr style=\"text-align: right;\">\n",
       "      <th></th>\n",
       "      <th>anger</th>\n",
       "      <th>disgust</th>\n",
       "      <th>fear</th>\n",
       "      <th>negative</th>\n",
       "      <th>sadness</th>\n",
       "      <th>surprise</th>\n",
       "      <th>positive</th>\n",
       "      <th>anticipation</th>\n",
       "      <th>joy</th>\n",
       "      <th>trust</th>\n",
       "    </tr>\n",
       "  </thead>\n",
       "  <tbody>\n",
       "    <tr>\n",
       "      <th>0</th>\n",
       "      <td>0.167742</td>\n",
       "      <td>0.174194</td>\n",
       "      <td>0.238710</td>\n",
       "      <td>0.270968</td>\n",
       "      <td>0.129032</td>\n",
       "      <td>0.200000</td>\n",
       "      <td>2.329032</td>\n",
       "      <td>1.445161</td>\n",
       "      <td>1.167742</td>\n",
       "      <td>1.522581</td>\n",
       "    </tr>\n",
       "    <tr>\n",
       "      <th>1</th>\n",
       "      <td>0.300000</td>\n",
       "      <td>0.000000</td>\n",
       "      <td>0.133333</td>\n",
       "      <td>0.500000</td>\n",
       "      <td>0.000000</td>\n",
       "      <td>0.300000</td>\n",
       "      <td>2.066667</td>\n",
       "      <td>1.200000</td>\n",
       "      <td>0.533333</td>\n",
       "      <td>0.966667</td>\n",
       "    </tr>\n",
       "    <tr>\n",
       "      <th>2</th>\n",
       "      <td>0.243243</td>\n",
       "      <td>0.000000</td>\n",
       "      <td>0.270270</td>\n",
       "      <td>0.486486</td>\n",
       "      <td>0.000000</td>\n",
       "      <td>0.243243</td>\n",
       "      <td>2.054054</td>\n",
       "      <td>1.027027</td>\n",
       "      <td>0.594595</td>\n",
       "      <td>1.162162</td>\n",
       "    </tr>\n",
       "    <tr>\n",
       "      <th>3</th>\n",
       "      <td>0.201754</td>\n",
       "      <td>0.114035</td>\n",
       "      <td>0.385965</td>\n",
       "      <td>0.657895</td>\n",
       "      <td>0.350877</td>\n",
       "      <td>0.377193</td>\n",
       "      <td>2.157895</td>\n",
       "      <td>0.850877</td>\n",
       "      <td>0.464912</td>\n",
       "      <td>1.192982</td>\n",
       "    </tr>\n",
       "    <tr>\n",
       "      <th>4</th>\n",
       "      <td>0.000000</td>\n",
       "      <td>0.000000</td>\n",
       "      <td>0.259259</td>\n",
       "      <td>0.000000</td>\n",
       "      <td>0.000000</td>\n",
       "      <td>0.000000</td>\n",
       "      <td>2.574074</td>\n",
       "      <td>1.500000</td>\n",
       "      <td>0.851852</td>\n",
       "      <td>0.518519</td>\n",
       "    </tr>\n",
       "  </tbody>\n",
       "</table>\n",
       "</div>"
      ],
      "text/plain": [
       "      anger   disgust      fear  negative   sadness  surprise  positive  \\\n",
       "0  0.167742  0.174194  0.238710  0.270968  0.129032  0.200000  2.329032   \n",
       "1  0.300000  0.000000  0.133333  0.500000  0.000000  0.300000  2.066667   \n",
       "2  0.243243  0.000000  0.270270  0.486486  0.000000  0.243243  2.054054   \n",
       "3  0.201754  0.114035  0.385965  0.657895  0.350877  0.377193  2.157895   \n",
       "4  0.000000  0.000000  0.259259  0.000000  0.000000  0.000000  2.574074   \n",
       "\n",
       "   anticipation       joy     trust  \n",
       "0      1.445161  1.167742  1.522581  \n",
       "1      1.200000  0.533333  0.966667  \n",
       "2      1.027027  0.594595  1.162162  \n",
       "3      0.850877  0.464912  1.192982  \n",
       "4      1.500000  0.851852  0.518519  "
      ]
     },
     "execution_count": 298,
     "metadata": {},
     "output_type": "execute_result"
    }
   ],
   "source": [
    "def aggregate_emotions_weighted_mean(emotions_list):\n",
    "    total_emotions = Counter()\n",
    "    total_weight = 0\n",
    "    for sentence_emotions in emotions_list:\n",
    "        if sentence_emotions:  # Only consider sentences with emotions\n",
    "            weight = sum(sentence_emotions.values())  # Weight by emotional intensity\n",
    "            total_weight += weight\n",
    "            for emotion, score in sentence_emotions.items():\n",
    "                total_emotions[emotion] += score * weight\n",
    "    if total_weight == 0:\n",
    "        return {}\n",
    "    return {k: v / total_weight for k, v in total_emotions.items()}\n",
    "\n",
    "emotion_agg_weighted_mean = pd.DataFrame(emotions_list_by_sentence.apply(aggregate_emotions_weighted_mean).tolist()).fillna(0)\n",
    "emotion_agg_weighted_mean.head()"
   ]
  },
  {
   "cell_type": "markdown",
   "metadata": {
    "id": "0-H9Qk4uew5E"
   },
   "source": [
    "# Data Preparation and Final DataFrame Creation"
   ]
  },
  {
   "cell_type": "markdown",
   "metadata": {
    "id": "sD9cbvQEew5F"
   },
   "source": [
    "In this section, we will prepare our data by adding prefixes to each DataFrame for better identification and then concatenate them into a single final DataFrame. This consolidated DataFrame will allow for easier analysis and export of results."
   ]
  },
  {
   "cell_type": "markdown",
   "metadata": {
    "id": "vCPUSCnrew5F"
   },
   "source": [
    "### Adding Prefixes and Concatenating DataFrames"
   ]
  },
  {
   "cell_type": "markdown",
   "metadata": {
    "id": "gtD1eNC0ew5F"
   },
   "source": [
    "To differentiate between the various DataFrames we have generated, we will add specific prefixes to each DataFrame. This will help in identifying which columns belong to which sentiment analysis technique or original content. After adding the prefixes, we will compile a list of all the DataFrames and concatenate them into a single DataFrame for streamlined analysis.\n"
   ]
  },
  {
   "cell_type": "code",
   "execution_count": 333,
   "metadata": {},
   "outputs": [],
   "source": [
    "# Rename columns for each DataFrame to ensure uniqueness and relevance\n",
    "vader_sentiment_df.columns = ['Vader_Negative', 'Vader_Neutral', 'Vader_Positive', 'Vader_Compound']\n",
    "\n",
    "agg_finbert_df.columns = ['FinBERT_Aggregated_Score', 'FinBERT_Overall_Sentiment']\n",
    "\n",
    "bart_summary_df.columns = ['Bart_Summary']\n",
    "\n",
    "domain_sentiments_df.columns = ['Domain_Positive', 'Domain_Negative', 'Domain_Uncertainty']\n",
    "\n",
    "entities_df.columns = ['Entities']\n",
    "\n",
    "emotion_agg_sum_df.columns = ['Emotion_Agg_Sum_Anger', 'Emotion_Agg_Sum_Disgust', 'Emotion_Agg_Sum_Fear',\n",
    "                               'Emotion_Agg_Sum_Negative', 'Emotion_Agg_Sum_Sadness', \n",
    "                               'Emotion_Agg_Sum_Surprise', 'Emotion_Agg_Sum_Positive', \n",
    "                               'Emotion_Agg_Sum_Anticipation', 'Emotion_Agg_Sum_Joy', \n",
    "                               'Emotion_Agg_Sum_Trust']\n",
    "\n",
    "emotion_agg_mean_df.columns = ['Emotion_Agg_Mean_Anger', 'Emotion_Agg_Mean_Disgust', 'Emotion_Agg_Mean_Fear',\n",
    "                               'Emotion_Agg_Mean_Negative', 'Emotion_Agg_Mean_Sadness', \n",
    "                               'Emotion_Agg_Mean_Surprise', 'Emotion_Agg_Mean_Positive', \n",
    "                               'Emotion_Agg_Mean_Anticipation', 'Emotion_Agg_Mean_Joy', \n",
    "                               'Emotion_Agg_Mean_Trust']\n",
    "\n",
    "emotion_agg_max_df.columns = ['Emotion_Agg_Max_Anger', 'Emotion_Agg_Max_Disgust', 'Emotion_Agg_Max_Fear',\n",
    "                              'Emotion_Agg_Max_Negative', 'Emotion_Agg_Max_Sadness', \n",
    "                              'Emotion_Agg_Max_Surprise', 'Emotion_Agg_Max_Positive', \n",
    "                              'Emotion_Agg_Max_Anticipation', 'Emotion_Agg_Max_Joy', \n",
    "                              'Emotion_Agg_Max_Trust']\n"
   ]
  },
  {
   "cell_type": "code",
   "execution_count": 335,
   "metadata": {},
   "outputs": [
    {
     "data": {
      "text/plain": [
       "Index(['Emotion_Agg_Max_Anger', 'Emotion_Agg_Max_Disgust',\n",
       "       'Emotion_Agg_Max_Fear', 'Emotion_Agg_Max_Negative',\n",
       "       'Emotion_Agg_Max_Sadness', 'Emotion_Agg_Max_Surprise',\n",
       "       'Emotion_Agg_Max_Positive', 'Emotion_Agg_Max_Anticipation',\n",
       "       'Emotion_Agg_Max_Joy', 'Emotion_Agg_Max_Trust'],\n",
       "      dtype='object')"
      ]
     },
     "execution_count": 335,
     "metadata": {},
     "output_type": "execute_result"
    }
   ],
   "source": [
    "emotion_agg_max_df.columns"
   ]
  },
  {
   "cell_type": "code",
   "execution_count": 354,
   "metadata": {
    "scrolled": true
   },
   "outputs": [
    {
     "name": "stdout",
     "output_type": "stream",
     "text": [
      "Saved df to ./data_backup/\n",
      "Saved vader_sentiment_df to ./data_backup/\n",
      "Saved agg_finbert_df to ./data_backup/\n",
      "Saved bart_summary_df to ./data_backup/\n",
      "Saved domain_sentiments_df to ./data_backup/\n",
      "Saved entities_df to ./data_backup/\n",
      "Saved emotion_agg_sum_df to ./data_backup/\n",
      "Saved emotion_agg_mean_df to ./data_backup/\n",
      "Saved emotion_agg_max_df to ./data_backup/\n"
     ]
    }
   ],
   "source": [
    "# Create a dictionary with variable names as keys\n",
    "dataframes_dict = {\n",
    "    'df': df,\n",
    "    'vader_sentiment_df': vader_sentiment_df,\n",
    "    'agg_finbert_df': agg_finbert_df,\n",
    "    'bart_summary_df': bart_summary_df,\n",
    "    'domain_sentiments_df': domain_sentiments_df,\n",
    "    'entities_df': entities_df,\n",
    "    'emotion_agg_sum_df': emotion_agg_sum_df,\n",
    "    'emotion_agg_mean_df': emotion_agg_mean_df,\n",
    "    'emotion_agg_max_df': emotion_agg_max_df\n",
    "}\n",
    "data_backup_dir = './data_backup/'\n",
    "# Now you can access the DataFrames by their names\n",
    "for df_name, my_df in dataframes_dict.items():\n",
    "    my_df.to_csv(f'{data_backup_dir}/{df_name}.csv')\n",
    "    print(f'Saved {df_name} to {data_backup_dir}')"
   ]
  },
  {
   "cell_type": "code",
   "execution_count": 355,
   "metadata": {
    "colab": {
     "base_uri": "https://localhost:8080/"
    },
    "id": "dseXlOFOew5F",
    "outputId": "c615bd8e-8aef-43d2-c146-cd11e9ecc8ea"
   },
   "outputs": [
    {
     "name": "stdout",
     "output_type": "stream",
     "text": [
      "df shape: (1083, 7)\n",
      "vader_sentiment_df shape: (1083, 4)\n",
      "agg_finbert_df shape: (1083, 2)\n",
      "bart_summary_df shape: (1083, 1)\n",
      "domain_sentiments_df shape: (1083, 3)\n",
      "entities_df shape: (1083, 1)\n",
      "emotion_agg_sum_df shape: (1083, 10)\n",
      "emotion_agg_mean_df shape: (1083, 10)\n",
      "emotion_agg_max_df shape: (1083, 10)\n"
     ]
    }
   ],
   "source": [
    "for df_name, tmp_df in dataframes_dict.items():\n",
    "    print(f'{df_name} shape: {tmp_df.shape}')"
   ]
  },
  {
   "cell_type": "code",
   "execution_count": 360,
   "metadata": {
    "colab": {
     "base_uri": "https://localhost:8080/",
     "height": 551
    },
    "id": "WR21gZiV02nk",
    "outputId": "1d067fd2-b845-4b3f-e907-8c81de2f7467"
   },
   "outputs": [
    {
     "name": "stdout",
     "output_type": "stream",
     "text": [
      "final dataframe columns: Date, Title, Author, Text, Month, clean_content_context, text_sentences, Vader_Negative, Vader_Neutral, Vader_Positive, Vader_Compound, FinBERT_Aggregated_Score, FinBERT_Overall_Sentiment, Bart_Summary, Domain_Positive, Domain_Negative, Domain_Uncertainty, Entities, Emotion_Agg_Sum_Anger, Emotion_Agg_Sum_Disgust, Emotion_Agg_Sum_Fear, Emotion_Agg_Sum_Negative, Emotion_Agg_Sum_Sadness, Emotion_Agg_Sum_Surprise, Emotion_Agg_Sum_Positive, Emotion_Agg_Sum_Anticipation, Emotion_Agg_Sum_Joy, Emotion_Agg_Sum_Trust, Emotion_Agg_Mean_Anger, Emotion_Agg_Mean_Disgust, Emotion_Agg_Mean_Fear, Emotion_Agg_Mean_Negative, Emotion_Agg_Mean_Sadness, Emotion_Agg_Mean_Surprise, Emotion_Agg_Mean_Positive, Emotion_Agg_Mean_Anticipation, Emotion_Agg_Mean_Joy, Emotion_Agg_Mean_Trust, Emotion_Agg_Max_Anger, Emotion_Agg_Max_Disgust, Emotion_Agg_Max_Fear, Emotion_Agg_Max_Negative, Emotion_Agg_Max_Sadness, Emotion_Agg_Max_Surprise, Emotion_Agg_Max_Positive, Emotion_Agg_Max_Anticipation, Emotion_Agg_Max_Joy, Emotion_Agg_Max_Trust\n"
     ]
    },
    {
     "data": {
      "text/html": [
       "<div>\n",
       "<style scoped>\n",
       "    .dataframe tbody tr th:only-of-type {\n",
       "        vertical-align: middle;\n",
       "    }\n",
       "\n",
       "    .dataframe tbody tr th {\n",
       "        vertical-align: top;\n",
       "    }\n",
       "\n",
       "    .dataframe thead th {\n",
       "        text-align: right;\n",
       "    }\n",
       "</style>\n",
       "<table border=\"1\" class=\"dataframe\">\n",
       "  <thead>\n",
       "    <tr style=\"text-align: right;\">\n",
       "      <th></th>\n",
       "      <th>Date</th>\n",
       "      <th>Title</th>\n",
       "      <th>Author</th>\n",
       "      <th>Text</th>\n",
       "      <th>Month</th>\n",
       "      <th>clean_content_context</th>\n",
       "      <th>text_sentences</th>\n",
       "      <th>Vader_Negative</th>\n",
       "      <th>Vader_Neutral</th>\n",
       "      <th>Vader_Positive</th>\n",
       "      <th>...</th>\n",
       "      <th>Emotion_Agg_Max_Anger</th>\n",
       "      <th>Emotion_Agg_Max_Disgust</th>\n",
       "      <th>Emotion_Agg_Max_Fear</th>\n",
       "      <th>Emotion_Agg_Max_Negative</th>\n",
       "      <th>Emotion_Agg_Max_Sadness</th>\n",
       "      <th>Emotion_Agg_Max_Surprise</th>\n",
       "      <th>Emotion_Agg_Max_Positive</th>\n",
       "      <th>Emotion_Agg_Max_Anticipation</th>\n",
       "      <th>Emotion_Agg_Max_Joy</th>\n",
       "      <th>Emotion_Agg_Max_Trust</th>\n",
       "    </tr>\n",
       "  </thead>\n",
       "  <tbody>\n",
       "    <tr>\n",
       "      <th>0</th>\n",
       "      <td>2024-01-01 12:00:27+00:00</td>\n",
       "      <td>Investors in Microsoft (NASDAQ:MSFT) have seen...</td>\n",
       "      <td>editorial-team@simplywallst.com (Simply Wall...</td>\n",
       "      <td>The most you can lose on any stock (assuming y...</td>\n",
       "      <td>2024-01</td>\n",
       "      <td>the most you can lose on any stock assuming yo...</td>\n",
       "      <td>[The most you can lose on any stock (assuming ...</td>\n",
       "      <td>0.025</td>\n",
       "      <td>0.759</td>\n",
       "      <td>0.215</td>\n",
       "      <td>...</td>\n",
       "      <td>2.0</td>\n",
       "      <td>1.0</td>\n",
       "      <td>1.0</td>\n",
       "      <td>1.0</td>\n",
       "      <td>1.0</td>\n",
       "      <td>2.0</td>\n",
       "      <td>5.0</td>\n",
       "      <td>3.0</td>\n",
       "      <td>3.0</td>\n",
       "      <td>3.0</td>\n",
       "    </tr>\n",
       "    <tr>\n",
       "      <th>1</th>\n",
       "      <td>2024-01-02 15:09:36+00:00</td>\n",
       "      <td>Best AI Stock 2024: Alphabet Stock vs. Microso...</td>\n",
       "      <td>Parkev Tatevosian, CFA, The Motley Fool</td>\n",
       "      <td>Fool.com contributor Parkev Tatevosian compare...</td>\n",
       "      <td>2024-01</td>\n",
       "      <td>foolcom contributor parkev tatevosian compares...</td>\n",
       "      <td>[Fool.com contributor Parkev Tatevosian compar...</td>\n",
       "      <td>0.068</td>\n",
       "      <td>0.852</td>\n",
       "      <td>0.081</td>\n",
       "      <td>...</td>\n",
       "      <td>1.0</td>\n",
       "      <td>0.0</td>\n",
       "      <td>1.0</td>\n",
       "      <td>2.0</td>\n",
       "      <td>0.0</td>\n",
       "      <td>1.0</td>\n",
       "      <td>4.0</td>\n",
       "      <td>2.0</td>\n",
       "      <td>1.0</td>\n",
       "      <td>2.0</td>\n",
       "    </tr>\n",
       "    <tr>\n",
       "      <th>2</th>\n",
       "      <td>2024-01-03 14:42:51+00:00</td>\n",
       "      <td>1 Artificial Intelligence (AI) Stock Poised to...</td>\n",
       "      <td>Parkev Tatevosian, CFA, The Motley Fool</td>\n",
       "      <td>Fool.com contributor Parkev Tatevosian highlig...</td>\n",
       "      <td>2024-01</td>\n",
       "      <td>foolcom contributor parkev tatevosian highligh...</td>\n",
       "      <td>[Fool.com contributor Parkev Tatevosian highli...</td>\n",
       "      <td>0.070</td>\n",
       "      <td>0.849</td>\n",
       "      <td>0.081</td>\n",
       "      <td>...</td>\n",
       "      <td>1.0</td>\n",
       "      <td>0.0</td>\n",
       "      <td>1.0</td>\n",
       "      <td>2.0</td>\n",
       "      <td>0.0</td>\n",
       "      <td>1.0</td>\n",
       "      <td>4.0</td>\n",
       "      <td>2.0</td>\n",
       "      <td>1.0</td>\n",
       "      <td>2.0</td>\n",
       "    </tr>\n",
       "    <tr>\n",
       "      <th>3</th>\n",
       "      <td>2024-01-03 15:00:00+00:00</td>\n",
       "      <td>If You Invested $10,000 in Microsoft When Saty...</td>\n",
       "      <td>Jeremy Bowman, The Motley Fool</td>\n",
       "      <td>Microsoft (NASDAQ: MSFT) is back on top of the...</td>\n",
       "      <td>2024-01</td>\n",
       "      <td>microsoft nasdaq msft is back on top of the te...</td>\n",
       "      <td>[Microsoft (NASDAQ: MSFT) is back on top of th...</td>\n",
       "      <td>0.055</td>\n",
       "      <td>0.800</td>\n",
       "      <td>0.145</td>\n",
       "      <td>...</td>\n",
       "      <td>1.0</td>\n",
       "      <td>1.0</td>\n",
       "      <td>1.0</td>\n",
       "      <td>2.0</td>\n",
       "      <td>1.0</td>\n",
       "      <td>1.0</td>\n",
       "      <td>5.0</td>\n",
       "      <td>2.0</td>\n",
       "      <td>1.0</td>\n",
       "      <td>3.0</td>\n",
       "    </tr>\n",
       "    <tr>\n",
       "      <th>4</th>\n",
       "      <td>2024-01-03 15:29:29+00:00</td>\n",
       "      <td>Microsoft Copilot is now available on iOS and ...</td>\n",
       "      <td>Aisha Malik</td>\n",
       "      <td>Over the holiday season, Microsoft quietly lau...</td>\n",
       "      <td>2024-01</td>\n",
       "      <td>over the holiday season microsoft quietly laun...</td>\n",
       "      <td>[Over the holiday season, Microsoft quietly la...</td>\n",
       "      <td>0.014</td>\n",
       "      <td>0.869</td>\n",
       "      <td>0.117</td>\n",
       "      <td>...</td>\n",
       "      <td>0.0</td>\n",
       "      <td>0.0</td>\n",
       "      <td>1.0</td>\n",
       "      <td>0.0</td>\n",
       "      <td>0.0</td>\n",
       "      <td>0.0</td>\n",
       "      <td>5.0</td>\n",
       "      <td>3.0</td>\n",
       "      <td>2.0</td>\n",
       "      <td>1.0</td>\n",
       "    </tr>\n",
       "  </tbody>\n",
       "</table>\n",
       "<p>5 rows × 48 columns</p>\n",
       "</div>"
      ],
      "text/plain": [
       "                       Date  \\\n",
       "0 2024-01-01 12:00:27+00:00   \n",
       "1 2024-01-02 15:09:36+00:00   \n",
       "2 2024-01-03 14:42:51+00:00   \n",
       "3 2024-01-03 15:00:00+00:00   \n",
       "4 2024-01-03 15:29:29+00:00   \n",
       "\n",
       "                                               Title  \\\n",
       "0  Investors in Microsoft (NASDAQ:MSFT) have seen...   \n",
       "1  Best AI Stock 2024: Alphabet Stock vs. Microso...   \n",
       "2  1 Artificial Intelligence (AI) Stock Poised to...   \n",
       "3  If You Invested $10,000 in Microsoft When Saty...   \n",
       "4  Microsoft Copilot is now available on iOS and ...   \n",
       "\n",
       "                                              Author  \\\n",
       "0    editorial-team@simplywallst.com (Simply Wall...   \n",
       "1           Parkev Tatevosian, CFA, The Motley Fool    \n",
       "2           Parkev Tatevosian, CFA, The Motley Fool    \n",
       "3                    Jeremy Bowman, The Motley Fool    \n",
       "4                                       Aisha Malik    \n",
       "\n",
       "                                                Text    Month  \\\n",
       "0  The most you can lose on any stock (assuming y...  2024-01   \n",
       "1  Fool.com contributor Parkev Tatevosian compare...  2024-01   \n",
       "2  Fool.com contributor Parkev Tatevosian highlig...  2024-01   \n",
       "3  Microsoft (NASDAQ: MSFT) is back on top of the...  2024-01   \n",
       "4  Over the holiday season, Microsoft quietly lau...  2024-01   \n",
       "\n",
       "                               clean_content_context  \\\n",
       "0  the most you can lose on any stock assuming yo...   \n",
       "1  foolcom contributor parkev tatevosian compares...   \n",
       "2  foolcom contributor parkev tatevosian highligh...   \n",
       "3  microsoft nasdaq msft is back on top of the te...   \n",
       "4  over the holiday season microsoft quietly laun...   \n",
       "\n",
       "                                      text_sentences  Vader_Negative  \\\n",
       "0  [The most you can lose on any stock (assuming ...           0.025   \n",
       "1  [Fool.com contributor Parkev Tatevosian compar...           0.068   \n",
       "2  [Fool.com contributor Parkev Tatevosian highli...           0.070   \n",
       "3  [Microsoft (NASDAQ: MSFT) is back on top of th...           0.055   \n",
       "4  [Over the holiday season, Microsoft quietly la...           0.014   \n",
       "\n",
       "   Vader_Neutral  Vader_Positive  ...  Emotion_Agg_Max_Anger  \\\n",
       "0          0.759           0.215  ...                    2.0   \n",
       "1          0.852           0.081  ...                    1.0   \n",
       "2          0.849           0.081  ...                    1.0   \n",
       "3          0.800           0.145  ...                    1.0   \n",
       "4          0.869           0.117  ...                    0.0   \n",
       "\n",
       "   Emotion_Agg_Max_Disgust Emotion_Agg_Max_Fear Emotion_Agg_Max_Negative  \\\n",
       "0                      1.0                  1.0                      1.0   \n",
       "1                      0.0                  1.0                      2.0   \n",
       "2                      0.0                  1.0                      2.0   \n",
       "3                      1.0                  1.0                      2.0   \n",
       "4                      0.0                  1.0                      0.0   \n",
       "\n",
       "   Emotion_Agg_Max_Sadness  Emotion_Agg_Max_Surprise  \\\n",
       "0                      1.0                       2.0   \n",
       "1                      0.0                       1.0   \n",
       "2                      0.0                       1.0   \n",
       "3                      1.0                       1.0   \n",
       "4                      0.0                       0.0   \n",
       "\n",
       "   Emotion_Agg_Max_Positive Emotion_Agg_Max_Anticipation  Emotion_Agg_Max_Joy  \\\n",
       "0                       5.0                          3.0                  3.0   \n",
       "1                       4.0                          2.0                  1.0   \n",
       "2                       4.0                          2.0                  1.0   \n",
       "3                       5.0                          2.0                  1.0   \n",
       "4                       5.0                          3.0                  2.0   \n",
       "\n",
       "   Emotion_Agg_Max_Trust  \n",
       "0                    3.0  \n",
       "1                    2.0  \n",
       "2                    2.0  \n",
       "3                    3.0  \n",
       "4                    1.0  \n",
       "\n",
       "[5 rows x 48 columns]"
      ]
     },
     "execution_count": 360,
     "metadata": {},
     "output_type": "execute_result"
    }
   ],
   "source": [
    "# List of DataFrames to concatenate\n",
    "dfs_list = [tmp_df for _, tmp_df in dataframes_dict.items()]\n",
    "\n",
    "# Concatenate all DataFrames along axis=1\n",
    "final_df = pd.concat(dfs_list, axis=1)\n",
    "\n",
    "print(f'final dataframe columns: {\", \".join(final_df.columns)}')\n",
    "# Show the resulting DataFrame\n",
    "final_df.head()"
   ]
  },
  {
   "cell_type": "markdown",
   "metadata": {
    "id": "cQIoUrZAew5F"
   },
   "source": [
    "### Final DataFrame Processing"
   ]
  },
  {
   "cell_type": "markdown",
   "metadata": {
    "id": "4kdHjlYUew5G"
   },
   "source": [
    "After concatenating our DataFrames, we will perform some final processing, including dropping any rows with missing values to ensure the integrity of our data."
   ]
  },
  {
   "cell_type": "code",
   "execution_count": 366,
   "metadata": {
    "colab": {
     "base_uri": "https://localhost:8080/"
    },
    "id": "OADQVM0Sv-_G",
    "outputId": "231f68dc-6412-457e-be1e-25259645b42f"
   },
   "outputs": [
    {
     "name": "stdout",
     "output_type": "stream",
     "text": [
      "<class 'pandas.core.frame.DataFrame'>\n",
      "RangeIndex: 1083 entries, 0 to 1082\n",
      "Data columns (total 48 columns):\n",
      " #   Column                         Non-Null Count  Dtype              \n",
      "---  ------                         --------------  -----              \n",
      " 0   Date                           1083 non-null   datetime64[ns, UTC]\n",
      " 1   Title                          1083 non-null   object             \n",
      " 2   Author                         1083 non-null   object             \n",
      " 3   Text                           1083 non-null   object             \n",
      " 4   Month                          1083 non-null   period[M]          \n",
      " 5   clean_content_context          1083 non-null   object             \n",
      " 6   text_sentences                 1083 non-null   object             \n",
      " 7   Vader_Negative                 1083 non-null   float64            \n",
      " 8   Vader_Neutral                  1083 non-null   float64            \n",
      " 9   Vader_Positive                 1083 non-null   float64            \n",
      " 10  Vader_Compound                 1083 non-null   float64            \n",
      " 11  FinBERT_Aggregated_Score       1083 non-null   float64            \n",
      " 12  FinBERT_Overall_Sentiment      1083 non-null   object             \n",
      " 13  Bart_Summary                   1083 non-null   object             \n",
      " 14  Domain_Positive                1083 non-null   int64              \n",
      " 15  Domain_Negative                1083 non-null   int64              \n",
      " 16  Domain_Uncertainty             1083 non-null   int64              \n",
      " 17  Entities                       1083 non-null   object             \n",
      " 18  Emotion_Agg_Sum_Anger          1083 non-null   float64            \n",
      " 19  Emotion_Agg_Sum_Disgust        1083 non-null   float64            \n",
      " 20  Emotion_Agg_Sum_Fear           1083 non-null   float64            \n",
      " 21  Emotion_Agg_Sum_Negative       1083 non-null   float64            \n",
      " 22  Emotion_Agg_Sum_Sadness        1083 non-null   float64            \n",
      " 23  Emotion_Agg_Sum_Surprise       1083 non-null   float64            \n",
      " 24  Emotion_Agg_Sum_Positive       1083 non-null   float64            \n",
      " 25  Emotion_Agg_Sum_Anticipation   1083 non-null   float64            \n",
      " 26  Emotion_Agg_Sum_Joy            1083 non-null   float64            \n",
      " 27  Emotion_Agg_Sum_Trust          1083 non-null   float64            \n",
      " 28  Emotion_Agg_Mean_Anger         1083 non-null   float64            \n",
      " 29  Emotion_Agg_Mean_Disgust       1083 non-null   float64            \n",
      " 30  Emotion_Agg_Mean_Fear          1083 non-null   float64            \n",
      " 31  Emotion_Agg_Mean_Negative      1083 non-null   float64            \n",
      " 32  Emotion_Agg_Mean_Sadness       1083 non-null   float64            \n",
      " 33  Emotion_Agg_Mean_Surprise      1083 non-null   float64            \n",
      " 34  Emotion_Agg_Mean_Positive      1083 non-null   float64            \n",
      " 35  Emotion_Agg_Mean_Anticipation  1083 non-null   float64            \n",
      " 36  Emotion_Agg_Mean_Joy           1083 non-null   float64            \n",
      " 37  Emotion_Agg_Mean_Trust         1083 non-null   float64            \n",
      " 38  Emotion_Agg_Max_Anger          1083 non-null   float64            \n",
      " 39  Emotion_Agg_Max_Disgust        1083 non-null   float64            \n",
      " 40  Emotion_Agg_Max_Fear           1083 non-null   float64            \n",
      " 41  Emotion_Agg_Max_Negative       1083 non-null   float64            \n",
      " 42  Emotion_Agg_Max_Sadness        1083 non-null   float64            \n",
      " 43  Emotion_Agg_Max_Surprise       1083 non-null   float64            \n",
      " 44  Emotion_Agg_Max_Positive       1083 non-null   float64            \n",
      " 45  Emotion_Agg_Max_Anticipation   1083 non-null   float64            \n",
      " 46  Emotion_Agg_Max_Joy            1083 non-null   float64            \n",
      " 47  Emotion_Agg_Max_Trust          1083 non-null   float64            \n",
      "dtypes: datetime64[ns, UTC](1), float64(35), int64(3), object(8), period[M](1)\n",
      "memory usage: 406.3+ KB\n"
     ]
    }
   ],
   "source": [
    "final_df.info()"
   ]
  },
  {
   "cell_type": "code",
   "execution_count": 363,
   "metadata": {
    "colab": {
     "base_uri": "https://localhost:8080/"
    },
    "id": "rwfCAGhdz3EY",
    "outputId": "d6e8d911-e661-44f5-e98a-3daf419423fc"
   },
   "outputs": [
    {
     "data": {
      "text/plain": [
       "(1083, 48)"
      ]
     },
     "execution_count": 363,
     "metadata": {},
     "output_type": "execute_result"
    }
   ],
   "source": [
    "final_df.shape"
   ]
  },
  {
   "cell_type": "code",
   "execution_count": 367,
   "metadata": {
    "id": "Xy_J9tGPwBb9"
   },
   "outputs": [],
   "source": [
    "final_df.to_csv(path_or_buf='./final_df.csv')"
   ]
  },
  {
   "cell_type": "code",
   "execution_count": null,
   "metadata": {
    "id": "ofFwmi8KnTGY"
   },
   "outputs": [],
   "source": [
    "# final_df = pd.read_csv('./final_df.csv')"
   ]
  },
  {
   "cell_type": "code",
   "execution_count": null,
   "metadata": {},
   "outputs": [],
   "source": [
    "! pip install yfinance"
   ]
  },
  {
   "cell_type": "code",
   "execution_count": 401,
   "metadata": {
    "colab": {
     "base_uri": "https://localhost:8080/"
    },
    "id": "XCXv5oX5ew5G",
    "outputId": "b8c28def-f298-491c-9e37-770eeb298809"
   },
   "outputs": [
    {
     "name": "stderr",
     "output_type": "stream",
     "text": [
      "[*********************100%***********************]  1 of 1 completed\n"
     ]
    },
    {
     "data": {
      "text/html": [
       "<div>\n",
       "<style scoped>\n",
       "    .dataframe tbody tr th:only-of-type {\n",
       "        vertical-align: middle;\n",
       "    }\n",
       "\n",
       "    .dataframe tbody tr th {\n",
       "        vertical-align: top;\n",
       "    }\n",
       "\n",
       "    .dataframe thead th {\n",
       "        text-align: right;\n",
       "    }\n",
       "</style>\n",
       "<table border=\"1\" class=\"dataframe\">\n",
       "  <thead>\n",
       "    <tr style=\"text-align: right;\">\n",
       "      <th></th>\n",
       "      <th>Date</th>\n",
       "      <th>Open</th>\n",
       "      <th>High</th>\n",
       "      <th>Low</th>\n",
       "      <th>Close</th>\n",
       "      <th>Adj Close</th>\n",
       "      <th>Volume</th>\n",
       "    </tr>\n",
       "  </thead>\n",
       "  <tbody>\n",
       "    <tr>\n",
       "      <th>0</th>\n",
       "      <td>2000-01-03</td>\n",
       "      <td>58.68750</td>\n",
       "      <td>59.3125</td>\n",
       "      <td>56.00000</td>\n",
       "      <td>58.28125</td>\n",
       "      <td>35.935860</td>\n",
       "      <td>53228400</td>\n",
       "    </tr>\n",
       "    <tr>\n",
       "      <th>1</th>\n",
       "      <td>2000-01-04</td>\n",
       "      <td>56.78125</td>\n",
       "      <td>58.5625</td>\n",
       "      <td>56.12500</td>\n",
       "      <td>56.31250</td>\n",
       "      <td>34.721954</td>\n",
       "      <td>54119000</td>\n",
       "    </tr>\n",
       "    <tr>\n",
       "      <th>2</th>\n",
       "      <td>2000-01-05</td>\n",
       "      <td>55.56250</td>\n",
       "      <td>58.1875</td>\n",
       "      <td>54.68750</td>\n",
       "      <td>56.90625</td>\n",
       "      <td>35.088036</td>\n",
       "      <td>64059600</td>\n",
       "    </tr>\n",
       "    <tr>\n",
       "      <th>3</th>\n",
       "      <td>2000-01-06</td>\n",
       "      <td>56.09375</td>\n",
       "      <td>56.9375</td>\n",
       "      <td>54.18750</td>\n",
       "      <td>55.00000</td>\n",
       "      <td>33.912663</td>\n",
       "      <td>54976600</td>\n",
       "    </tr>\n",
       "    <tr>\n",
       "      <th>4</th>\n",
       "      <td>2000-01-07</td>\n",
       "      <td>54.31250</td>\n",
       "      <td>56.1250</td>\n",
       "      <td>53.65625</td>\n",
       "      <td>55.71875</td>\n",
       "      <td>34.355846</td>\n",
       "      <td>62013600</td>\n",
       "    </tr>\n",
       "  </tbody>\n",
       "</table>\n",
       "</div>"
      ],
      "text/plain": [
       "        Date      Open     High       Low     Close  Adj Close    Volume\n",
       "0 2000-01-03  58.68750  59.3125  56.00000  58.28125  35.935860  53228400\n",
       "1 2000-01-04  56.78125  58.5625  56.12500  56.31250  34.721954  54119000\n",
       "2 2000-01-05  55.56250  58.1875  54.68750  56.90625  35.088036  64059600\n",
       "3 2000-01-06  56.09375  56.9375  54.18750  55.00000  33.912663  54976600\n",
       "4 2000-01-07  54.31250  56.1250  53.65625  55.71875  34.355846  62013600"
      ]
     },
     "execution_count": 401,
     "metadata": {},
     "output_type": "execute_result"
    }
   ],
   "source": [
    "import yfinance as yf\n",
    "\n",
    "# Download monthly data for Microsoft (MSFT) from 2000 to today\n",
    "msft_data = yf.download('MSFT', start='2000-01-01', end=pd.Timestamp.today(), interval='1d').reset_index()\n",
    "\n",
    "# Display the first few rows of the data\n",
    "msft_data.head()"
   ]
  },
  {
   "cell_type": "code",
   "execution_count": 402,
   "metadata": {
    "colab": {
     "base_uri": "https://localhost:8080/"
    },
    "id": "bl8w6kq5uEh5",
    "outputId": "c0f14c77-ba67-496c-aa26-ef0ea54a4f41"
   },
   "outputs": [],
   "source": [
    "# Convert dates to ensure they match correctly\n",
    "final_df['Date'] = pd.to_datetime(final_df['Date'])\n",
    "msft_data['Date'] = pd.to_datetime(msft_data['Date'])"
   ]
  },
  {
   "cell_type": "code",
   "execution_count": 403,
   "metadata": {
    "colab": {
     "base_uri": "https://localhost:8080/",
     "height": 551
    },
    "id": "fBtycSe76f9x",
    "outputId": "41b5c0d4-469d-4f27-b698-02f5d4d5e38a"
   },
   "outputs": [
    {
     "data": {
      "text/html": [
       "<div>\n",
       "<style scoped>\n",
       "    .dataframe tbody tr th:only-of-type {\n",
       "        vertical-align: middle;\n",
       "    }\n",
       "\n",
       "    .dataframe tbody tr th {\n",
       "        vertical-align: top;\n",
       "    }\n",
       "\n",
       "    .dataframe thead th {\n",
       "        text-align: right;\n",
       "    }\n",
       "</style>\n",
       "<table border=\"1\" class=\"dataframe\">\n",
       "  <thead>\n",
       "    <tr style=\"text-align: right;\">\n",
       "      <th></th>\n",
       "      <th>Date</th>\n",
       "      <th>Title</th>\n",
       "      <th>Author</th>\n",
       "      <th>Text</th>\n",
       "      <th>Month</th>\n",
       "      <th>clean_content_context</th>\n",
       "      <th>text_sentences</th>\n",
       "      <th>Vader_Negative</th>\n",
       "      <th>Vader_Neutral</th>\n",
       "      <th>Vader_Positive</th>\n",
       "      <th>...</th>\n",
       "      <th>Emotion_Agg_Max_Anticipation</th>\n",
       "      <th>Emotion_Agg_Max_Joy</th>\n",
       "      <th>Emotion_Agg_Max_Trust</th>\n",
       "      <th>Date_Only</th>\n",
       "      <th>Open</th>\n",
       "      <th>High</th>\n",
       "      <th>Low</th>\n",
       "      <th>Close</th>\n",
       "      <th>Adj Close</th>\n",
       "      <th>Volume</th>\n",
       "    </tr>\n",
       "  </thead>\n",
       "  <tbody>\n",
       "    <tr>\n",
       "      <th>0</th>\n",
       "      <td>2024-01-01 12:00:27+00:00</td>\n",
       "      <td>Investors in Microsoft (NASDAQ:MSFT) have seen...</td>\n",
       "      <td>editorial-team@simplywallst.com (Simply Wall...</td>\n",
       "      <td>The most you can lose on any stock (assuming y...</td>\n",
       "      <td>2024-01</td>\n",
       "      <td>the most you can lose on any stock assuming yo...</td>\n",
       "      <td>[The most you can lose on any stock (assuming ...</td>\n",
       "      <td>0.025</td>\n",
       "      <td>0.759</td>\n",
       "      <td>0.215</td>\n",
       "      <td>...</td>\n",
       "      <td>3.0</td>\n",
       "      <td>3.0</td>\n",
       "      <td>3.0</td>\n",
       "      <td>2024-01-01</td>\n",
       "      <td>NaN</td>\n",
       "      <td>NaN</td>\n",
       "      <td>NaN</td>\n",
       "      <td>NaN</td>\n",
       "      <td>NaN</td>\n",
       "      <td>NaN</td>\n",
       "    </tr>\n",
       "    <tr>\n",
       "      <th>1</th>\n",
       "      <td>2024-01-02 15:09:36+00:00</td>\n",
       "      <td>Best AI Stock 2024: Alphabet Stock vs. Microso...</td>\n",
       "      <td>Parkev Tatevosian, CFA, The Motley Fool</td>\n",
       "      <td>Fool.com contributor Parkev Tatevosian compare...</td>\n",
       "      <td>2024-01</td>\n",
       "      <td>foolcom contributor parkev tatevosian compares...</td>\n",
       "      <td>[Fool.com contributor Parkev Tatevosian compar...</td>\n",
       "      <td>0.068</td>\n",
       "      <td>0.852</td>\n",
       "      <td>0.081</td>\n",
       "      <td>...</td>\n",
       "      <td>2.0</td>\n",
       "      <td>1.0</td>\n",
       "      <td>2.0</td>\n",
       "      <td>2024-01-02</td>\n",
       "      <td>373.859985</td>\n",
       "      <td>375.899994</td>\n",
       "      <td>366.769989</td>\n",
       "      <td>370.869995</td>\n",
       "      <td>368.854095</td>\n",
       "      <td>25258600.0</td>\n",
       "    </tr>\n",
       "    <tr>\n",
       "      <th>2</th>\n",
       "      <td>2024-01-03 14:42:51+00:00</td>\n",
       "      <td>1 Artificial Intelligence (AI) Stock Poised to...</td>\n",
       "      <td>Parkev Tatevosian, CFA, The Motley Fool</td>\n",
       "      <td>Fool.com contributor Parkev Tatevosian highlig...</td>\n",
       "      <td>2024-01</td>\n",
       "      <td>foolcom contributor parkev tatevosian highligh...</td>\n",
       "      <td>[Fool.com contributor Parkev Tatevosian highli...</td>\n",
       "      <td>0.070</td>\n",
       "      <td>0.849</td>\n",
       "      <td>0.081</td>\n",
       "      <td>...</td>\n",
       "      <td>2.0</td>\n",
       "      <td>1.0</td>\n",
       "      <td>2.0</td>\n",
       "      <td>2024-01-03</td>\n",
       "      <td>369.010010</td>\n",
       "      <td>373.260010</td>\n",
       "      <td>368.510010</td>\n",
       "      <td>370.600006</td>\n",
       "      <td>368.585571</td>\n",
       "      <td>23083500.0</td>\n",
       "    </tr>\n",
       "    <tr>\n",
       "      <th>3</th>\n",
       "      <td>2024-01-03 15:00:00+00:00</td>\n",
       "      <td>If You Invested $10,000 in Microsoft When Saty...</td>\n",
       "      <td>Jeremy Bowman, The Motley Fool</td>\n",
       "      <td>Microsoft (NASDAQ: MSFT) is back on top of the...</td>\n",
       "      <td>2024-01</td>\n",
       "      <td>microsoft nasdaq msft is back on top of the te...</td>\n",
       "      <td>[Microsoft (NASDAQ: MSFT) is back on top of th...</td>\n",
       "      <td>0.055</td>\n",
       "      <td>0.800</td>\n",
       "      <td>0.145</td>\n",
       "      <td>...</td>\n",
       "      <td>2.0</td>\n",
       "      <td>1.0</td>\n",
       "      <td>3.0</td>\n",
       "      <td>2024-01-03</td>\n",
       "      <td>369.010010</td>\n",
       "      <td>373.260010</td>\n",
       "      <td>368.510010</td>\n",
       "      <td>370.600006</td>\n",
       "      <td>368.585571</td>\n",
       "      <td>23083500.0</td>\n",
       "    </tr>\n",
       "    <tr>\n",
       "      <th>4</th>\n",
       "      <td>2024-01-03 15:29:29+00:00</td>\n",
       "      <td>Microsoft Copilot is now available on iOS and ...</td>\n",
       "      <td>Aisha Malik</td>\n",
       "      <td>Over the holiday season, Microsoft quietly lau...</td>\n",
       "      <td>2024-01</td>\n",
       "      <td>over the holiday season microsoft quietly laun...</td>\n",
       "      <td>[Over the holiday season, Microsoft quietly la...</td>\n",
       "      <td>0.014</td>\n",
       "      <td>0.869</td>\n",
       "      <td>0.117</td>\n",
       "      <td>...</td>\n",
       "      <td>3.0</td>\n",
       "      <td>2.0</td>\n",
       "      <td>1.0</td>\n",
       "      <td>2024-01-03</td>\n",
       "      <td>369.010010</td>\n",
       "      <td>373.260010</td>\n",
       "      <td>368.510010</td>\n",
       "      <td>370.600006</td>\n",
       "      <td>368.585571</td>\n",
       "      <td>23083500.0</td>\n",
       "    </tr>\n",
       "  </tbody>\n",
       "</table>\n",
       "<p>5 rows × 55 columns</p>\n",
       "</div>"
      ],
      "text/plain": [
       "                       Date  \\\n",
       "0 2024-01-01 12:00:27+00:00   \n",
       "1 2024-01-02 15:09:36+00:00   \n",
       "2 2024-01-03 14:42:51+00:00   \n",
       "3 2024-01-03 15:00:00+00:00   \n",
       "4 2024-01-03 15:29:29+00:00   \n",
       "\n",
       "                                               Title  \\\n",
       "0  Investors in Microsoft (NASDAQ:MSFT) have seen...   \n",
       "1  Best AI Stock 2024: Alphabet Stock vs. Microso...   \n",
       "2  1 Artificial Intelligence (AI) Stock Poised to...   \n",
       "3  If You Invested $10,000 in Microsoft When Saty...   \n",
       "4  Microsoft Copilot is now available on iOS and ...   \n",
       "\n",
       "                                              Author  \\\n",
       "0    editorial-team@simplywallst.com (Simply Wall...   \n",
       "1           Parkev Tatevosian, CFA, The Motley Fool    \n",
       "2           Parkev Tatevosian, CFA, The Motley Fool    \n",
       "3                    Jeremy Bowman, The Motley Fool    \n",
       "4                                       Aisha Malik    \n",
       "\n",
       "                                                Text    Month  \\\n",
       "0  The most you can lose on any stock (assuming y...  2024-01   \n",
       "1  Fool.com contributor Parkev Tatevosian compare...  2024-01   \n",
       "2  Fool.com contributor Parkev Tatevosian highlig...  2024-01   \n",
       "3  Microsoft (NASDAQ: MSFT) is back on top of the...  2024-01   \n",
       "4  Over the holiday season, Microsoft quietly lau...  2024-01   \n",
       "\n",
       "                               clean_content_context  \\\n",
       "0  the most you can lose on any stock assuming yo...   \n",
       "1  foolcom contributor parkev tatevosian compares...   \n",
       "2  foolcom contributor parkev tatevosian highligh...   \n",
       "3  microsoft nasdaq msft is back on top of the te...   \n",
       "4  over the holiday season microsoft quietly laun...   \n",
       "\n",
       "                                      text_sentences  Vader_Negative  \\\n",
       "0  [The most you can lose on any stock (assuming ...           0.025   \n",
       "1  [Fool.com contributor Parkev Tatevosian compar...           0.068   \n",
       "2  [Fool.com contributor Parkev Tatevosian highli...           0.070   \n",
       "3  [Microsoft (NASDAQ: MSFT) is back on top of th...           0.055   \n",
       "4  [Over the holiday season, Microsoft quietly la...           0.014   \n",
       "\n",
       "   Vader_Neutral  Vader_Positive  ...  Emotion_Agg_Max_Anticipation  \\\n",
       "0          0.759           0.215  ...                           3.0   \n",
       "1          0.852           0.081  ...                           2.0   \n",
       "2          0.849           0.081  ...                           2.0   \n",
       "3          0.800           0.145  ...                           2.0   \n",
       "4          0.869           0.117  ...                           3.0   \n",
       "\n",
       "   Emotion_Agg_Max_Joy Emotion_Agg_Max_Trust  Date_Only        Open  \\\n",
       "0                  3.0                   3.0 2024-01-01         NaN   \n",
       "1                  1.0                   2.0 2024-01-02  373.859985   \n",
       "2                  1.0                   2.0 2024-01-03  369.010010   \n",
       "3                  1.0                   3.0 2024-01-03  369.010010   \n",
       "4                  2.0                   1.0 2024-01-03  369.010010   \n",
       "\n",
       "         High         Low       Close   Adj Close      Volume  \n",
       "0         NaN         NaN         NaN         NaN         NaN  \n",
       "1  375.899994  366.769989  370.869995  368.854095  25258600.0  \n",
       "2  373.260010  368.510010  370.600006  368.585571  23083500.0  \n",
       "3  373.260010  368.510010  370.600006  368.585571  23083500.0  \n",
       "4  373.260010  368.510010  370.600006  368.585571  23083500.0  \n",
       "\n",
       "[5 rows x 55 columns]"
      ]
     },
     "execution_count": 403,
     "metadata": {},
     "output_type": "execute_result"
    }
   ],
   "source": [
    "# Create a new 'Date' column that contains only the date part\n",
    "final_df['Date_Only'] = pd.to_datetime(final_df['Date'].dt.date).dt.tz_localize(None)\n",
    "\n",
    "msft_data['Date_Only'] = pd.to_datetime(msft_data['Date'])\n",
    "msft_data.drop('Date', axis=1, inplace=True)\n",
    "# Set the 'Date' column of msft_data as the index for easy lookup\n",
    "# msft_data.set_index('Date', inplace=True)\n",
    "\n",
    "# Merge the dataframes on the 'Date' column\n",
    "merged_df = pd.merge(final_df, msft_data, on='Date_Only', how='left')\n",
    "merged_df.fillna(method='ffill', inplace=True)\n",
    "\n",
    "# Display the first few rows to verify the addition\n",
    "merged_df.head()"
   ]
  },
  {
   "cell_type": "code",
   "execution_count": 404,
   "metadata": {},
   "outputs": [
    {
     "data": {
      "text/plain": [
       "Date                                                     2024-01-01 12:00:27+00:00\n",
       "Title                            Investors in Microsoft (NASDAQ:MSFT) have seen...\n",
       "Author                             editorial-team@simplywallst.com (Simply Wall...\n",
       "Text                             The most you can lose on any stock (assuming y...\n",
       "Month                                                                      2024-01\n",
       "clean_content_context            the most you can lose on any stock assuming yo...\n",
       "text_sentences                   [The most you can lose on any stock (assuming ...\n",
       "Vader_Negative                                                               0.025\n",
       "Vader_Neutral                                                                0.759\n",
       "Vader_Positive                                                               0.215\n",
       "Vader_Compound                                                              0.9993\n",
       "FinBERT_Aggregated_Score                                                  0.335452\n",
       "FinBERT_Overall_Sentiment                                                 Positive\n",
       "Bart_Summary                     The price of Microsoft Corporation (NASDAQ:MSF...\n",
       "Domain_Positive                                                                 12\n",
       "Domain_Negative                                                                  4\n",
       "Domain_Uncertainty                                                               8\n",
       "Entities                         [(100, %), (100, %), (Microsoft, Corporation),...\n",
       "Emotion_Agg_Sum_Anger                                                          2.0\n",
       "Emotion_Agg_Sum_Disgust                                                        2.0\n",
       "Emotion_Agg_Sum_Fear                                                           4.0\n",
       "Emotion_Agg_Sum_Negative                                                       6.0\n",
       "Emotion_Agg_Sum_Sadness                                                        2.0\n",
       "Emotion_Agg_Sum_Surprise                                                       3.0\n",
       "Emotion_Agg_Sum_Positive                                                      48.0\n",
       "Emotion_Agg_Sum_Anticipation                                                  29.0\n",
       "Emotion_Agg_Sum_Joy                                                           25.0\n",
       "Emotion_Agg_Sum_Trust                                                         34.0\n",
       "Emotion_Agg_Mean_Anger                                                    0.066667\n",
       "Emotion_Agg_Mean_Disgust                                                  0.066667\n",
       "Emotion_Agg_Mean_Fear                                                     0.133333\n",
       "Emotion_Agg_Mean_Negative                                                      0.2\n",
       "Emotion_Agg_Mean_Sadness                                                  0.066667\n",
       "Emotion_Agg_Mean_Surprise                                                      0.1\n",
       "Emotion_Agg_Mean_Positive                                                      1.6\n",
       "Emotion_Agg_Mean_Anticipation                                             0.966667\n",
       "Emotion_Agg_Mean_Joy                                                      0.833333\n",
       "Emotion_Agg_Mean_Trust                                                    1.133333\n",
       "Emotion_Agg_Max_Anger                                                          2.0\n",
       "Emotion_Agg_Max_Disgust                                                        1.0\n",
       "Emotion_Agg_Max_Fear                                                           1.0\n",
       "Emotion_Agg_Max_Negative                                                       1.0\n",
       "Emotion_Agg_Max_Sadness                                                        1.0\n",
       "Emotion_Agg_Max_Surprise                                                       2.0\n",
       "Emotion_Agg_Max_Positive                                                       5.0\n",
       "Emotion_Agg_Max_Anticipation                                                   3.0\n",
       "Emotion_Agg_Max_Joy                                                            3.0\n",
       "Emotion_Agg_Max_Trust                                                          3.0\n",
       "Date_Only                                                      2024-01-01 00:00:00\n",
       "Open                                                                           NaN\n",
       "High                                                                           NaN\n",
       "Low                                                                            NaN\n",
       "Close                                                                          NaN\n",
       "Adj Close                                                                      NaN\n",
       "Volume                                                                         NaN\n",
       "Name: 0, dtype: object"
      ]
     },
     "execution_count": 404,
     "metadata": {},
     "output_type": "execute_result"
    }
   ],
   "source": [
    "# Get the Date_Only for the first row of merged_df\n",
    "first_row_date = merged_df['Date_Only'].iloc[0]\n",
    "\n",
    "# Find the closest previous date in msft_data\n",
    "previous_date = msft_data[msft_data['Date_Only'] < first_row_date]['Date_Only'].max()\n",
    "\n",
    "# If a previous date exists, get the corresponding row from msft_data\n",
    "if pd.notna(previous_date):\n",
    "    previous_row = msft_data[msft_data['Date_Only'] == previous_date]\n",
    "    \n",
    "    # Assign the values from the previous_row to the merged_df first row\n",
    "    for column in previous_row.columns:\n",
    "        if column != 'Date_Only':  # Skip the Date_Only column\n",
    "            merged_df.iloc[0][column] = previous_row.iloc[0][column]\n",
    "\n",
    "# Display the updated first row to verify the changes\n",
    "merged_df.iloc[0]"
   ]
  },
  {
   "cell_type": "code",
   "execution_count": 393,
   "metadata": {},
   "outputs": [
    {
     "data": {
      "text/plain": [
       "Date                             0\n",
       "Title                            0\n",
       "Author                           0\n",
       "Text                             0\n",
       "Month                            0\n",
       "clean_content_context            0\n",
       "text_sentences                   0\n",
       "Vader_Negative                   0\n",
       "Vader_Neutral                    0\n",
       "Vader_Positive                   0\n",
       "Vader_Compound                   0\n",
       "FinBERT_Aggregated_Score         0\n",
       "FinBERT_Overall_Sentiment        0\n",
       "Bart_Summary                     0\n",
       "Domain_Positive                  0\n",
       "Domain_Negative                  0\n",
       "Domain_Uncertainty               0\n",
       "Entities                         0\n",
       "Emotion_Agg_Sum_Anger            0\n",
       "Emotion_Agg_Sum_Disgust          0\n",
       "Emotion_Agg_Sum_Fear             0\n",
       "Emotion_Agg_Sum_Negative         0\n",
       "Emotion_Agg_Sum_Sadness          0\n",
       "Emotion_Agg_Sum_Surprise         0\n",
       "Emotion_Agg_Sum_Positive         0\n",
       "Emotion_Agg_Sum_Anticipation     0\n",
       "Emotion_Agg_Sum_Joy              0\n",
       "Emotion_Agg_Sum_Trust            0\n",
       "Emotion_Agg_Mean_Anger           0\n",
       "Emotion_Agg_Mean_Disgust         0\n",
       "Emotion_Agg_Mean_Fear            0\n",
       "Emotion_Agg_Mean_Negative        0\n",
       "Emotion_Agg_Mean_Sadness         0\n",
       "Emotion_Agg_Mean_Surprise        0\n",
       "Emotion_Agg_Mean_Positive        0\n",
       "Emotion_Agg_Mean_Anticipation    0\n",
       "Emotion_Agg_Mean_Joy             0\n",
       "Emotion_Agg_Mean_Trust           0\n",
       "Emotion_Agg_Max_Anger            0\n",
       "Emotion_Agg_Max_Disgust          0\n",
       "Emotion_Agg_Max_Fear             0\n",
       "Emotion_Agg_Max_Negative         0\n",
       "Emotion_Agg_Max_Sadness          0\n",
       "Emotion_Agg_Max_Surprise         0\n",
       "Emotion_Agg_Max_Positive         0\n",
       "Emotion_Agg_Max_Anticipation     0\n",
       "Emotion_Agg_Max_Joy              0\n",
       "Emotion_Agg_Max_Trust            0\n",
       "Open                             1\n",
       "High                             1\n",
       "Low                              1\n",
       "Close                            1\n",
       "Adj Close                        1\n",
       "Volume                           1\n",
       "dtype: int64"
      ]
     },
     "execution_count": 393,
     "metadata": {},
     "output_type": "execute_result"
    }
   ],
   "source": [
    "# Check for NaN values in the final DataFrame\n",
    "merged_df.isna().sum()\n"
   ]
  },
  {
   "cell_type": "code",
   "execution_count": null,
   "metadata": {
    "colab": {
     "base_uri": "https://localhost:8080/"
    },
    "id": "R2X_9WBfUhcG",
    "outputId": "09ae7234-7070-4fe3-d1f4-5af144bd05c2"
   },
   "outputs": [
    {
     "data": {
      "text/plain": [
       "Index(['original_Date', 'original_Title', 'original_Author', 'original_Text',\n",
       "       'original_Month', 'original_clean_content_context',\n",
       "       'original_clean_content_no_stopwords', 'vader_neg', 'vader_neu',\n",
       "       'vader_pos', 'vader_compound', 'finbert_Negative', 'finbert_Neutral',\n",
       "       'finbert_Positive', 'emotions_anger', 'emotions_disgust',\n",
       "       'emotions_fear', 'emotions_negative', 'emotions_sadness',\n",
       "       'emotions_surprise', 'emotions_positive', 'emotions_anticipation',\n",
       "       'emotions_joy', 'emotions_trust', 'Date', 'Open', 'High', 'Low',\n",
       "       'Close', 'Adj Close', 'Volume'],\n",
       "      dtype='object')"
      ]
     },
     "execution_count": 102,
     "metadata": {},
     "output_type": "execute_result"
    }
   ],
   "source": [
    "merged_df.columns"
   ]
  },
  {
   "cell_type": "code",
   "execution_count": 405,
   "metadata": {
    "colab": {
     "base_uri": "https://localhost:8080/",
     "height": 516
    },
    "id": "fRTV-V1w7RIe",
    "outputId": "f883fa6f-674d-4681-ce6f-71066743f648",
    "scrolled": true
   },
   "outputs": [
    {
     "data": {
      "text/html": [
       "<div>\n",
       "<style scoped>\n",
       "    .dataframe tbody tr th:only-of-type {\n",
       "        vertical-align: middle;\n",
       "    }\n",
       "\n",
       "    .dataframe tbody tr th {\n",
       "        vertical-align: top;\n",
       "    }\n",
       "\n",
       "    .dataframe thead th {\n",
       "        text-align: right;\n",
       "    }\n",
       "</style>\n",
       "<table border=\"1\" class=\"dataframe\">\n",
       "  <thead>\n",
       "    <tr style=\"text-align: right;\">\n",
       "      <th></th>\n",
       "      <th>Date</th>\n",
       "      <th>Title</th>\n",
       "      <th>Author</th>\n",
       "      <th>Text</th>\n",
       "      <th>Month</th>\n",
       "      <th>clean_content_context</th>\n",
       "      <th>text_sentences</th>\n",
       "      <th>Vader_Negative</th>\n",
       "      <th>Vader_Neutral</th>\n",
       "      <th>Vader_Positive</th>\n",
       "      <th>...</th>\n",
       "      <th>Emotion_Agg_Max_Anticipation</th>\n",
       "      <th>Emotion_Agg_Max_Joy</th>\n",
       "      <th>Emotion_Agg_Max_Trust</th>\n",
       "      <th>Date_Only</th>\n",
       "      <th>Open</th>\n",
       "      <th>High</th>\n",
       "      <th>Low</th>\n",
       "      <th>Close</th>\n",
       "      <th>Adj Close</th>\n",
       "      <th>Volume</th>\n",
       "    </tr>\n",
       "  </thead>\n",
       "  <tbody>\n",
       "    <tr>\n",
       "      <th>1078</th>\n",
       "      <td>2024-10-14 12:00:17+00:00</td>\n",
       "      <td>Beyond Market Price: Uncovering Microsoft Corp...</td>\n",
       "      <td>GuruFocus News</td>\n",
       "      <td>In this article, we will take a look into Micr...</td>\n",
       "      <td>2024-10</td>\n",
       "      <td>in this article we will take a look into micro...</td>\n",
       "      <td>[In this article, we will take a look into Mic...</td>\n",
       "      <td>0.017</td>\n",
       "      <td>0.824</td>\n",
       "      <td>0.159</td>\n",
       "      <td>...</td>\n",
       "      <td>2.0</td>\n",
       "      <td>2.0</td>\n",
       "      <td>5.0</td>\n",
       "      <td>2024-10-14</td>\n",
       "      <td>417.769989</td>\n",
       "      <td>424.040009</td>\n",
       "      <td>417.519989</td>\n",
       "      <td>419.140015</td>\n",
       "      <td>419.140015</td>\n",
       "      <td>16653100.0</td>\n",
       "    </tr>\n",
       "    <tr>\n",
       "      <th>1079</th>\n",
       "      <td>2024-10-14 12:41:00+00:00</td>\n",
       "      <td>Martus Solutions Transforms Financial Planning...</td>\n",
       "      <td>PR Newswire</td>\n",
       "      <td>Revolutionizing Budgeting, Reporting, and Fore...</td>\n",
       "      <td>2024-10</td>\n",
       "      <td>revolutionizing budgeting reporting and foreca...</td>\n",
       "      <td>[Revolutionizing Budgeting, Reporting, and For...</td>\n",
       "      <td>0.000</td>\n",
       "      <td>0.864</td>\n",
       "      <td>0.136</td>\n",
       "      <td>...</td>\n",
       "      <td>1.0</td>\n",
       "      <td>1.0</td>\n",
       "      <td>4.0</td>\n",
       "      <td>2024-10-14</td>\n",
       "      <td>417.769989</td>\n",
       "      <td>424.040009</td>\n",
       "      <td>417.519989</td>\n",
       "      <td>419.140015</td>\n",
       "      <td>419.140015</td>\n",
       "      <td>16653100.0</td>\n",
       "    </tr>\n",
       "    <tr>\n",
       "      <th>1080</th>\n",
       "      <td>2024-10-14 13:00:31+00:00</td>\n",
       "      <td>Microsoft's Nadella Makes A Point Of Calling F...</td>\n",
       "      <td>Bibhu Pattnaik</td>\n",
       "      <td>Benzinga and Yahoo Finance LLC may earn commis...</td>\n",
       "      <td>2024-10</td>\n",
       "      <td>benzinga and yahoo finance llc may earn commis...</td>\n",
       "      <td>[Benzinga and Yahoo Finance LLC may earn commi...</td>\n",
       "      <td>0.030</td>\n",
       "      <td>0.878</td>\n",
       "      <td>0.092</td>\n",
       "      <td>...</td>\n",
       "      <td>2.0</td>\n",
       "      <td>2.0</td>\n",
       "      <td>2.0</td>\n",
       "      <td>2024-10-14</td>\n",
       "      <td>417.769989</td>\n",
       "      <td>424.040009</td>\n",
       "      <td>417.519989</td>\n",
       "      <td>419.140015</td>\n",
       "      <td>419.140015</td>\n",
       "      <td>16653100.0</td>\n",
       "    </tr>\n",
       "    <tr>\n",
       "      <th>1081</th>\n",
       "      <td>2024-10-14 14:00:00+00:00</td>\n",
       "      <td>Armanino Joins The 2024-2025 Microsoft Busines...</td>\n",
       "      <td>Business Wire</td>\n",
       "      <td>Armanino is honored for the ninth time by Micr...</td>\n",
       "      <td>2024-10</td>\n",
       "      <td>armanino is honored for the ninth time by micr...</td>\n",
       "      <td>[Armanino is honored for the ninth time by Mic...</td>\n",
       "      <td>0.007</td>\n",
       "      <td>0.854</td>\n",
       "      <td>0.138</td>\n",
       "      <td>...</td>\n",
       "      <td>3.0</td>\n",
       "      <td>2.0</td>\n",
       "      <td>2.0</td>\n",
       "      <td>2024-10-14</td>\n",
       "      <td>417.769989</td>\n",
       "      <td>424.040009</td>\n",
       "      <td>417.519989</td>\n",
       "      <td>419.140015</td>\n",
       "      <td>419.140015</td>\n",
       "      <td>16653100.0</td>\n",
       "    </tr>\n",
       "    <tr>\n",
       "      <th>1082</th>\n",
       "      <td>2024-10-14 15:45:01+00:00</td>\n",
       "      <td>Microsoft (MSFT): A Key Player Among the Most ...</td>\n",
       "      <td>Mashaid Ahmed</td>\n",
       "      <td>We recently published a list of 8 Most Profita...</td>\n",
       "      <td>2024-10</td>\n",
       "      <td>we recently published a list of most profitabl...</td>\n",
       "      <td>[We recently published a list of 8 Most Profit...</td>\n",
       "      <td>0.023</td>\n",
       "      <td>0.847</td>\n",
       "      <td>0.130</td>\n",
       "      <td>...</td>\n",
       "      <td>3.0</td>\n",
       "      <td>3.0</td>\n",
       "      <td>4.0</td>\n",
       "      <td>2024-10-14</td>\n",
       "      <td>417.769989</td>\n",
       "      <td>424.040009</td>\n",
       "      <td>417.519989</td>\n",
       "      <td>419.140015</td>\n",
       "      <td>419.140015</td>\n",
       "      <td>16653100.0</td>\n",
       "    </tr>\n",
       "  </tbody>\n",
       "</table>\n",
       "<p>5 rows × 55 columns</p>\n",
       "</div>"
      ],
      "text/plain": [
       "                          Date  \\\n",
       "1078 2024-10-14 12:00:17+00:00   \n",
       "1079 2024-10-14 12:41:00+00:00   \n",
       "1080 2024-10-14 13:00:31+00:00   \n",
       "1081 2024-10-14 14:00:00+00:00   \n",
       "1082 2024-10-14 15:45:01+00:00   \n",
       "\n",
       "                                                  Title             Author  \\\n",
       "1078  Beyond Market Price: Uncovering Microsoft Corp...    GuruFocus News    \n",
       "1079  Martus Solutions Transforms Financial Planning...       PR Newswire    \n",
       "1080  Microsoft's Nadella Makes A Point Of Calling F...    Bibhu Pattnaik    \n",
       "1081  Armanino Joins The 2024-2025 Microsoft Busines...     Business Wire    \n",
       "1082  Microsoft (MSFT): A Key Player Among the Most ...     Mashaid Ahmed    \n",
       "\n",
       "                                                   Text    Month  \\\n",
       "1078  In this article, we will take a look into Micr...  2024-10   \n",
       "1079  Revolutionizing Budgeting, Reporting, and Fore...  2024-10   \n",
       "1080  Benzinga and Yahoo Finance LLC may earn commis...  2024-10   \n",
       "1081  Armanino is honored for the ninth time by Micr...  2024-10   \n",
       "1082  We recently published a list of 8 Most Profita...  2024-10   \n",
       "\n",
       "                                  clean_content_context  \\\n",
       "1078  in this article we will take a look into micro...   \n",
       "1079  revolutionizing budgeting reporting and foreca...   \n",
       "1080  benzinga and yahoo finance llc may earn commis...   \n",
       "1081  armanino is honored for the ninth time by micr...   \n",
       "1082  we recently published a list of most profitabl...   \n",
       "\n",
       "                                         text_sentences  Vader_Negative  \\\n",
       "1078  [In this article, we will take a look into Mic...           0.017   \n",
       "1079  [Revolutionizing Budgeting, Reporting, and For...           0.000   \n",
       "1080  [Benzinga and Yahoo Finance LLC may earn commi...           0.030   \n",
       "1081  [Armanino is honored for the ninth time by Mic...           0.007   \n",
       "1082  [We recently published a list of 8 Most Profit...           0.023   \n",
       "\n",
       "      Vader_Neutral  Vader_Positive  ...  Emotion_Agg_Max_Anticipation  \\\n",
       "1078          0.824           0.159  ...                           2.0   \n",
       "1079          0.864           0.136  ...                           1.0   \n",
       "1080          0.878           0.092  ...                           2.0   \n",
       "1081          0.854           0.138  ...                           3.0   \n",
       "1082          0.847           0.130  ...                           3.0   \n",
       "\n",
       "      Emotion_Agg_Max_Joy Emotion_Agg_Max_Trust  Date_Only        Open  \\\n",
       "1078                  2.0                   5.0 2024-10-14  417.769989   \n",
       "1079                  1.0                   4.0 2024-10-14  417.769989   \n",
       "1080                  2.0                   2.0 2024-10-14  417.769989   \n",
       "1081                  2.0                   2.0 2024-10-14  417.769989   \n",
       "1082                  3.0                   4.0 2024-10-14  417.769989   \n",
       "\n",
       "            High         Low       Close   Adj Close      Volume  \n",
       "1078  424.040009  417.519989  419.140015  419.140015  16653100.0  \n",
       "1079  424.040009  417.519989  419.140015  419.140015  16653100.0  \n",
       "1080  424.040009  417.519989  419.140015  419.140015  16653100.0  \n",
       "1081  424.040009  417.519989  419.140015  419.140015  16653100.0  \n",
       "1082  424.040009  417.519989  419.140015  419.140015  16653100.0  \n",
       "\n",
       "[5 rows x 55 columns]"
      ]
     },
     "execution_count": 405,
     "metadata": {},
     "output_type": "execute_result"
    }
   ],
   "source": [
    "merged_df.fillna(method='ffill', inplace=True)\n",
    "merged_df.tail()"
   ]
  },
  {
   "cell_type": "code",
   "execution_count": 412,
   "metadata": {
    "colab": {
     "base_uri": "https://localhost:8080/",
     "height": 551
    },
    "id": "1tN0VYS48pyD",
    "outputId": "73e92a79-cf67-4fa0-f55f-5e6b8635009d"
   },
   "outputs": [
    {
     "data": {
      "text/plain": [
       "Date                                                     2024-01-01 12:00:27+00:00\n",
       "Title                            Investors in Microsoft (NASDAQ:MSFT) have seen...\n",
       "Author                             editorial-team@simplywallst.com (Simply Wall...\n",
       "Text                             The most you can lose on any stock (assuming y...\n",
       "Month                                                                      2024-01\n",
       "clean_content_context            the most you can lose on any stock assuming yo...\n",
       "text_sentences                   [The most you can lose on any stock (assuming ...\n",
       "Vader_Negative                                                               0.025\n",
       "Vader_Neutral                                                                0.759\n",
       "Vader_Positive                                                               0.215\n",
       "Vader_Compound                                                              0.9993\n",
       "FinBERT_Aggregated_Score                                                  0.335452\n",
       "FinBERT_Overall_Sentiment                                                 Positive\n",
       "Bart_Summary                     The price of Microsoft Corporation (NASDAQ:MSF...\n",
       "Domain_Positive                                                                 12\n",
       "Domain_Negative                                                                  4\n",
       "Domain_Uncertainty                                                               8\n",
       "Entities                         [(100, %), (100, %), (Microsoft, Corporation),...\n",
       "Emotion_Agg_Sum_Anger                                                          2.0\n",
       "Emotion_Agg_Sum_Disgust                                                        2.0\n",
       "Emotion_Agg_Sum_Fear                                                           4.0\n",
       "Emotion_Agg_Sum_Negative                                                       6.0\n",
       "Emotion_Agg_Sum_Sadness                                                        2.0\n",
       "Emotion_Agg_Sum_Surprise                                                       3.0\n",
       "Emotion_Agg_Sum_Positive                                                      48.0\n",
       "Emotion_Agg_Sum_Anticipation                                                  29.0\n",
       "Emotion_Agg_Sum_Joy                                                           25.0\n",
       "Emotion_Agg_Sum_Trust                                                         34.0\n",
       "Emotion_Agg_Mean_Anger                                                    0.066667\n",
       "Emotion_Agg_Mean_Disgust                                                  0.066667\n",
       "Emotion_Agg_Mean_Fear                                                     0.133333\n",
       "Emotion_Agg_Mean_Negative                                                      0.2\n",
       "Emotion_Agg_Mean_Sadness                                                  0.066667\n",
       "Emotion_Agg_Mean_Surprise                                                      0.1\n",
       "Emotion_Agg_Mean_Positive                                                      1.6\n",
       "Emotion_Agg_Mean_Anticipation                                             0.966667\n",
       "Emotion_Agg_Mean_Joy                                                      0.833333\n",
       "Emotion_Agg_Mean_Trust                                                    1.133333\n",
       "Emotion_Agg_Max_Anger                                                          2.0\n",
       "Emotion_Agg_Max_Disgust                                                        1.0\n",
       "Emotion_Agg_Max_Fear                                                           1.0\n",
       "Emotion_Agg_Max_Negative                                                       1.0\n",
       "Emotion_Agg_Max_Sadness                                                        1.0\n",
       "Emotion_Agg_Max_Surprise                                                       2.0\n",
       "Emotion_Agg_Max_Positive                                                       5.0\n",
       "Emotion_Agg_Max_Anticipation                                                   3.0\n",
       "Emotion_Agg_Max_Joy                                                            3.0\n",
       "Emotion_Agg_Max_Trust                                                          3.0\n",
       "Date_Only                                                      2024-01-01 00:00:00\n",
       "Open                                                                         376.0\n",
       "High                                                                    377.160004\n",
       "Low                                                                     373.480011\n",
       "Close                                                                   376.040009\n",
       "Adj Close                                                               373.995972\n",
       "Volume                                                                  18723000.0\n",
       "Name: 0, dtype: object"
      ]
     },
     "execution_count": 412,
     "metadata": {},
     "output_type": "execute_result"
    }
   ],
   "source": [
    "# Get the Date_Only for the first row of merged_df\n",
    "first_row_date = merged_df['Date_Only'].iloc[0]\n",
    "\n",
    "# Find the closest previous date in msft_data\n",
    "previous_date = msft_data[msft_data['Date_Only'] < first_row_date]['Date_Only'].max()\n",
    "\n",
    "# If a previous date exists, get the corresponding row from msft_data\n",
    "if pd.notna(previous_date):\n",
    "    previous_row = msft_data[msft_data['Date_Only'] == previous_date]\n",
    "    \n",
    "    # Assign the values from the previous_row to the merged_df first row\n",
    "    for column in previous_row.columns:\n",
    "        if column != 'Date_Only':  # Skip the Date_Only column\n",
    "            merged_df.loc[0, column] = previous_row.iloc[0][column]  # Corrected assignment\n",
    "\n",
    "# Display the updated first row to verify the changes\n",
    "merged_df.iloc[0]"
   ]
  },
  {
   "cell_type": "code",
   "execution_count": 460,
   "metadata": {
    "colab": {
     "base_uri": "https://localhost:8080/"
    },
    "id": "ud9WE4TQw09U",
    "outputId": "2685da1d-6d7a-4c38-be44-60bdd6eddc42"
   },
   "outputs": [
    {
     "name": "stdout",
     "output_type": "stream",
     "text": [
      "<class 'pandas.core.frame.DataFrame'>\n",
      "RangeIndex: 1083 entries, 0 to 1082\n",
      "Data columns (total 55 columns):\n",
      " #   Column                         Non-Null Count  Dtype              \n",
      "---  ------                         --------------  -----              \n",
      " 0   Date                           1083 non-null   datetime64[ns, UTC]\n",
      " 1   Title                          1083 non-null   object             \n",
      " 2   Author                         1083 non-null   object             \n",
      " 3   Text                           1083 non-null   object             \n",
      " 4   Month                          1083 non-null   period[M]          \n",
      " 5   clean_content_context          1083 non-null   object             \n",
      " 6   text_sentences                 1083 non-null   object             \n",
      " 7   Vader_Negative                 1083 non-null   float64            \n",
      " 8   Vader_Neutral                  1083 non-null   float64            \n",
      " 9   Vader_Positive                 1083 non-null   float64            \n",
      " 10  Vader_Compound                 1083 non-null   float64            \n",
      " 11  FinBERT_Aggregated_Score       1083 non-null   float64            \n",
      " 12  FinBERT_Overall_Sentiment      1083 non-null   object             \n",
      " 13  Bart_Summary                   1083 non-null   object             \n",
      " 14  Domain_Positive                1083 non-null   int64              \n",
      " 15  Domain_Negative                1083 non-null   int64              \n",
      " 16  Domain_Uncertainty             1083 non-null   int64              \n",
      " 17  Entities                       1083 non-null   object             \n",
      " 18  Emotion_Agg_Sum_Anger          1083 non-null   float64            \n",
      " 19  Emotion_Agg_Sum_Disgust        1083 non-null   float64            \n",
      " 20  Emotion_Agg_Sum_Fear           1083 non-null   float64            \n",
      " 21  Emotion_Agg_Sum_Negative       1083 non-null   float64            \n",
      " 22  Emotion_Agg_Sum_Sadness        1083 non-null   float64            \n",
      " 23  Emotion_Agg_Sum_Surprise       1083 non-null   float64            \n",
      " 24  Emotion_Agg_Sum_Positive       1083 non-null   float64            \n",
      " 25  Emotion_Agg_Sum_Anticipation   1083 non-null   float64            \n",
      " 26  Emotion_Agg_Sum_Joy            1083 non-null   float64            \n",
      " 27  Emotion_Agg_Sum_Trust          1083 non-null   float64            \n",
      " 28  Emotion_Agg_Mean_Anger         1083 non-null   float64            \n",
      " 29  Emotion_Agg_Mean_Disgust       1083 non-null   float64            \n",
      " 30  Emotion_Agg_Mean_Fear          1083 non-null   float64            \n",
      " 31  Emotion_Agg_Mean_Negative      1083 non-null   float64            \n",
      " 32  Emotion_Agg_Mean_Sadness       1083 non-null   float64            \n",
      " 33  Emotion_Agg_Mean_Surprise      1083 non-null   float64            \n",
      " 34  Emotion_Agg_Mean_Positive      1083 non-null   float64            \n",
      " 35  Emotion_Agg_Mean_Anticipation  1083 non-null   float64            \n",
      " 36  Emotion_Agg_Mean_Joy           1083 non-null   float64            \n",
      " 37  Emotion_Agg_Mean_Trust         1083 non-null   float64            \n",
      " 38  Emotion_Agg_Max_Anger          1083 non-null   float64            \n",
      " 39  Emotion_Agg_Max_Disgust        1083 non-null   float64            \n",
      " 40  Emotion_Agg_Max_Fear           1083 non-null   float64            \n",
      " 41  Emotion_Agg_Max_Negative       1083 non-null   float64            \n",
      " 42  Emotion_Agg_Max_Sadness        1083 non-null   float64            \n",
      " 43  Emotion_Agg_Max_Surprise       1083 non-null   float64            \n",
      " 44  Emotion_Agg_Max_Positive       1083 non-null   float64            \n",
      " 45  Emotion_Agg_Max_Anticipation   1083 non-null   float64            \n",
      " 46  Emotion_Agg_Max_Joy            1083 non-null   float64            \n",
      " 47  Emotion_Agg_Max_Trust          1083 non-null   float64            \n",
      " 48  Date_Only                      1083 non-null   datetime64[ns]     \n",
      " 49  Open                           1083 non-null   float64            \n",
      " 50  High                           1083 non-null   float64            \n",
      " 51  Low                            1083 non-null   float64            \n",
      " 52  Close                          1083 non-null   float64            \n",
      " 53  Adj Close                      1083 non-null   float64            \n",
      " 54  Volume                         1083 non-null   float64            \n",
      "dtypes: datetime64[ns, UTC](1), datetime64[ns](1), float64(41), int64(3), object(8), period[M](1)\n",
      "memory usage: 465.5+ KB\n"
     ]
    }
   ],
   "source": [
    "merged_df.info()"
   ]
  },
  {
   "cell_type": "code",
   "execution_count": 462,
   "metadata": {},
   "outputs": [
    {
     "name": "stdout",
     "output_type": "stream",
     "text": [
      "['Title', 'Author', 'Text', 'clean_content_context', 'text_sentences', 'FinBERT_Overall_Sentiment', 'Bart_Summary', 'Entities']\n"
     ]
    }
   ],
   "source": [
    "# Get the names of the object columns\n",
    "object_column_names = final_df.select_dtypes(include=['object']).columns.tolist()\n",
    "\n",
    "# Display the names of the object columns\n",
    "print(object_column_names)\n"
   ]
  },
  {
   "cell_type": "code",
   "execution_count": 466,
   "metadata": {},
   "outputs": [],
   "source": [
    "# Ensure specific columns are of type str\n",
    "for column in ['Title', 'Author', 'Text', 'clean_content_context', 'FinBERT_Overall_Sentiment', 'Bart_Summary']:\n",
    "    merged_df[column] = merged_df[column].astype(str)\n",
    "\n",
    "# Convert 'text_sentences' and 'Entities' to lists of strings\n",
    "merged_df['text_sentences'] = merged_df['text_sentences'].apply(lambda x: [str(sentence) for sentence in x])\n",
    "merged_df['Entities'] = merged_df['Entities'].apply(lambda x: [str(entity) for entity in x])"
   ]
  },
  {
   "cell_type": "code",
   "execution_count": 467,
   "metadata": {},
   "outputs": [],
   "source": [
    "merged_df.to_csv('./merged_df.csv')"
   ]
  },
  {
   "cell_type": "markdown",
   "metadata": {},
   "source": [
    "# data visualization"
   ]
  },
  {
   "cell_type": "code",
   "execution_count": 468,
   "metadata": {},
   "outputs": [],
   "source": [
    "article = merged_df.iloc[0]"
   ]
  },
  {
   "cell_type": "code",
   "execution_count": 499,
   "metadata": {},
   "outputs": [
    {
     "name": "stdout",
     "output_type": "stream",
     "text": [
      "Article Title:\n",
      "Investors in Microsoft (NASDAQ:MSFT) have seen strong returns of 288% over the past five years\n",
      "\n",
      "Date Published (Time in UTC): \n",
      "2024-01-01 12:00:27+00:00\n"
     ]
    }
   ],
   "source": [
    "print(f'Article Title:\\n{article[\"Title\"]}\\n')\n",
    "print(f'Date Published (Time in UTC): \\n{article[\"Date\"]}')"
   ]
  },
  {
   "cell_type": "code",
   "execution_count": 489,
   "metadata": {
    "id": "EXlHP1T7_UAv"
   },
   "outputs": [
    {
     "name": "stdout",
     "output_type": "stream",
     "text": [
      "Bart Summary:\n",
      "\n",
      "The price of Microsoft Corporation (NASDAQ:MSFT) stock is up an impressive 268% over the last five years. The share price is up 20% in about a quarter. This move may well have been assisted by the reasonably buoyant market (up 12% in 90 days) So let's assess the underlying fundamentals and see if they've moved in lock-step with shareholder If you want to see insiders buying companies. alongside management, then you might just love this free list of companies. (Hint: insiders have been buying them). Please note, the market returns quoted in this article reflect the market weighted average returns of stocks that currently trade on American exchanges.\n"
     ]
    }
   ],
   "source": [
    "# Print the Bart summary\n",
    "print(\"Bart Summary:\\n\")\n",
    "print(article['Bart_Summary'])"
   ]
  },
  {
   "cell_type": "code",
   "execution_count": 492,
   "metadata": {
    "scrolled": true
   },
   "outputs": [],
   "source": [
    "import matplotlib.pyplot as plt\n",
    "from collections import Counter\n",
    "\n",
    "# Extract entities from the first article\n",
    "entities_list = article['Entities']\n",
    "\n",
    "# Count occurrences of each entity\n",
    "article_entities_dict = Counter(entities_list)"
   ]
  },
  {
   "cell_type": "code",
   "execution_count": 493,
   "metadata": {},
   "outputs": [
    {
     "data": {
      "image/png": "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",
      "text/plain": [
       "<Figure size 1200x600 with 1 Axes>"
      ]
     },
     "metadata": {},
     "output_type": "display_data"
    }
   ],
   "source": [
    "import matplotlib.pyplot as plt\n",
    "import numpy as np\n",
    "\n",
    "# Create a bar chart for entity occurrences\n",
    "plt.figure(figsize=(12, 6))\n",
    "\n",
    "# Get a twilight color map and normalize the values for color assignment\n",
    "cmap = plt.get_cmap('twilight')\n",
    "colors = cmap(np.linspace(0, 1, len(article_entities_dict)))\n",
    "\n",
    "plt.bar(article_entities_dict.keys(), article_entities_dict.values(), color=colors)\n",
    "plt.title('Entity Occurrences in Article')\n",
    "plt.xlabel('Entities')\n",
    "plt.ylabel('Number of Occurrences')\n",
    "plt.xticks(rotation=45, ha='right')  # Rotate x-axis labels for better readability\n",
    "plt.tight_layout()  # Adjust layout to fit everything nicely\n",
    "plt.show()"
   ]
  },
  {
   "cell_type": "code",
   "execution_count": 487,
   "metadata": {},
   "outputs": [
    {
     "data": {
      "text/plain": [
       "Index(['Date', 'Title', 'Author', 'Text', 'Month', 'clean_content_context',\n",
       "       'text_sentences', 'Vader_Negative', 'Vader_Neutral', 'Vader_Positive',\n",
       "       'Vader_Compound', 'FinBERT_Aggregated_Score',\n",
       "       'FinBERT_Overall_Sentiment', 'Bart_Summary', 'Domain_Positive',\n",
       "       'Domain_Negative', 'Domain_Uncertainty', 'Entities',\n",
       "       'Emotion_Agg_Sum_Anger', 'Emotion_Agg_Sum_Disgust',\n",
       "       'Emotion_Agg_Sum_Fear', 'Emotion_Agg_Sum_Negative',\n",
       "       'Emotion_Agg_Sum_Sadness', 'Emotion_Agg_Sum_Surprise',\n",
       "       'Emotion_Agg_Sum_Positive', 'Emotion_Agg_Sum_Anticipation',\n",
       "       'Emotion_Agg_Sum_Joy', 'Emotion_Agg_Sum_Trust',\n",
       "       'Emotion_Agg_Mean_Anger', 'Emotion_Agg_Mean_Disgust',\n",
       "       'Emotion_Agg_Mean_Fear', 'Emotion_Agg_Mean_Negative',\n",
       "       'Emotion_Agg_Mean_Sadness', 'Emotion_Agg_Mean_Surprise',\n",
       "       'Emotion_Agg_Mean_Positive', 'Emotion_Agg_Mean_Anticipation',\n",
       "       'Emotion_Agg_Mean_Joy', 'Emotion_Agg_Mean_Trust',\n",
       "       'Emotion_Agg_Max_Anger', 'Emotion_Agg_Max_Disgust',\n",
       "       'Emotion_Agg_Max_Fear', 'Emotion_Agg_Max_Negative',\n",
       "       'Emotion_Agg_Max_Sadness', 'Emotion_Agg_Max_Surprise',\n",
       "       'Emotion_Agg_Max_Positive', 'Emotion_Agg_Max_Anticipation',\n",
       "       'Emotion_Agg_Max_Joy', 'Emotion_Agg_Max_Trust', 'Date_Only', 'Open',\n",
       "       'High', 'Low', 'Close', 'Adj Close', 'Volume'],\n",
       "      dtype='object')"
      ]
     },
     "execution_count": 487,
     "metadata": {},
     "output_type": "execute_result"
    }
   ],
   "source": [
    "merged_df.columns"
   ]
  },
  {
   "cell_type": "code",
   "execution_count": 501,
   "metadata": {},
   "outputs": [
    {
     "data": {
      "text/plain": [
       "np.float64(2.0)"
      ]
     },
     "execution_count": 501,
     "metadata": {},
     "output_type": "execute_result"
    }
   ],
   "source": [
    "article['Emotion_Agg_Sum_Anger']"
   ]
  },
  {
   "cell_type": "code",
   "execution_count": 522,
   "metadata": {},
   "outputs": [
    {
     "data": {
      "image/png": "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",
      "text/plain": [
       "<Figure size 1000x600 with 1 Axes>"
      ]
     },
     "metadata": {},
     "output_type": "display_data"
    }
   ],
   "source": [
    "def plot_emotion_aggregates(df, article, agg_method):\n",
    "    # Filter columns based on the aggregation method\n",
    "    emotion_cols = [col for col in df.columns if f'Emotion_Agg_{agg_method}_' in col]\n",
    "    \n",
    "    # Get the first article's data\n",
    "    emotion_data = article[emotion_cols]\n",
    "    \n",
    "    # Plotting\n",
    "    plt.figure(figsize=(10, 6))\n",
    "\n",
    "    # Get a twilight color map and normalize the values for color assignment\n",
    "    cmap = plt.get_cmap('twilight')\n",
    "    colors = cmap(np.linspace(0, 1, len(article_entities_dict)))\n",
    "    emotion_data.plot(kind='bar', color=colors)  # Use twilight colormap\n",
    "    plt.title(f'{agg_method.capitalize()} Emotion Aggregates for Article')\n",
    "    plt.xlabel('Emotions')\n",
    "    plt.ylabel('Values')\n",
    "    plt.xticks(rotation=45)\n",
    "    plt.tight_layout()\n",
    "    plt.show()\n",
    "\n",
    "plot_emotion_aggregates(merged_df, article, 'Sum')"
   ]
  },
  {
   "cell_type": "code",
   "execution_count": 525,
   "metadata": {},
   "outputs": [
    {
     "data": {
      "image/png": "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",
      "text/plain": [
       "<Figure size 1000x600 with 1 Axes>"
      ]
     },
     "metadata": {},
     "output_type": "display_data"
    }
   ],
   "source": [
    "plot_emotion_aggregates(merged_df, article, 'Mean')"
   ]
  },
  {
   "cell_type": "code",
   "execution_count": 511,
   "metadata": {},
   "outputs": [
    {
     "data": {
      "image/png": "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",
      "text/plain": [
       "<Figure size 1000x600 with 1 Axes>"
      ]
     },
     "metadata": {},
     "output_type": "display_data"
    }
   ],
   "source": [
    "\n",
    "plot_emotion_aggregates(merged_df, 'Max')"
   ]
  },
  {
   "cell_type": "code",
   "execution_count": 515,
   "metadata": {},
   "outputs": [
    {
     "data": {
      "image/png": "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",
      "text/plain": [
       "<Figure size 1800x600 with 2 Axes>"
      ]
     },
     "metadata": {},
     "output_type": "display_data"
    }
   ],
   "source": [
    "import matplotlib.pyplot as plt\n",
    "\n",
    "def plot_sentiment_aggregates(df):\n",
    "    # Define sentiment categories and their respective columns\n",
    "    sentiment_categories = {\n",
    "        'Vader': ['Vader_Negative', 'Vader_Neutral', 'Vader_Positive', 'Vader_Compound'],\n",
    "        'Domain': ['Domain_Positive', 'Domain_Negative', 'Domain_Uncertainty']\n",
    "    }\n",
    "    \n",
    "    # Get the first article's data\n",
    "    sentiment_data = {category: df.iloc[0][cols] for category, cols in sentiment_categories.items()}\n",
    "\n",
    "    # Plotting\n",
    "    fig, axes = plt.subplots(nrows=1, ncols=len(sentiment_categories), figsize=(18, 6))\n",
    "    \n",
    "    for ax, (category, data) in zip(axes, sentiment_data.items()):\n",
    "        data.plot(kind='bar', ax=ax, color=plt.cm.twilight.colors)\n",
    "        ax.set_title(f'{category} Sentiment Analysis')\n",
    "        ax.set_xlabel('Metrics')\n",
    "        ax.set_ylabel('Values')\n",
    "        ax.set_xticklabels(data.index, rotation=45)\n",
    "    \n",
    "    plt.tight_layout()\n",
    "    plt.show()\n",
    "\n",
    "# Call the function to plot sentiment aggregates\n",
    "plot_sentiment_aggregates(merged_df)\n"
   ]
  },
  {
   "cell_type": "code",
   "execution_count": null,
   "metadata": {},
   "outputs": [],
   "source": []
  }
 ],
 "metadata": {
  "colab": {
   "provenance": []
  },
  "kernelspec": {
   "display_name": "Python 3 (ipykernel)",
   "language": "python",
   "name": "python3"
  },
  "language_info": {
   "codemirror_mode": {
    "name": "ipython",
    "version": 3
   },
   "file_extension": ".py",
   "mimetype": "text/x-python",
   "name": "python",
   "nbconvert_exporter": "python",
   "pygments_lexer": "ipython3",
   "version": "3.11.9"
=======
   "metadata": {},
   "outputs": [],
   "source": []
  }
 ],
 "metadata": {
  "colab": {
   "provenance": []
  },
  "kernelspec": {
   "display_name": "Python 3 (ipykernel)",
   "language": "python",
   "name": "python3"
  },
  "language_info": {
   "codemirror_mode": {
    "name": "ipython",
    "version": 3
   },
   "file_extension": ".py",
   "mimetype": "text/x-python",
   "name": "python",
   "nbconvert_exporter": "python",
   "pygments_lexer": "ipython3",
   "version": "3.11.9"
  },
  "widgets": {
   "application/vnd.jupyter.widget-state+json": {
    "040072bb05cb45718263349c6e32553c": {
     "model_module": "@jupyter-widgets/controls",
     "model_module_version": "1.5.0",
     "model_name": "DescriptionStyleModel",
     "state": {
      "_model_module": "@jupyter-widgets/controls",
      "_model_module_version": "1.5.0",
      "_model_name": "DescriptionStyleModel",
      "_view_count": null,
      "_view_module": "@jupyter-widgets/base",
      "_view_module_version": "1.2.0",
      "_view_name": "StyleView",
      "description_width": ""
     }
    },
    "0a273dad4d9f488f9d27af8635d60373": {
     "model_module": "@jupyter-widgets/controls",
     "model_module_version": "1.5.0",
     "model_name": "DescriptionStyleModel",
     "state": {
      "_model_module": "@jupyter-widgets/controls",
      "_model_module_version": "1.5.0",
      "_model_name": "DescriptionStyleModel",
      "_view_count": null,
      "_view_module": "@jupyter-widgets/base",
      "_view_module_version": "1.2.0",
      "_view_name": "StyleView",
      "description_width": ""
     }
    },
    "1d1feda31e0b48f0bab76154119288f4": {
     "model_module": "@jupyter-widgets/controls",
     "model_module_version": "1.5.0",
     "model_name": "DescriptionStyleModel",
     "state": {
      "_model_module": "@jupyter-widgets/controls",
      "_model_module_version": "1.5.0",
      "_model_name": "DescriptionStyleModel",
      "_view_count": null,
      "_view_module": "@jupyter-widgets/base",
      "_view_module_version": "1.2.0",
      "_view_name": "StyleView",
      "description_width": ""
     }
    },
    "2a1c131c0b674746875442ca39ed7b28": {
     "model_module": "@jupyter-widgets/base",
     "model_module_version": "1.2.0",
     "model_name": "LayoutModel",
     "state": {
      "_model_module": "@jupyter-widgets/base",
      "_model_module_version": "1.2.0",
      "_model_name": "LayoutModel",
      "_view_count": null,
      "_view_module": "@jupyter-widgets/base",
      "_view_module_version": "1.2.0",
      "_view_name": "LayoutView",
      "align_content": null,
      "align_items": null,
      "align_self": null,
      "border": null,
      "bottom": null,
      "display": null,
      "flex": null,
      "flex_flow": null,
      "grid_area": null,
      "grid_auto_columns": null,
      "grid_auto_flow": null,
      "grid_auto_rows": null,
      "grid_column": null,
      "grid_gap": null,
      "grid_row": null,
      "grid_template_areas": null,
      "grid_template_columns": null,
      "grid_template_rows": null,
      "height": null,
      "justify_content": null,
      "justify_items": null,
      "left": null,
      "margin": null,
      "max_height": null,
      "max_width": null,
      "min_height": null,
      "min_width": null,
      "object_fit": null,
      "object_position": null,
      "order": null,
      "overflow": null,
      "overflow_x": null,
      "overflow_y": null,
      "padding": null,
      "right": null,
      "top": null,
      "visibility": null,
      "width": null
     }
    },
    "2bc911b864914c5287fc700d1ce16730": {
     "model_module": "@jupyter-widgets/controls",
     "model_module_version": "1.5.0",
     "model_name": "DescriptionStyleModel",
     "state": {
      "_model_module": "@jupyter-widgets/controls",
      "_model_module_version": "1.5.0",
      "_model_name": "DescriptionStyleModel",
      "_view_count": null,
      "_view_module": "@jupyter-widgets/base",
      "_view_module_version": "1.2.0",
      "_view_name": "StyleView",
      "description_width": ""
     }
    },
    "2d1fb831746c42d7854c5a245ee28144": {
     "model_module": "@jupyter-widgets/controls",
     "model_module_version": "1.5.0",
     "model_name": "HBoxModel",
     "state": {
      "_dom_classes": [],
      "_model_module": "@jupyter-widgets/controls",
      "_model_module_version": "1.5.0",
      "_model_name": "HBoxModel",
      "_view_count": null,
      "_view_module": "@jupyter-widgets/controls",
      "_view_module_version": "1.5.0",
      "_view_name": "HBoxView",
      "box_style": "",
      "children": [
       "IPY_MODEL_36f37d4f79bf4e28b6af800d5c9903cf",
       "IPY_MODEL_e286e84aac3d4c4cbeb99b45df0dee43",
       "IPY_MODEL_4b5196a128bd4b92a823658cbf77df2b"
      ],
      "layout": "IPY_MODEL_a9dc4d9a4d424da2855ca1e6ad1f8047"
     }
    },
    "36f37d4f79bf4e28b6af800d5c9903cf": {
     "model_module": "@jupyter-widgets/controls",
     "model_module_version": "1.5.0",
     "model_name": "HTMLModel",
     "state": {
      "_dom_classes": [],
      "_model_module": "@jupyter-widgets/controls",
      "_model_module_version": "1.5.0",
      "_model_name": "HTMLModel",
      "_view_count": null,
      "_view_module": "@jupyter-widgets/controls",
      "_view_module_version": "1.5.0",
      "_view_name": "HTMLView",
      "description": "",
      "description_tooltip": null,
      "layout": "IPY_MODEL_ace3e49d15104298847646d92c62812b",
      "placeholder": "​",
      "style": "IPY_MODEL_6d380ebc441c4ea0bdbb84f215304c9e",
      "value": "config.json: 100%"
     }
    },
    "42d269c027b144b1bd3d0687c21e1b27": {
     "model_module": "@jupyter-widgets/base",
     "model_module_version": "1.2.0",
     "model_name": "LayoutModel",
     "state": {
      "_model_module": "@jupyter-widgets/base",
      "_model_module_version": "1.2.0",
      "_model_name": "LayoutModel",
      "_view_count": null,
      "_view_module": "@jupyter-widgets/base",
      "_view_module_version": "1.2.0",
      "_view_name": "LayoutView",
      "align_content": null,
      "align_items": null,
      "align_self": null,
      "border": null,
      "bottom": null,
      "display": null,
      "flex": null,
      "flex_flow": null,
      "grid_area": null,
      "grid_auto_columns": null,
      "grid_auto_flow": null,
      "grid_auto_rows": null,
      "grid_column": null,
      "grid_gap": null,
      "grid_row": null,
      "grid_template_areas": null,
      "grid_template_columns": null,
      "grid_template_rows": null,
      "height": null,
      "justify_content": null,
      "justify_items": null,
      "left": null,
      "margin": null,
      "max_height": null,
      "max_width": null,
      "min_height": null,
      "min_width": null,
      "object_fit": null,
      "object_position": null,
      "order": null,
      "overflow": null,
      "overflow_x": null,
      "overflow_y": null,
      "padding": null,
      "right": null,
      "top": null,
      "visibility": null,
      "width": null
     }
    },
    "4b5196a128bd4b92a823658cbf77df2b": {
     "model_module": "@jupyter-widgets/controls",
     "model_module_version": "1.5.0",
     "model_name": "HTMLModel",
     "state": {
      "_dom_classes": [],
      "_model_module": "@jupyter-widgets/controls",
      "_model_module_version": "1.5.0",
      "_model_name": "HTMLModel",
      "_view_count": null,
      "_view_module": "@jupyter-widgets/controls",
      "_view_module_version": "1.5.0",
      "_view_name": "HTMLView",
      "description": "",
      "description_tooltip": null,
      "layout": "IPY_MODEL_9ef661d3874f4301800f26e9475f5306",
      "placeholder": "​",
      "style": "IPY_MODEL_0a273dad4d9f488f9d27af8635d60373",
      "value": " 533/533 [00:00&lt;00:00, 7.12kB/s]"
     }
    },
    "5086cb9dd7c24d3789ac77fc1156fe1b": {
     "model_module": "@jupyter-widgets/controls",
     "model_module_version": "1.5.0",
     "model_name": "HBoxModel",
     "state": {
      "_dom_classes": [],
      "_model_module": "@jupyter-widgets/controls",
      "_model_module_version": "1.5.0",
      "_model_name": "HBoxModel",
      "_view_count": null,
      "_view_module": "@jupyter-widgets/controls",
      "_view_module_version": "1.5.0",
      "_view_name": "HBoxView",
      "box_style": "",
      "children": [
       "IPY_MODEL_dd3ec711065b484ba26388808b5f3957",
       "IPY_MODEL_ef54f49ff4b34da899e48aa874661b29",
       "IPY_MODEL_70347210d13b4993a7bb067d5a2e6274"
      ],
      "layout": "IPY_MODEL_6abc1e5f8e5c43859db6696687cb853e"
     }
    },
    "5245a52b848749aea4001aaa7ed0c7aa": {
     "model_module": "@jupyter-widgets/base",
     "model_module_version": "1.2.0",
     "model_name": "LayoutModel",
     "state": {
      "_model_module": "@jupyter-widgets/base",
      "_model_module_version": "1.2.0",
      "_model_name": "LayoutModel",
      "_view_count": null,
      "_view_module": "@jupyter-widgets/base",
      "_view_module_version": "1.2.0",
      "_view_name": "LayoutView",
      "align_content": null,
      "align_items": null,
      "align_self": null,
      "border": null,
      "bottom": null,
      "display": null,
      "flex": null,
      "flex_flow": null,
      "grid_area": null,
      "grid_auto_columns": null,
      "grid_auto_flow": null,
      "grid_auto_rows": null,
      "grid_column": null,
      "grid_gap": null,
      "grid_row": null,
      "grid_template_areas": null,
      "grid_template_columns": null,
      "grid_template_rows": null,
      "height": null,
      "justify_content": null,
      "justify_items": null,
      "left": null,
      "margin": null,
      "max_height": null,
      "max_width": null,
      "min_height": null,
      "min_width": null,
      "object_fit": null,
      "object_position": null,
      "order": null,
      "overflow": null,
      "overflow_x": null,
      "overflow_y": null,
      "padding": null,
      "right": null,
      "top": null,
      "visibility": null,
      "width": null
     }
    },
    "5faa27c416344c389e1e7e189ee3c334": {
     "model_module": "@jupyter-widgets/controls",
     "model_module_version": "1.5.0",
     "model_name": "HBoxModel",
     "state": {
      "_dom_classes": [],
      "_model_module": "@jupyter-widgets/controls",
      "_model_module_version": "1.5.0",
      "_model_name": "HBoxModel",
      "_view_count": null,
      "_view_module": "@jupyter-widgets/controls",
      "_view_module_version": "1.5.0",
      "_view_name": "HBoxView",
      "box_style": "",
      "children": [
       "IPY_MODEL_daf289c5e6d346d1a494400b37408e8c",
       "IPY_MODEL_b67c432f757c4b9f89221ae74ba1e48d",
       "IPY_MODEL_cfc76ce474dc4b1e9c93981dcdc36753"
      ],
      "layout": "IPY_MODEL_e558af83581f44e78ecc436cccb26eb8"
     }
    },
    "6abc1e5f8e5c43859db6696687cb853e": {
     "model_module": "@jupyter-widgets/base",
     "model_module_version": "1.2.0",
     "model_name": "LayoutModel",
     "state": {
      "_model_module": "@jupyter-widgets/base",
      "_model_module_version": "1.2.0",
      "_model_name": "LayoutModel",
      "_view_count": null,
      "_view_module": "@jupyter-widgets/base",
      "_view_module_version": "1.2.0",
      "_view_name": "LayoutView",
      "align_content": null,
      "align_items": null,
      "align_self": null,
      "border": null,
      "bottom": null,
      "display": null,
      "flex": null,
      "flex_flow": null,
      "grid_area": null,
      "grid_auto_columns": null,
      "grid_auto_flow": null,
      "grid_auto_rows": null,
      "grid_column": null,
      "grid_gap": null,
      "grid_row": null,
      "grid_template_areas": null,
      "grid_template_columns": null,
      "grid_template_rows": null,
      "height": null,
      "justify_content": null,
      "justify_items": null,
      "left": null,
      "margin": null,
      "max_height": null,
      "max_width": null,
      "min_height": null,
      "min_width": null,
      "object_fit": null,
      "object_position": null,
      "order": null,
      "overflow": null,
      "overflow_x": null,
      "overflow_y": null,
      "padding": null,
      "right": null,
      "top": null,
      "visibility": null,
      "width": null
     }
    },
    "6d380ebc441c4ea0bdbb84f215304c9e": {
     "model_module": "@jupyter-widgets/controls",
     "model_module_version": "1.5.0",
     "model_name": "DescriptionStyleModel",
     "state": {
      "_model_module": "@jupyter-widgets/controls",
      "_model_module_version": "1.5.0",
      "_model_name": "DescriptionStyleModel",
      "_view_count": null,
      "_view_module": "@jupyter-widgets/base",
      "_view_module_version": "1.2.0",
      "_view_name": "StyleView",
      "description_width": ""
     }
    },
    "70347210d13b4993a7bb067d5a2e6274": {
     "model_module": "@jupyter-widgets/controls",
     "model_module_version": "1.5.0",
     "model_name": "HTMLModel",
     "state": {
      "_dom_classes": [],
      "_model_module": "@jupyter-widgets/controls",
      "_model_module_version": "1.5.0",
      "_model_name": "HTMLModel",
      "_view_count": null,
      "_view_module": "@jupyter-widgets/controls",
      "_view_module_version": "1.5.0",
      "_view_name": "HTMLView",
      "description": "",
      "description_tooltip": null,
      "layout": "IPY_MODEL_c2bb1353bf1c43f2bcde4cda2d28ad33",
      "placeholder": "​",
      "style": "IPY_MODEL_7d08c7357c494ec39a2c262272592bb6",
      "value": " 439M/439M [00:04&lt;00:00, 111MB/s]"
     }
    },
    "7d08c7357c494ec39a2c262272592bb6": {
     "model_module": "@jupyter-widgets/controls",
     "model_module_version": "1.5.0",
     "model_name": "DescriptionStyleModel",
     "state": {
      "_model_module": "@jupyter-widgets/controls",
      "_model_module_version": "1.5.0",
      "_model_name": "DescriptionStyleModel",
      "_view_count": null,
      "_view_module": "@jupyter-widgets/base",
      "_view_module_version": "1.2.0",
      "_view_name": "StyleView",
      "description_width": ""
     }
    },
    "8dcf8f5e537346cca52d6bd94d058af5": {
     "model_module": "@jupyter-widgets/base",
     "model_module_version": "1.2.0",
     "model_name": "LayoutModel",
     "state": {
      "_model_module": "@jupyter-widgets/base",
      "_model_module_version": "1.2.0",
      "_model_name": "LayoutModel",
      "_view_count": null,
      "_view_module": "@jupyter-widgets/base",
      "_view_module_version": "1.2.0",
      "_view_name": "LayoutView",
      "align_content": null,
      "align_items": null,
      "align_self": null,
      "border": null,
      "bottom": null,
      "display": null,
      "flex": null,
      "flex_flow": null,
      "grid_area": null,
      "grid_auto_columns": null,
      "grid_auto_flow": null,
      "grid_auto_rows": null,
      "grid_column": null,
      "grid_gap": null,
      "grid_row": null,
      "grid_template_areas": null,
      "grid_template_columns": null,
      "grid_template_rows": null,
      "height": null,
      "justify_content": null,
      "justify_items": null,
      "left": null,
      "margin": null,
      "max_height": null,
      "max_width": null,
      "min_height": null,
      "min_width": null,
      "object_fit": null,
      "object_position": null,
      "order": null,
      "overflow": null,
      "overflow_x": null,
      "overflow_y": null,
      "padding": null,
      "right": null,
      "top": null,
      "visibility": null,
      "width": null
     }
    },
    "9ef661d3874f4301800f26e9475f5306": {
     "model_module": "@jupyter-widgets/base",
     "model_module_version": "1.2.0",
     "model_name": "LayoutModel",
     "state": {
      "_model_module": "@jupyter-widgets/base",
      "_model_module_version": "1.2.0",
      "_model_name": "LayoutModel",
      "_view_count": null,
      "_view_module": "@jupyter-widgets/base",
      "_view_module_version": "1.2.0",
      "_view_name": "LayoutView",
      "align_content": null,
      "align_items": null,
      "align_self": null,
      "border": null,
      "bottom": null,
      "display": null,
      "flex": null,
      "flex_flow": null,
      "grid_area": null,
      "grid_auto_columns": null,
      "grid_auto_flow": null,
      "grid_auto_rows": null,
      "grid_column": null,
      "grid_gap": null,
      "grid_row": null,
      "grid_template_areas": null,
      "grid_template_columns": null,
      "grid_template_rows": null,
      "height": null,
      "justify_content": null,
      "justify_items": null,
      "left": null,
      "margin": null,
      "max_height": null,
      "max_width": null,
      "min_height": null,
      "min_width": null,
      "object_fit": null,
      "object_position": null,
      "order": null,
      "overflow": null,
      "overflow_x": null,
      "overflow_y": null,
      "padding": null,
      "right": null,
      "top": null,
      "visibility": null,
      "width": null
     }
    },
    "a9dc4d9a4d424da2855ca1e6ad1f8047": {
     "model_module": "@jupyter-widgets/base",
     "model_module_version": "1.2.0",
     "model_name": "LayoutModel",
     "state": {
      "_model_module": "@jupyter-widgets/base",
      "_model_module_version": "1.2.0",
      "_model_name": "LayoutModel",
      "_view_count": null,
      "_view_module": "@jupyter-widgets/base",
      "_view_module_version": "1.2.0",
      "_view_name": "LayoutView",
      "align_content": null,
      "align_items": null,
      "align_self": null,
      "border": null,
      "bottom": null,
      "display": null,
      "flex": null,
      "flex_flow": null,
      "grid_area": null,
      "grid_auto_columns": null,
      "grid_auto_flow": null,
      "grid_auto_rows": null,
      "grid_column": null,
      "grid_gap": null,
      "grid_row": null,
      "grid_template_areas": null,
      "grid_template_columns": null,
      "grid_template_rows": null,
      "height": null,
      "justify_content": null,
      "justify_items": null,
      "left": null,
      "margin": null,
      "max_height": null,
      "max_width": null,
      "min_height": null,
      "min_width": null,
      "object_fit": null,
      "object_position": null,
      "order": null,
      "overflow": null,
      "overflow_x": null,
      "overflow_y": null,
      "padding": null,
      "right": null,
      "top": null,
      "visibility": null,
      "width": null
     }
    },
    "ace3e49d15104298847646d92c62812b": {
     "model_module": "@jupyter-widgets/base",
     "model_module_version": "1.2.0",
     "model_name": "LayoutModel",
     "state": {
      "_model_module": "@jupyter-widgets/base",
      "_model_module_version": "1.2.0",
      "_model_name": "LayoutModel",
      "_view_count": null,
      "_view_module": "@jupyter-widgets/base",
      "_view_module_version": "1.2.0",
      "_view_name": "LayoutView",
      "align_content": null,
      "align_items": null,
      "align_self": null,
      "border": null,
      "bottom": null,
      "display": null,
      "flex": null,
      "flex_flow": null,
      "grid_area": null,
      "grid_auto_columns": null,
      "grid_auto_flow": null,
      "grid_auto_rows": null,
      "grid_column": null,
      "grid_gap": null,
      "grid_row": null,
      "grid_template_areas": null,
      "grid_template_columns": null,
      "grid_template_rows": null,
      "height": null,
      "justify_content": null,
      "justify_items": null,
      "left": null,
      "margin": null,
      "max_height": null,
      "max_width": null,
      "min_height": null,
      "min_width": null,
      "object_fit": null,
      "object_position": null,
      "order": null,
      "overflow": null,
      "overflow_x": null,
      "overflow_y": null,
      "padding": null,
      "right": null,
      "top": null,
      "visibility": null,
      "width": null
     }
    },
    "b061e91a287844829859a88f7f1ad14c": {
     "model_module": "@jupyter-widgets/base",
     "model_module_version": "1.2.0",
     "model_name": "LayoutModel",
     "state": {
      "_model_module": "@jupyter-widgets/base",
      "_model_module_version": "1.2.0",
      "_model_name": "LayoutModel",
      "_view_count": null,
      "_view_module": "@jupyter-widgets/base",
      "_view_module_version": "1.2.0",
      "_view_name": "LayoutView",
      "align_content": null,
      "align_items": null,
      "align_self": null,
      "border": null,
      "bottom": null,
      "display": null,
      "flex": null,
      "flex_flow": null,
      "grid_area": null,
      "grid_auto_columns": null,
      "grid_auto_flow": null,
      "grid_auto_rows": null,
      "grid_column": null,
      "grid_gap": null,
      "grid_row": null,
      "grid_template_areas": null,
      "grid_template_columns": null,
      "grid_template_rows": null,
      "height": null,
      "justify_content": null,
      "justify_items": null,
      "left": null,
      "margin": null,
      "max_height": null,
      "max_width": null,
      "min_height": null,
      "min_width": null,
      "object_fit": null,
      "object_position": null,
      "order": null,
      "overflow": null,
      "overflow_x": null,
      "overflow_y": null,
      "padding": null,
      "right": null,
      "top": null,
      "visibility": null,
      "width": null
     }
    },
    "b67c432f757c4b9f89221ae74ba1e48d": {
     "model_module": "@jupyter-widgets/controls",
     "model_module_version": "1.5.0",
     "model_name": "FloatProgressModel",
     "state": {
      "_dom_classes": [],
      "_model_module": "@jupyter-widgets/controls",
      "_model_module_version": "1.5.0",
      "_model_name": "FloatProgressModel",
      "_view_count": null,
      "_view_module": "@jupyter-widgets/controls",
      "_view_module_version": "1.5.0",
      "_view_name": "ProgressView",
      "bar_style": "success",
      "description": "",
      "description_tooltip": null,
      "layout": "IPY_MODEL_5245a52b848749aea4001aaa7ed0c7aa",
      "max": 226122,
      "min": 0,
      "orientation": "horizontal",
      "style": "IPY_MODEL_d2cdd1056ac6445b9b0b999a214ae1fd",
      "value": 226122
     }
    },
    "b8cf133d61934ed9982ac0a5be2b2d52": {
     "model_module": "@jupyter-widgets/controls",
     "model_module_version": "1.5.0",
     "model_name": "ProgressStyleModel",
     "state": {
      "_model_module": "@jupyter-widgets/controls",
      "_model_module_version": "1.5.0",
      "_model_name": "ProgressStyleModel",
      "_view_count": null,
      "_view_module": "@jupyter-widgets/base",
      "_view_module_version": "1.2.0",
      "_view_name": "StyleView",
      "bar_color": null,
      "description_width": ""
     }
    },
    "c2bb1353bf1c43f2bcde4cda2d28ad33": {
     "model_module": "@jupyter-widgets/base",
     "model_module_version": "1.2.0",
     "model_name": "LayoutModel",
     "state": {
      "_model_module": "@jupyter-widgets/base",
      "_model_module_version": "1.2.0",
      "_model_name": "LayoutModel",
      "_view_count": null,
      "_view_module": "@jupyter-widgets/base",
      "_view_module_version": "1.2.0",
      "_view_name": "LayoutView",
      "align_content": null,
      "align_items": null,
      "align_self": null,
      "border": null,
      "bottom": null,
      "display": null,
      "flex": null,
      "flex_flow": null,
      "grid_area": null,
      "grid_auto_columns": null,
      "grid_auto_flow": null,
      "grid_auto_rows": null,
      "grid_column": null,
      "grid_gap": null,
      "grid_row": null,
      "grid_template_areas": null,
      "grid_template_columns": null,
      "grid_template_rows": null,
      "height": null,
      "justify_content": null,
      "justify_items": null,
      "left": null,
      "margin": null,
      "max_height": null,
      "max_width": null,
      "min_height": null,
      "min_width": null,
      "object_fit": null,
      "object_position": null,
      "order": null,
      "overflow": null,
      "overflow_x": null,
      "overflow_y": null,
      "padding": null,
      "right": null,
      "top": null,
      "visibility": null,
      "width": null
     }
    },
    "cfc76ce474dc4b1e9c93981dcdc36753": {
     "model_module": "@jupyter-widgets/controls",
     "model_module_version": "1.5.0",
     "model_name": "HTMLModel",
     "state": {
      "_dom_classes": [],
      "_model_module": "@jupyter-widgets/controls",
      "_model_module_version": "1.5.0",
      "_model_name": "HTMLModel",
      "_view_count": null,
      "_view_module": "@jupyter-widgets/controls",
      "_view_module_version": "1.5.0",
      "_view_name": "HTMLView",
      "description": "",
      "description_tooltip": null,
      "layout": "IPY_MODEL_8dcf8f5e537346cca52d6bd94d058af5",
      "placeholder": "​",
      "style": "IPY_MODEL_1d1feda31e0b48f0bab76154119288f4",
      "value": " 226k/226k [00:00&lt;00:00, 2.16MB/s]"
     }
    },
    "d2cdd1056ac6445b9b0b999a214ae1fd": {
     "model_module": "@jupyter-widgets/controls",
     "model_module_version": "1.5.0",
     "model_name": "ProgressStyleModel",
     "state": {
      "_model_module": "@jupyter-widgets/controls",
      "_model_module_version": "1.5.0",
      "_model_name": "ProgressStyleModel",
      "_view_count": null,
      "_view_module": "@jupyter-widgets/base",
      "_view_module_version": "1.2.0",
      "_view_name": "StyleView",
      "bar_color": null,
      "description_width": ""
     }
    },
    "daf289c5e6d346d1a494400b37408e8c": {
     "model_module": "@jupyter-widgets/controls",
     "model_module_version": "1.5.0",
     "model_name": "HTMLModel",
     "state": {
      "_dom_classes": [],
      "_model_module": "@jupyter-widgets/controls",
      "_model_module_version": "1.5.0",
      "_model_name": "HTMLModel",
      "_view_count": null,
      "_view_module": "@jupyter-widgets/controls",
      "_view_module_version": "1.5.0",
      "_view_name": "HTMLView",
      "description": "",
      "description_tooltip": null,
      "layout": "IPY_MODEL_b061e91a287844829859a88f7f1ad14c",
      "placeholder": "​",
      "style": "IPY_MODEL_040072bb05cb45718263349c6e32553c",
      "value": "vocab.txt: 100%"
     }
    },
    "dd3ec711065b484ba26388808b5f3957": {
     "model_module": "@jupyter-widgets/controls",
     "model_module_version": "1.5.0",
     "model_name": "HTMLModel",
     "state": {
      "_dom_classes": [],
      "_model_module": "@jupyter-widgets/controls",
      "_model_module_version": "1.5.0",
      "_model_name": "HTMLModel",
      "_view_count": null,
      "_view_module": "@jupyter-widgets/controls",
      "_view_module_version": "1.5.0",
      "_view_name": "HTMLView",
      "description": "",
      "description_tooltip": null,
      "layout": "IPY_MODEL_ff8c2d579232498b9d5ad2e78a737054",
      "placeholder": "​",
      "style": "IPY_MODEL_2bc911b864914c5287fc700d1ce16730",
      "value": "pytorch_model.bin: 100%"
     }
    },
    "e286e84aac3d4c4cbeb99b45df0dee43": {
     "model_module": "@jupyter-widgets/controls",
     "model_module_version": "1.5.0",
     "model_name": "FloatProgressModel",
     "state": {
      "_dom_classes": [],
      "_model_module": "@jupyter-widgets/controls",
      "_model_module_version": "1.5.0",
      "_model_name": "FloatProgressModel",
      "_view_count": null,
      "_view_module": "@jupyter-widgets/controls",
      "_view_module_version": "1.5.0",
      "_view_name": "ProgressView",
      "bar_style": "success",
      "description": "",
      "description_tooltip": null,
      "layout": "IPY_MODEL_2a1c131c0b674746875442ca39ed7b28",
      "max": 533,
      "min": 0,
      "orientation": "horizontal",
      "style": "IPY_MODEL_b8cf133d61934ed9982ac0a5be2b2d52",
      "value": 533
     }
    },
    "e558af83581f44e78ecc436cccb26eb8": {
     "model_module": "@jupyter-widgets/base",
     "model_module_version": "1.2.0",
     "model_name": "LayoutModel",
     "state": {
      "_model_module": "@jupyter-widgets/base",
      "_model_module_version": "1.2.0",
      "_model_name": "LayoutModel",
      "_view_count": null,
      "_view_module": "@jupyter-widgets/base",
      "_view_module_version": "1.2.0",
      "_view_name": "LayoutView",
      "align_content": null,
      "align_items": null,
      "align_self": null,
      "border": null,
      "bottom": null,
      "display": null,
      "flex": null,
      "flex_flow": null,
      "grid_area": null,
      "grid_auto_columns": null,
      "grid_auto_flow": null,
      "grid_auto_rows": null,
      "grid_column": null,
      "grid_gap": null,
      "grid_row": null,
      "grid_template_areas": null,
      "grid_template_columns": null,
      "grid_template_rows": null,
      "height": null,
      "justify_content": null,
      "justify_items": null,
      "left": null,
      "margin": null,
      "max_height": null,
      "max_width": null,
      "min_height": null,
      "min_width": null,
      "object_fit": null,
      "object_position": null,
      "order": null,
      "overflow": null,
      "overflow_x": null,
      "overflow_y": null,
      "padding": null,
      "right": null,
      "top": null,
      "visibility": null,
      "width": null
     }
    },
    "e5cedb581ef944c2854d3c7ea94139f0": {
     "model_module": "@jupyter-widgets/controls",
     "model_module_version": "1.5.0",
     "model_name": "ProgressStyleModel",
     "state": {
      "_model_module": "@jupyter-widgets/controls",
      "_model_module_version": "1.5.0",
      "_model_name": "ProgressStyleModel",
      "_view_count": null,
      "_view_module": "@jupyter-widgets/base",
      "_view_module_version": "1.2.0",
      "_view_name": "StyleView",
      "bar_color": null,
      "description_width": ""
     }
    },
    "ef54f49ff4b34da899e48aa874661b29": {
     "model_module": "@jupyter-widgets/controls",
     "model_module_version": "1.5.0",
     "model_name": "FloatProgressModel",
     "state": {
      "_dom_classes": [],
      "_model_module": "@jupyter-widgets/controls",
      "_model_module_version": "1.5.0",
      "_model_name": "FloatProgressModel",
      "_view_count": null,
      "_view_module": "@jupyter-widgets/controls",
      "_view_module_version": "1.5.0",
      "_view_name": "ProgressView",
      "bar_style": "success",
      "description": "",
      "description_tooltip": null,
      "layout": "IPY_MODEL_42d269c027b144b1bd3d0687c21e1b27",
      "max": 439101405,
      "min": 0,
      "orientation": "horizontal",
      "style": "IPY_MODEL_e5cedb581ef944c2854d3c7ea94139f0",
      "value": 439101405
     }
    },
    "ff8c2d579232498b9d5ad2e78a737054": {
     "model_module": "@jupyter-widgets/base",
     "model_module_version": "1.2.0",
     "model_name": "LayoutModel",
     "state": {
      "_model_module": "@jupyter-widgets/base",
      "_model_module_version": "1.2.0",
      "_model_name": "LayoutModel",
      "_view_count": null,
      "_view_module": "@jupyter-widgets/base",
      "_view_module_version": "1.2.0",
      "_view_name": "LayoutView",
      "align_content": null,
      "align_items": null,
      "align_self": null,
      "border": null,
      "bottom": null,
      "display": null,
      "flex": null,
      "flex_flow": null,
      "grid_area": null,
      "grid_auto_columns": null,
      "grid_auto_flow": null,
      "grid_auto_rows": null,
      "grid_column": null,
      "grid_gap": null,
      "grid_row": null,
      "grid_template_areas": null,
      "grid_template_columns": null,
      "grid_template_rows": null,
      "height": null,
      "justify_content": null,
      "justify_items": null,
      "left": null,
      "margin": null,
      "max_height": null,
      "max_width": null,
      "min_height": null,
      "min_width": null,
      "object_fit": null,
      "object_position": null,
      "order": null,
      "overflow": null,
      "overflow_x": null,
      "overflow_y": null,
      "padding": null,
      "right": null,
      "top": null,
      "visibility": null,
      "width": null
     }
    }
   }
>>>>>>> d0db4468b71c2be214fe68171c691dbba0946069
  }
 },
 "nbformat": 4,
 "nbformat_minor": 4
}
